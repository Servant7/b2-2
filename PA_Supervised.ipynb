{
  "nbformat": 4,
  "nbformat_minor": 0,
  "metadata": {
    "colab": {
      "provenance": [],
      "collapsed_sections": [
        "L48Uv8kmTN-l"
      ],
      "include_colab_link": true
    },
    "kernelspec": {
      "name": "python3",
      "display_name": "Python 3"
    },
    "language_info": {
      "name": "python"
    }
  },
  "cells": [
    {
      "cell_type": "markdown",
      "metadata": {
        "id": "view-in-github",
        "colab_type": "text"
      },
      "source": [
        "<a href=\"https://colab.research.google.com/github/Servant7/b2-2/blob/main/PA_Supervised.ipynb\" target=\"_parent\"><img src=\"https://colab.research.google.com/assets/colab-badge.svg\" alt=\"Open In Colab\"/></a>"
      ]
    },
    {
      "cell_type": "markdown",
      "source": [
        "# **Link Kagle, Import Data, dll**"
      ],
      "metadata": {
        "id": "BI4wMKlKUcjT"
      }
    },
    {
      "cell_type": "code",
      "source": [
        "#link_kagle = https://www.kaggle.com/uciml/pima-indians-diabetes-database\n",
        "#mengimport dataset\n",
        "link = \"https://drive.google.com/file/d/1Nq_1IsER8sNse48RJE87hvcIBQiWdhqc/view?usp=sharing\"\n",
        "link_url = \"https://drive.google.com/uc?id=1Nq_1IsER8sNse48RJE87hvcIBQiWdhqc\""
      ],
      "metadata": {
        "id": "xlHNn3iJUh3G"
      },
      "execution_count": 1,
      "outputs": []
    },
    {
      "cell_type": "code",
      "source": [
        "#mengimport pandas, numpy, dll\n",
        "import pandas as pd\n",
        "import seaborn as sns\n",
        "import numpy as np\n",
        "import matplotlib.pyplot as plt\n",
        "import plotly.express as px"
      ],
      "metadata": {
        "id": "fdyS238FUjMJ"
      },
      "execution_count": 2,
      "outputs": []
    },
    {
      "cell_type": "code",
      "source": [
        "#Fungsi ini untuk melihat persentase data terisi dan kosong\n",
        "def null_ratio(df, limit=-1):\n",
        "  percent_missing = df.isnull().sum() * 100 / len(df)\n",
        "  df_result = pd.DataFrame({\n",
        "      \"filled\":df.notnull().sum(),\n",
        "      \"N null\":df.isna().sum(),\n",
        "      \"null_ratio(%)\": percent_missing,\n",
        "      }\n",
        "  )\n",
        "  nr =  df_result.sort_values(\"null_ratio(%)\",ascending=False)\n",
        "  return nr[nr[\"null_ratio(%)\"] > limit]\n"
      ],
      "metadata": {
        "id": "oZ0CPVVUUkZO"
      },
      "execution_count": 3,
      "outputs": []
    },
    {
      "cell_type": "markdown",
      "source": [
        "# **Business Understanding**<br>"
      ],
      "metadata": {
        "id": "L48Uv8kmTN-l"
      }
    },
    {
      "cell_type": "markdown",
      "source": [
        "**Determine Business Objectives**\n",
        "1.   Tentang<br>\n",
        "Kumpulan data terdiri dari beberapa variabel prediktor medis dan satu variabel target, Hasil. Variabel prediktor meliputi jumlah kehamilan yang dialami pasien, IMT, kadar insulin, usia, dan sebagainya.\n",
        "<br><br>\n",
        "\n",
        "2.   Tujuan<br>\n",
        "Kumpulan data ini berasal dari National Institute of Diabetes and Digestive and Kidney Diseases. Tujuan dari kumpulan data ini adalah untuk memprediksi secara diagnostik apakah seorang pasien menderita diabetes atau tidak, berdasarkan pengukuran diagnostik tertentu yang termasuk dalam kumpulan data. Beberapa batasan ditempatkan pada pemilihan instance ini dari database yang lebih besar. Secara khusus, semua pasien di sini adalah perempuan berusia minimal 21 tahun keturunan India Pima.\n",
        "<br><br>\n",
        "\n",
        "3. Alasan menggunakan Data Mining <br>\n",
        "Alasan kami menggunakan data mining pada kasus ini adalah karena ingin memprediksi secara diagnostik apakah seorang pasien menderita diabetes atau tidak dengan berdasarkan pengukuran diagnostik tertentu yang termasuk dalam kumpulan data"
      ],
      "metadata": {
        "id": "IAl8K4i73spZ"
      }
    },
    {
      "cell_type": "markdown",
      "source": [
        "**Assess Situasion**\n",
        "\n",
        "\n",
        "1.   Tools yang digunakan<br>\n",
        "Tools yang kami gunakan diantaranya adalah kagle berupa sumber dataset, kemudian google drive sebagai penyimpanan data, dan terakhir adalah google collab sebagai eksekusi data\n",
        "<br><br>\n",
        "\n",
        "2.   Keuntungan dan Kelebihan<br>\n",
        "Penelitian ini sangat penting karena bertujuan untuk memprediksi apakah seorang pasien menderita diabetes atau tidak. Data yang dikumpulkan dari penelitian ini dapat memberikan informasi yang berguna bagi pihak dinas kesehatan agar dapat melakukan peningkatan kesadaran masyarakat tentang diabetes ataupun meningkatkan perencanaan dan pengelolaan sumber daya kesehatan. Bagi para penyedia layanan kesehatan dan para peneliti juga agar dapat memberikan layanan yang lebih baik seperti memberikan penanganan yang tepat, meminimalkan risiko komplikasi, menyediakan layanan konseling yang lebih baik, serta mengembangkan program pengendalian diabetes yang lebih baik."
      ],
      "metadata": {
        "id": "ZU_L8sCD3xHG"
      }
    },
    {
      "cell_type": "markdown",
      "source": [
        "# **Data Understanding**<br>\n",
        "Terdiri atas collect initial data, describe data, dan explore data"
      ],
      "metadata": {
        "id": "4RSARjlrv5hJ"
      }
    },
    {
      "cell_type": "markdown",
      "source": [
        "**1. Collect Initial Data**"
      ],
      "metadata": {
        "id": "u0-ex_5DRBUL"
      }
    },
    {
      "cell_type": "code",
      "source": [
        "#memasukkan dataset kedalam variable df\n",
        "df = pd.read_csv(link_url)"
      ],
      "metadata": {
        "id": "xqI-Ndn-RF2M"
      },
      "execution_count": 4,
      "outputs": []
    },
    {
      "cell_type": "code",
      "source": [
        "# Terdapat 768 baris dan 9 kolom pada data ini\n",
        "df.shape"
      ],
      "metadata": {
        "colab": {
          "base_uri": "https://localhost:8080/"
        },
        "id": "9mPsVmSIRJ9A",
        "outputId": "e065ec8c-415b-4643-9b2a-8bad9d76a898"
      },
      "execution_count": 5,
      "outputs": [
        {
          "output_type": "execute_result",
          "data": {
            "text/plain": [
              "(768, 9)"
            ]
          },
          "metadata": {},
          "execution_count": 5
        }
      ]
    },
    {
      "cell_type": "code",
      "source": [
        "#terdapat 268 pasien yang terkena diabetes dan 500 tidak\n",
        "df.Outcome.value_counts()"
      ],
      "metadata": {
        "colab": {
          "base_uri": "https://localhost:8080/"
        },
        "id": "qJF_B1EERMOz",
        "outputId": "cf2c8fc8-57e9-4bbf-80c0-07a80810094e"
      },
      "execution_count": 6,
      "outputs": [
        {
          "output_type": "execute_result",
          "data": {
            "text/plain": [
              "0    500\n",
              "1    268\n",
              "Name: Outcome, dtype: int64"
            ]
          },
          "metadata": {},
          "execution_count": 6
        }
      ]
    },
    {
      "cell_type": "code",
      "source": [
        "#menampilkan 5 data teratas\n",
        "df.head()"
      ],
      "metadata": {
        "colab": {
          "base_uri": "https://localhost:8080/",
          "height": 206
        },
        "id": "TXNPdmHr4GkS",
        "outputId": "ee29aa26-9bbb-42c6-fea4-5d94f7056963"
      },
      "execution_count": 7,
      "outputs": [
        {
          "output_type": "execute_result",
          "data": {
            "text/plain": [
              "   Pregnancies  Glucose  BloodPressure  SkinThickness  Insulin   BMI  \\\n",
              "0            6      148             72             35        0  33.6   \n",
              "1            1       85             66             29        0  26.6   \n",
              "2            8      183             64              0        0  23.3   \n",
              "3            1       89             66             23       94  28.1   \n",
              "4            0      137             40             35      168  43.1   \n",
              "\n",
              "   DiabetesPedigreeFunction  Age  Outcome  \n",
              "0                     0.627   50        1  \n",
              "1                     0.351   31        0  \n",
              "2                     0.672   32        1  \n",
              "3                     0.167   21        0  \n",
              "4                     2.288   33        1  "
            ],
            "text/html": [
              "\n",
              "  <div id=\"df-33b45856-ca55-49fc-8d19-42519a633853\">\n",
              "    <div class=\"colab-df-container\">\n",
              "      <div>\n",
              "<style scoped>\n",
              "    .dataframe tbody tr th:only-of-type {\n",
              "        vertical-align: middle;\n",
              "    }\n",
              "\n",
              "    .dataframe tbody tr th {\n",
              "        vertical-align: top;\n",
              "    }\n",
              "\n",
              "    .dataframe thead th {\n",
              "        text-align: right;\n",
              "    }\n",
              "</style>\n",
              "<table border=\"1\" class=\"dataframe\">\n",
              "  <thead>\n",
              "    <tr style=\"text-align: right;\">\n",
              "      <th></th>\n",
              "      <th>Pregnancies</th>\n",
              "      <th>Glucose</th>\n",
              "      <th>BloodPressure</th>\n",
              "      <th>SkinThickness</th>\n",
              "      <th>Insulin</th>\n",
              "      <th>BMI</th>\n",
              "      <th>DiabetesPedigreeFunction</th>\n",
              "      <th>Age</th>\n",
              "      <th>Outcome</th>\n",
              "    </tr>\n",
              "  </thead>\n",
              "  <tbody>\n",
              "    <tr>\n",
              "      <th>0</th>\n",
              "      <td>6</td>\n",
              "      <td>148</td>\n",
              "      <td>72</td>\n",
              "      <td>35</td>\n",
              "      <td>0</td>\n",
              "      <td>33.6</td>\n",
              "      <td>0.627</td>\n",
              "      <td>50</td>\n",
              "      <td>1</td>\n",
              "    </tr>\n",
              "    <tr>\n",
              "      <th>1</th>\n",
              "      <td>1</td>\n",
              "      <td>85</td>\n",
              "      <td>66</td>\n",
              "      <td>29</td>\n",
              "      <td>0</td>\n",
              "      <td>26.6</td>\n",
              "      <td>0.351</td>\n",
              "      <td>31</td>\n",
              "      <td>0</td>\n",
              "    </tr>\n",
              "    <tr>\n",
              "      <th>2</th>\n",
              "      <td>8</td>\n",
              "      <td>183</td>\n",
              "      <td>64</td>\n",
              "      <td>0</td>\n",
              "      <td>0</td>\n",
              "      <td>23.3</td>\n",
              "      <td>0.672</td>\n",
              "      <td>32</td>\n",
              "      <td>1</td>\n",
              "    </tr>\n",
              "    <tr>\n",
              "      <th>3</th>\n",
              "      <td>1</td>\n",
              "      <td>89</td>\n",
              "      <td>66</td>\n",
              "      <td>23</td>\n",
              "      <td>94</td>\n",
              "      <td>28.1</td>\n",
              "      <td>0.167</td>\n",
              "      <td>21</td>\n",
              "      <td>0</td>\n",
              "    </tr>\n",
              "    <tr>\n",
              "      <th>4</th>\n",
              "      <td>0</td>\n",
              "      <td>137</td>\n",
              "      <td>40</td>\n",
              "      <td>35</td>\n",
              "      <td>168</td>\n",
              "      <td>43.1</td>\n",
              "      <td>2.288</td>\n",
              "      <td>33</td>\n",
              "      <td>1</td>\n",
              "    </tr>\n",
              "  </tbody>\n",
              "</table>\n",
              "</div>\n",
              "      <button class=\"colab-df-convert\" onclick=\"convertToInteractive('df-33b45856-ca55-49fc-8d19-42519a633853')\"\n",
              "              title=\"Convert this dataframe to an interactive table.\"\n",
              "              style=\"display:none;\">\n",
              "        \n",
              "  <svg xmlns=\"http://www.w3.org/2000/svg\" height=\"24px\"viewBox=\"0 0 24 24\"\n",
              "       width=\"24px\">\n",
              "    <path d=\"M0 0h24v24H0V0z\" fill=\"none\"/>\n",
              "    <path d=\"M18.56 5.44l.94 2.06.94-2.06 2.06-.94-2.06-.94-.94-2.06-.94 2.06-2.06.94zm-11 1L8.5 8.5l.94-2.06 2.06-.94-2.06-.94L8.5 2.5l-.94 2.06-2.06.94zm10 10l.94 2.06.94-2.06 2.06-.94-2.06-.94-.94-2.06-.94 2.06-2.06.94z\"/><path d=\"M17.41 7.96l-1.37-1.37c-.4-.4-.92-.59-1.43-.59-.52 0-1.04.2-1.43.59L10.3 9.45l-7.72 7.72c-.78.78-.78 2.05 0 2.83L4 21.41c.39.39.9.59 1.41.59.51 0 1.02-.2 1.41-.59l7.78-7.78 2.81-2.81c.8-.78.8-2.07 0-2.86zM5.41 20L4 18.59l7.72-7.72 1.47 1.35L5.41 20z\"/>\n",
              "  </svg>\n",
              "      </button>\n",
              "      \n",
              "  <style>\n",
              "    .colab-df-container {\n",
              "      display:flex;\n",
              "      flex-wrap:wrap;\n",
              "      gap: 12px;\n",
              "    }\n",
              "\n",
              "    .colab-df-convert {\n",
              "      background-color: #E8F0FE;\n",
              "      border: none;\n",
              "      border-radius: 50%;\n",
              "      cursor: pointer;\n",
              "      display: none;\n",
              "      fill: #1967D2;\n",
              "      height: 32px;\n",
              "      padding: 0 0 0 0;\n",
              "      width: 32px;\n",
              "    }\n",
              "\n",
              "    .colab-df-convert:hover {\n",
              "      background-color: #E2EBFA;\n",
              "      box-shadow: 0px 1px 2px rgba(60, 64, 67, 0.3), 0px 1px 3px 1px rgba(60, 64, 67, 0.15);\n",
              "      fill: #174EA6;\n",
              "    }\n",
              "\n",
              "    [theme=dark] .colab-df-convert {\n",
              "      background-color: #3B4455;\n",
              "      fill: #D2E3FC;\n",
              "    }\n",
              "\n",
              "    [theme=dark] .colab-df-convert:hover {\n",
              "      background-color: #434B5C;\n",
              "      box-shadow: 0px 1px 3px 1px rgba(0, 0, 0, 0.15);\n",
              "      filter: drop-shadow(0px 1px 2px rgba(0, 0, 0, 0.3));\n",
              "      fill: #FFFFFF;\n",
              "    }\n",
              "  </style>\n",
              "\n",
              "      <script>\n",
              "        const buttonEl =\n",
              "          document.querySelector('#df-33b45856-ca55-49fc-8d19-42519a633853 button.colab-df-convert');\n",
              "        buttonEl.style.display =\n",
              "          google.colab.kernel.accessAllowed ? 'block' : 'none';\n",
              "\n",
              "        async function convertToInteractive(key) {\n",
              "          const element = document.querySelector('#df-33b45856-ca55-49fc-8d19-42519a633853');\n",
              "          const dataTable =\n",
              "            await google.colab.kernel.invokeFunction('convertToInteractive',\n",
              "                                                     [key], {});\n",
              "          if (!dataTable) return;\n",
              "\n",
              "          const docLinkHtml = 'Like what you see? Visit the ' +\n",
              "            '<a target=\"_blank\" href=https://colab.research.google.com/notebooks/data_table.ipynb>data table notebook</a>'\n",
              "            + ' to learn more about interactive tables.';\n",
              "          element.innerHTML = '';\n",
              "          dataTable['output_type'] = 'display_data';\n",
              "          await google.colab.output.renderOutput(dataTable, element);\n",
              "          const docLink = document.createElement('div');\n",
              "          docLink.innerHTML = docLinkHtml;\n",
              "          element.appendChild(docLink);\n",
              "        }\n",
              "      </script>\n",
              "    </div>\n",
              "  </div>\n",
              "  "
            ]
          },
          "metadata": {},
          "execution_count": 7
        }
      ]
    },
    {
      "cell_type": "code",
      "source": [
        "#melihat daftar kolom yang ada pada dataframe\n",
        "print(\"Daftar kolom:\")\n",
        "for col in df.columns:\n",
        "  print(col)"
      ],
      "metadata": {
        "colab": {
          "base_uri": "https://localhost:8080/"
        },
        "id": "8pvXtKxH4S-W",
        "outputId": "eb299dfa-a19b-4c93-888e-05fa4487f932"
      },
      "execution_count": 8,
      "outputs": [
        {
          "output_type": "stream",
          "name": "stdout",
          "text": [
            "Daftar kolom:\n",
            "Pregnancies\n",
            "Glucose\n",
            "BloodPressure\n",
            "SkinThickness\n",
            "Insulin\n",
            "BMI\n",
            "DiabetesPedigreeFunction\n",
            "Age\n",
            "Outcome\n"
          ]
        }
      ]
    },
    {
      "cell_type": "markdown",
      "source": [
        "**2. Describe Data**<br>\n",
        "\n",
        "\n",
        "> Dataset ini memiliki beberapa kolom atau kriteria-kriteria yang akan menentukan apakah seorang pasien mengidap diabetes atau tidak. Dataset yang digunakan memiliki 768 baris data yang tersusun dalam 9 kolom. \n",
        "\n",
        "> Berikut beberapa kolom yang tersedia diantaranya yaitu: \n",
        "\n",
        "> 1. **Pregnancies:** Kolom Pregnancies digunakan untuk menunjukkan jumlah frekuensi kehamilan seorang pasien.\n",
        "2. **Glucose:** Kolom Glucose digunakan \n",
        "untuk mengetahui kadar glukosa darah 2 jam setelah mengkonsumsi larutan glukosa, yang dilakukan dalam tes toleransi glukosa oral untuk mendeteksi penyakit diabetes.\n",
        "3. **BloodPressure:** Kolom BloodPressure menunjukkan tekanan darah diastolik seseorang dalam mmHg.\n",
        "4. **SkinThickness:** Kolom SkinThickness digunakan untuk menunjukkan ketebalan lipatan kulit trisep (mm) untuk memeriksa cadangan lemak pada tubuh dan mendeteksi diabetes pada wanita.\n",
        "5. **Insulin:** Kolom Insulin digunakan \n",
        "untuk mengetahui kadar insulin di\n",
        "dalam darah 2 jam setelah makan dalam satuan mu U/ml.\n",
        "6. **BMI:** Kolom BMI digunakan untuk mengukur indikator massa tubuh pasien (berat dalam kg/(tinggi dalam m)^2).\n",
        "7. **DiabetesPedigreeFunction:** Kolom DiabetesPedigreeFunction digunakan untuk menilai kemungkinan diabetes berdasarkan hubungan genetik riwayat keluarga. \n",
        "8. **Age:** Kolom Age menunjukkan usia pasien wanita suku Indian Pima.\n",
        "9. **Outcome:** Kolom Outcome merupakan target nilai prediksi apakah seorang pasien mengidap diabetes atau tidak. Dengan nilai 0 untuk tidak mengidap diabetes dan 1 untuk mengidap diabetes.\n",
        "\n"
      ],
      "metadata": {
        "id": "VSzpGyymwEev"
      }
    },
    {
      "cell_type": "markdown",
      "source": [
        "**3. Eksplore Data**<br>\n",
        "Terbagi menjadi comparison dan distribution\n"
      ],
      "metadata": {
        "id": "nrAmF7TGwjsR"
      }
    },
    {
      "cell_type": "markdown",
      "source": [
        "**A. Comparison**"
      ],
      "metadata": {
        "id": "A_F1xcjWwq2f"
      }
    },
    {
      "cell_type": "code",
      "source": [
        "#Perbandingan Pasien yang diabetes dan Tidak\n",
        "sns.countplot(data=df,x=\"Outcome\")\n",
        "#pada gambar dibawah, dapat dilihat pasien yang terkena diabetes berjumlah lebih sedikit (sekitar 200an) \n",
        "#sementara yang tidak berjumlah sekitar kurang dari 500an\n",
        "#jika kita menggunakan sintaks \"df.Outcome.value_counts()\" maka pada outputnya, terdapat 268 pasien yang terkena diabetes dan 500 tidak"
      ],
      "metadata": {
        "id": "ra7XRhSTw8tn",
        "colab": {
          "base_uri": "https://localhost:8080/",
          "height": 466
        },
        "outputId": "d602d205-2cde-4098-a836-f4cb1a3d851c"
      },
      "execution_count": 9,
      "outputs": [
        {
          "output_type": "execute_result",
          "data": {
            "text/plain": [
              "<Axes: xlabel='Outcome', ylabel='count'>"
            ]
          },
          "metadata": {},
          "execution_count": 9
        },
        {
          "output_type": "display_data",
          "data": {
            "text/plain": [
              "<Figure size 640x480 with 1 Axes>"
            ],
            "image/png": "[encoded data removed]"
          },
          "metadata": {}
        }
      ]
    },
    {
      "cell_type": "code",
      "source": [
        "#Perbandingan Pasien yang Outcome dan tidak berdasarkan Umur\n",
        "sns.countplot(data=df,x=\"Age\",hue=\"Outcome\")"
      ],
      "metadata": {
        "id": "OvOMJh2HxCuu",
        "colab": {
          "base_uri": "https://localhost:8080/",
          "height": 466
        },
        "outputId": "47d439b0-7ef1-4e80-f427-d20520430663"
      },
      "execution_count": 10,
      "outputs": [
        {
          "output_type": "execute_result",
          "data": {
            "text/plain": [
              "<Axes: xlabel='Age', ylabel='count'>"
            ]
          },
          "metadata": {},
          "execution_count": 10
        },
        {
          "output_type": "display_data",
          "data": {
            "text/plain": [
              "<Figure size 640x480 with 1 Axes>"
            ],
            "image/png": "[encoded data removed]"
          },
          "metadata": {}
        }
      ]
    },
    {
      "cell_type": "markdown",
      "source": [
        "**B. Distribution**"
      ],
      "metadata": {
        "id": "kZ31PTapwt5x"
      }
    },
    {
      "cell_type": "code",
      "source": [
        "#perbandingan pasien yang diabetes dan tidak berdasarkan umur menggunakan diagram batang dengan bantuan garis\n",
        "#sebenarnya sama aja kek di atas, cuman yang ini lebih interaktif/menarik tampilannya\n",
        "\n",
        "sns.histplot(data=df,x=\"Age\",hue='Outcome',kde=True)\n",
        "#kde=True berguna untuk menambahkan garis"
      ],
      "metadata": {
        "id": "SHfAUwtVxSpv",
        "colab": {
          "base_uri": "https://localhost:8080/",
          "height": 466
        },
        "outputId": "68d9163c-2c65-45ed-bc49-22096f988333"
      },
      "execution_count": 11,
      "outputs": [
        {
          "output_type": "execute_result",
          "data": {
            "text/plain": [
              "<Axes: xlabel='Age', ylabel='Count'>"
            ]
          },
          "metadata": {},
          "execution_count": 11
        },
        {
          "output_type": "display_data",
          "data": {
            "text/plain": [
              "<Figure size 640x480 with 1 Axes>"
            ],
            "image/png": "[encoded data removed]"
          },
          "metadata": {}
        }
      ]
    },
    {
      "cell_type": "code",
      "source": [
        "#menggunakan histogram (sama juga kek 2 diagram di atas, cuman ini data yang ditampilkan jauh lebih menarik)\n",
        "#intinya 3 diagram batang ini sama aja, cuman makin kesini makin menarik\n",
        "#tampilin aja di ppt 3 gambar diagram batang ini\n",
        "px.histogram(df,x=\"Age\",color='Outcome')"
      ],
      "metadata": {
        "colab": {
          "base_uri": "https://localhost:8080/",
          "height": 542
        },
        "id": "zpb-cfJh5n2m",
        "outputId": "00c93b01-2744-4aaa-dd82-f4b164feaf5d"
      },
      "execution_count": 12,
      "outputs": [
        {
          "output_type": "display_data",
          "data": {
            "text/html": [
              "<html>\n",
              "<head><meta charset=\"utf-8\" /></head>\n",
              "<body>\n",
              "    <div>            <script src=\"https://cdnjs.cloudflare.com/ajax/libs/mathjax/2.7.5/MathJax.js?config=TeX-AMS-MML_SVG\"></script><script type=\"text/javascript\">if (window.MathJax && window.MathJax.Hub && window.MathJax.Hub.Config) {window.MathJax.Hub.Config({SVG: {font: \"STIX-Web\"}});}</script>                <script type=\"text/javascript\">window.PlotlyConfig = {MathJaxConfig: 'local'};</script>\n",
              "        <script src=\"https://cdn.plot.ly/plotly-2.18.2.min.js\"></script>                <div id=\"77ea35ec-7c13-4b8f-8752-9b7b9cd6623d\" class=\"plotly-graph-div\" style=\"height:525px; width:100%;\"></div>            <script type=\"text/javascript\">                                    window.PLOTLYENV=window.PLOTLYENV || {};                                    if (document.getElementById(\"77ea35ec-7c13-4b8f-8752-9b7b9cd6623d\")) {                    Plotly.newPlot(                        \"77ea35ec-7c13-4b8f-8752-9b7b9cd6623d\",                        [{\"alignmentgroup\":\"True\",\"bingroup\":\"x\",\"hovertemplate\":\"Outcome=1<br>Age=%{x}<br>count=%{y}<extra></extra>\",\"legendgroup\":\"1\",\"marker\":{\"color\":\"#636efa\",\"pattern\":{\"shape\":\"\"}},\"name\":\"1\",\"offsetgroup\":\"1\",\"orientation\":\"v\",\"showlegend\":true,\"x\":[50,32,33,26,53,54,34,59,51,32,31,31,32,41,29,51,41,43,28,46,27,56,54,25,31,58,41,39,42,38,28,42,26,37,43,60,31,33,24,24,46,39,61,38,25,23,26,40,62,33,33,30,42,42,43,36,47,32,41,36,29,36,26,37,41,60,33,31,25,36,40,29,23,26,29,57,52,41,24,36,38,25,32,41,21,66,24,22,46,26,51,23,32,22,33,49,44,21,51,27,35,25,28,38,29,28,47,52,29,25,31,24,29,46,30,25,28,47,25,30,27,43,29,59,25,36,43,30,23,41,44,33,41,37,49,28,44,29,29,67,29,45,25,58,32,35,45,58,27,31,22,25,31,35,41,46,39,28,21,22,37,28,36,31,38,43,29,41,33,30,25,22,23,38,51,38,29,35,31,24,45,55,41,35,46,28,53,45,23,32,43,27,56,37,53,54,28,33,21,62,21,52,41,52,45,44,22,38,54,36,22,36,40,50,50,24,34,38,32,50,33,22,42,25,27,22,43,40,40,70,40,31,53,25,26,27,46,44,43,43,31,49,52,30,45,23,38,34,31,52,42,34,22,24,42,48,45,27,36,50,22,26,45,37,52,66,43,47],\"xaxis\":\"x\",\"yaxis\":\"y\",\"type\":\"histogram\"},{\"alignmentgroup\":\"True\",\"bingroup\":\"x\",\"hovertemplate\":\"Outcome=0<br>Age=%{x}<br>count=%{y}<extra></extra>\",\"legendgroup\":\"0\",\"marker\":{\"color\":\"#EF553B\",\"pattern\":{\"shape\":\"\"}},\"name\":\"0\",\"offsetgroup\":\"0\",\"orientation\":\"v\",\"showlegend\":true,\"x\":[31,21,30,29,30,57,33,27,50,22,57,38,60,22,28,45,33,35,26,37,48,40,29,22,24,22,26,30,42,21,31,44,22,21,36,24,32,54,25,27,26,23,22,22,41,27,24,22,22,36,22,27,45,26,24,21,34,42,21,40,24,22,23,22,21,24,27,21,27,37,25,23,25,25,22,21,24,23,69,30,23,39,26,31,21,22,29,28,55,38,22,23,21,41,34,65,22,24,37,23,21,23,22,36,45,27,21,22,34,29,29,25,23,33,42,47,32,23,21,27,40,21,40,42,21,21,28,32,27,55,27,21,25,24,60,32,37,61,26,22,26,31,24,22,29,23,27,21,22,29,41,23,34,23,42,27,24,25,30,25,24,34,24,63,43,24,21,21,40,21,52,25,23,57,22,39,37,51,34,26,33,21,65,28,24,58,35,37,29,21,41,22,25,26,30,28,31,21,24,37,37,46,25,44,22,26,44,22,36,22,33,57,49,22,23,26,29,30,46,24,21,48,63,65,30,30,21,22,21,21,25,28,22,22,35,24,22,21,25,25,24,28,42,21,37,25,39,25,55,38,26,25,28,25,22,21,22,27,26,21,21,21,25,26,23,38,22,29,36,41,28,21,31,22,24,28,26,26,23,25,72,24,62,24,81,48,26,39,37,34,21,22,25,27,28,22,22,50,24,59,31,39,63,29,28,23,21,58,28,67,24,42,33,22,66,30,25,39,21,28,41,40,38,21,21,64,21,58,22,24,51,41,60,25,26,26,24,21,21,24,22,31,22,24,29,31,24,46,67,23,25,29,28,50,37,21,25,66,23,28,37,30,58,42,35,24,32,27,22,21,46,37,39,21,22,22,23,25,35,36,27,62,42,22,29,25,24,25,34,46,21,26,24,28,30,21,25,27,23,24,26,27,30,23,28,28,45,21,21,29,21,21,45,21,24,23,22,31,48,23,28,27,24,31,27,30,23,23,27,28,27,22,22,41,51,54,24,43,45,49,21,47,22,68,25,23,22,22,69,25,22,29,23,34,23,25,22,28,26,26,41,27,28,22,24,40,21,32,56,24,34,21,42,45,38,25,22,22,22,22,53,28,21,42,21,26,22,39,46,32,28,25,39,26,22,33,63,27,30,23],\"xaxis\":\"x\",\"yaxis\":\"y\",\"type\":\"histogram\"}],                        {\"template\":{\"data\":{\"histogram2dcontour\":[{\"type\":\"histogram2dcontour\",\"colorbar\":{\"outlinewidth\":0,\"ticks\":\"\"},\"colorscale\":[[0.0,\"#0d0887\"],[0.1111111111111111,\"#46039f\"],[0.2222222222222222,\"#7201a8\"],[0.3333333333333333,\"#9c179e\"],[0.4444444444444444,\"#bd3786\"],[0.5555555555555556,\"#d8576b\"],[0.6666666666666666,\"#ed7953\"],[0.7777777777777778,\"#fb9f3a\"],[0.8888888888888888,\"#fdca26\"],[1.0,\"#f0f921\"]]}],\"choropleth\":[{\"type\":\"choropleth\",\"colorbar\":{\"outlinewidth\":0,\"ticks\":\"\"}}],\"histogram2d\":[{\"type\":\"histogram2d\",\"colorbar\":{\"outlinewidth\":0,\"ticks\":\"\"},\"colorscale\":[[0.0,\"#0d0887\"],[0.1111111111111111,\"#46039f\"],[0.2222222222222222,\"#7201a8\"],[0.3333333333333333,\"#9c179e\"],[0.4444444444444444,\"#bd3786\"],[0.5555555555555556,\"#d8576b\"],[0.6666666666666666,\"#ed7953\"],[0.7777777777777778,\"#fb9f3a\"],[0.8888888888888888,\"#fdca26\"],[1.0,\"#f0f921\"]]}],\"heatmap\":[{\"type\":\"heatmap\",\"colorbar\":{\"outlinewidth\":0,\"ticks\":\"\"},\"colorscale\":[[0.0,\"#0d0887\"],[0.1111111111111111,\"#46039f\"],[0.2222222222222222,\"#7201a8\"],[0.3333333333333333,\"#9c179e\"],[0.4444444444444444,\"#bd3786\"],[0.5555555555555556,\"#d8576b\"],[0.6666666666666666,\"#ed7953\"],[0.7777777777777778,\"#fb9f3a\"],[0.8888888888888888,\"#fdca26\"],[1.0,\"#f0f921\"]]}],\"heatmapgl\":[{\"type\":\"heatmapgl\",\"colorbar\":{\"outlinewidth\":0,\"ticks\":\"\"},\"colorscale\":[[0.0,\"#0d0887\"],[0.1111111111111111,\"#46039f\"],[0.2222222222222222,\"#7201a8\"],[0.3333333333333333,\"#9c179e\"],[0.4444444444444444,\"#bd3786\"],[0.5555555555555556,\"#d8576b\"],[0.6666666666666666,\"#ed7953\"],[0.7777777777777778,\"#fb9f3a\"],[0.8888888888888888,\"#fdca26\"],[1.0,\"#f0f921\"]]}],\"contourcarpet\":[{\"type\":\"contourcarpet\",\"colorbar\":{\"outlinewidth\":0,\"ticks\":\"\"}}],\"contour\":[{\"type\":\"contour\",\"colorbar\":{\"outlinewidth\":0,\"ticks\":\"\"},\"colorscale\":[[0.0,\"#0d0887\"],[0.1111111111111111,\"#46039f\"],[0.2222222222222222,\"#7201a8\"],[0.3333333333333333,\"#9c179e\"],[0.4444444444444444,\"#bd3786\"],[0.5555555555555556,\"#d8576b\"],[0.6666666666666666,\"#ed7953\"],[0.7777777777777778,\"#fb9f3a\"],[0.8888888888888888,\"#fdca26\"],[1.0,\"#f0f921\"]]}],\"surface\":[{\"type\":\"surface\",\"colorbar\":{\"outlinewidth\":0,\"ticks\":\"\"},\"colorscale\":[[0.0,\"#0d0887\"],[0.1111111111111111,\"#46039f\"],[0.2222222222222222,\"#7201a8\"],[0.3333333333333333,\"#9c179e\"],[0.4444444444444444,\"#bd3786\"],[0.5555555555555556,\"#d8576b\"],[0.6666666666666666,\"#ed7953\"],[0.7777777777777778,\"#fb9f3a\"],[0.8888888888888888,\"#fdca26\"],[1.0,\"#f0f921\"]]}],\"mesh3d\":[{\"type\":\"mesh3d\",\"colorbar\":{\"outlinewidth\":0,\"ticks\":\"\"}}],\"scatter\":[{\"fillpattern\":{\"fillmode\":\"overlay\",\"size\":10,\"solidity\":0.2},\"type\":\"scatter\"}],\"parcoords\":[{\"type\":\"parcoords\",\"line\":{\"colorbar\":{\"outlinewidth\":0,\"ticks\":\"\"}}}],\"scatterpolargl\":[{\"type\":\"scatterpolargl\",\"marker\":{\"colorbar\":{\"outlinewidth\":0,\"ticks\":\"\"}}}],\"bar\":[{\"error_x\":{\"color\":\"#2a3f5f\"},\"error_y\":{\"color\":\"#2a3f5f\"},\"marker\":{\"line\":{\"color\":\"#E5ECF6\",\"width\":0.5},\"pattern\":{\"fillmode\":\"overlay\",\"size\":10,\"solidity\":0.2}},\"type\":\"bar\"}],\"scattergeo\":[{\"type\":\"scattergeo\",\"marker\":{\"colorbar\":{\"outlinewidth\":0,\"ticks\":\"\"}}}],\"scatterpolar\":[{\"type\":\"scatterpolar\",\"marker\":{\"colorbar\":{\"outlinewidth\":0,\"ticks\":\"\"}}}],\"histogram\":[{\"marker\":{\"pattern\":{\"fillmode\":\"overlay\",\"size\":10,\"solidity\":0.2}},\"type\":\"histogram\"}],\"scattergl\":[{\"type\":\"scattergl\",\"marker\":{\"colorbar\":{\"outlinewidth\":0,\"ticks\":\"\"}}}],\"scatter3d\":[{\"type\":\"scatter3d\",\"line\":{\"colorbar\":{\"outlinewidth\":0,\"ticks\":\"\"}},\"marker\":{\"colorbar\":{\"outlinewidth\":0,\"ticks\":\"\"}}}],\"scattermapbox\":[{\"type\":\"scattermapbox\",\"marker\":{\"colorbar\":{\"outlinewidth\":0,\"ticks\":\"\"}}}],\"scatterternary\":[{\"type\":\"scatterternary\",\"marker\":{\"colorbar\":{\"outlinewidth\":0,\"ticks\":\"\"}}}],\"scattercarpet\":[{\"type\":\"scattercarpet\",\"marker\":{\"colorbar\":{\"outlinewidth\":0,\"ticks\":\"\"}}}],\"carpet\":[{\"aaxis\":{\"endlinecolor\":\"#2a3f5f\",\"gridcolor\":\"white\",\"linecolor\":\"white\",\"minorgridcolor\":\"white\",\"startlinecolor\":\"#2a3f5f\"},\"baxis\":{\"endlinecolor\":\"#2a3f5f\",\"gridcolor\":\"white\",\"linecolor\":\"white\",\"minorgridcolor\":\"white\",\"startlinecolor\":\"#2a3f5f\"},\"type\":\"carpet\"}],\"table\":[{\"cells\":{\"fill\":{\"color\":\"#EBF0F8\"},\"line\":{\"color\":\"white\"}},\"header\":{\"fill\":{\"color\":\"#C8D4E3\"},\"line\":{\"color\":\"white\"}},\"type\":\"table\"}],\"barpolar\":[{\"marker\":{\"line\":{\"color\":\"#E5ECF6\",\"width\":0.5},\"pattern\":{\"fillmode\":\"overlay\",\"size\":10,\"solidity\":0.2}},\"type\":\"barpolar\"}],\"pie\":[{\"automargin\":true,\"type\":\"pie\"}]},\"layout\":{\"autotypenumbers\":\"strict\",\"colorway\":[\"#636efa\",\"#EF553B\",\"#00cc96\",\"#ab63fa\",\"#FFA15A\",\"#19d3f3\",\"#FF6692\",\"#B6E880\",\"#FF97FF\",\"#FECB52\"],\"font\":{\"color\":\"#2a3f5f\"},\"hovermode\":\"closest\",\"hoverlabel\":{\"align\":\"left\"},\"paper_bgcolor\":\"white\",\"plot_bgcolor\":\"#E5ECF6\",\"polar\":{\"bgcolor\":\"#E5ECF6\",\"angularaxis\":{\"gridcolor\":\"white\",\"linecolor\":\"white\",\"ticks\":\"\"},\"radialaxis\":{\"gridcolor\":\"white\",\"linecolor\":\"white\",\"ticks\":\"\"}},\"ternary\":{\"bgcolor\":\"#E5ECF6\",\"aaxis\":{\"gridcolor\":\"white\",\"linecolor\":\"white\",\"ticks\":\"\"},\"baxis\":{\"gridcolor\":\"white\",\"linecolor\":\"white\",\"ticks\":\"\"},\"caxis\":{\"gridcolor\":\"white\",\"linecolor\":\"white\",\"ticks\":\"\"}},\"coloraxis\":{\"colorbar\":{\"outlinewidth\":0,\"ticks\":\"\"}},\"colorscale\":{\"sequential\":[[0.0,\"#0d0887\"],[0.1111111111111111,\"#46039f\"],[0.2222222222222222,\"#7201a8\"],[0.3333333333333333,\"#9c179e\"],[0.4444444444444444,\"#bd3786\"],[0.5555555555555556,\"#d8576b\"],[0.6666666666666666,\"#ed7953\"],[0.7777777777777778,\"#fb9f3a\"],[0.8888888888888888,\"#fdca26\"],[1.0,\"#f0f921\"]],\"sequentialminus\":[[0.0,\"#0d0887\"],[0.1111111111111111,\"#46039f\"],[0.2222222222222222,\"#7201a8\"],[0.3333333333333333,\"#9c179e\"],[0.4444444444444444,\"#bd3786\"],[0.5555555555555556,\"#d8576b\"],[0.6666666666666666,\"#ed7953\"],[0.7777777777777778,\"#fb9f3a\"],[0.8888888888888888,\"#fdca26\"],[1.0,\"#f0f921\"]],\"diverging\":[[0,\"#8e0152\"],[0.1,\"#c51b7d\"],[0.2,\"#de77ae\"],[0.3,\"#f1b6da\"],[0.4,\"#fde0ef\"],[0.5,\"#f7f7f7\"],[0.6,\"#e6f5d0\"],[0.7,\"#b8e186\"],[0.8,\"#7fbc41\"],[0.9,\"#4d9221\"],[1,\"#276419\"]]},\"xaxis\":{\"gridcolor\":\"white\",\"linecolor\":\"white\",\"ticks\":\"\",\"title\":{\"standoff\":15},\"zerolinecolor\":\"white\",\"automargin\":true,\"zerolinewidth\":2},\"yaxis\":{\"gridcolor\":\"white\",\"linecolor\":\"white\",\"ticks\":\"\",\"title\":{\"standoff\":15},\"zerolinecolor\":\"white\",\"automargin\":true,\"zerolinewidth\":2},\"scene\":{\"xaxis\":{\"backgroundcolor\":\"#E5ECF6\",\"gridcolor\":\"white\",\"linecolor\":\"white\",\"showbackground\":true,\"ticks\":\"\",\"zerolinecolor\":\"white\",\"gridwidth\":2},\"yaxis\":{\"backgroundcolor\":\"#E5ECF6\",\"gridcolor\":\"white\",\"linecolor\":\"white\",\"showbackground\":true,\"ticks\":\"\",\"zerolinecolor\":\"white\",\"gridwidth\":2},\"zaxis\":{\"backgroundcolor\":\"#E5ECF6\",\"gridcolor\":\"white\",\"linecolor\":\"white\",\"showbackground\":true,\"ticks\":\"\",\"zerolinecolor\":\"white\",\"gridwidth\":2}},\"shapedefaults\":{\"line\":{\"color\":\"#2a3f5f\"}},\"annotationdefaults\":{\"arrowcolor\":\"#2a3f5f\",\"arrowhead\":0,\"arrowwidth\":1},\"geo\":{\"bgcolor\":\"white\",\"landcolor\":\"#E5ECF6\",\"subunitcolor\":\"white\",\"showland\":true,\"showlakes\":true,\"lakecolor\":\"white\"},\"title\":{\"x\":0.05},\"mapbox\":{\"style\":\"light\"}}},\"xaxis\":{\"anchor\":\"y\",\"domain\":[0.0,1.0],\"title\":{\"text\":\"Age\"}},\"yaxis\":{\"anchor\":\"x\",\"domain\":[0.0,1.0],\"title\":{\"text\":\"count\"}},\"legend\":{\"title\":{\"text\":\"Outcome\"},\"tracegroupgap\":0},\"margin\":{\"t\":60},\"barmode\":\"relative\"},                        {\"responsive\": true}                    ).then(function(){\n",
              "                            \n",
              "var gd = document.getElementById('77ea35ec-7c13-4b8f-8752-9b7b9cd6623d');\n",
              "var x = new MutationObserver(function (mutations, observer) {{\n",
              "        var display = window.getComputedStyle(gd).display;\n",
              "        if (!display || display === 'none') {{\n",
              "            console.log([gd, 'removed!']);\n",
              "            Plotly.purge(gd);\n",
              "            observer.disconnect();\n",
              "        }}\n",
              "}});\n",
              "\n",
              "// Listen for the removal of the full notebook cells\n",
              "var notebookContainer = gd.closest('#notebook-container');\n",
              "if (notebookContainer) {{\n",
              "    x.observe(notebookContainer, {childList: true});\n",
              "}}\n",
              "\n",
              "// Listen for the clearing of the current output cell\n",
              "var outputEl = gd.closest('.output');\n",
              "if (outputEl) {{\n",
              "    x.observe(outputEl, {childList: true});\n",
              "}}\n",
              "\n",
              "                        })                };                            </script>        </div>\n",
              "</body>\n",
              "</html>"
            ]
          },
          "metadata": {}
        }
      ]
    },
    {
      "cell_type": "code",
      "source": [
        "#melihat data pasien diabetes berdasarkan umur menggunakan boxplot\n",
        "#Berdasarkan visualisasi tersebut, kita dapat melihat bahwa data Age memiliki median sekitar 29 tahun, \n",
        "#kuartil pertama sekitar 23 tahun, dan kuartil ketiga sekitar 41 tahun. \n",
        "#Terdapat juga beberapa titik di luar whiskers yang menunjukkan adanya outlier pada data Age.\n",
        "sns.boxplot(data=df,x=\"Age\")"
      ],
      "metadata": {
        "id": "GiR15QaExYzi",
        "colab": {
          "base_uri": "https://localhost:8080/",
          "height": 466
        },
        "outputId": "fcf28df2-64b8-4401-c417-7dd436834748"
      },
      "execution_count": 13,
      "outputs": [
        {
          "output_type": "execute_result",
          "data": {
            "text/plain": [
              "<Axes: xlabel='Age'>"
            ]
          },
          "metadata": {},
          "execution_count": 13
        },
        {
          "output_type": "display_data",
          "data": {
            "text/plain": [
              "<Figure size 640x480 with 1 Axes>"
            ],
            "image/png": "[encoded data removed]"
          },
          "metadata": {}
        }
      ]
    },
    {
      "cell_type": "markdown",
      "source": [
        "# **Data Preparation**<br>\n",
        "Terdiri atas select data, clean data, construct data, integrate data, dan format data"
      ],
      "metadata": {
        "id": "8toWYNLyxpN1"
      }
    },
    {
      "cell_type": "markdown",
      "source": [
        "**1. Select data**<br>\n",
        "Adalah bagian menentukan dataset yang akan digunakan apabila terdapat banyak tabel"
      ],
      "metadata": {
        "id": "8bWjFASMxsTd"
      }
    },
    {
      "cell_type": "markdown",
      "source": [
        "**2. Clean Data**<br>\n",
        "Terbagi menjadi 3, yaitu Datatype, Missing value, dan Outlier Handling"
      ],
      "metadata": {
        "id": "KA1UgEcXIxn7"
      }
    },
    {
      "cell_type": "markdown",
      "source": [
        "**A. Datatype**"
      ],
      "metadata": {
        "id": "7HMv-61dyARc"
      }
    },
    {
      "cell_type": "code",
      "source": [
        "#menyalin data dari variable df kedalam df2 sebagai variable baru\n",
        "df2 = df.copy(deep=True)"
      ],
      "metadata": {
        "id": "yXTUYkQ_yOF5"
      },
      "execution_count": 14,
      "outputs": []
    },
    {
      "cell_type": "code",
      "source": [
        "#melihat tipe data seluruh kolom\n",
        "df.info()"
      ],
      "metadata": {
        "id": "3oDtPJJIyRE-",
        "colab": {
          "base_uri": "https://localhost:8080/"
        },
        "outputId": "2d11695d-e289-43c6-8d4b-029e9c01f593"
      },
      "execution_count": 15,
      "outputs": [
        {
          "output_type": "stream",
          "name": "stdout",
          "text": [
            "<class 'pandas.core.frame.DataFrame'>\n",
            "RangeIndex: 768 entries, 0 to 767\n",
            "Data columns (total 9 columns):\n",
            " #   Column                    Non-Null Count  Dtype  \n",
            "---  ------                    --------------  -----  \n",
            " 0   Pregnancies               768 non-null    int64  \n",
            " 1   Glucose                   768 non-null    int64  \n",
            " 2   BloodPressure             768 non-null    int64  \n",
            " 3   SkinThickness             768 non-null    int64  \n",
            " 4   Insulin                   768 non-null    int64  \n",
            " 5   BMI                       768 non-null    float64\n",
            " 6   DiabetesPedigreeFunction  768 non-null    float64\n",
            " 7   Age                       768 non-null    int64  \n",
            " 8   Outcome                   768 non-null    int64  \n",
            "dtypes: float64(2), int64(7)\n",
            "memory usage: 54.1 KB\n"
          ]
        }
      ]
    },
    {
      "cell_type": "code",
      "source": [
        "df2.head()"
      ],
      "metadata": {
        "colab": {
          "base_uri": "https://localhost:8080/",
          "height": 206
        },
        "id": "FtVz_SjwFfSR",
        "outputId": "581bb9d2-e5c4-4f99-f4ee-20a6eb40af54"
      },
      "execution_count": 16,
      "outputs": [
        {
          "output_type": "execute_result",
          "data": {
            "text/plain": [
              "   Pregnancies  Glucose  BloodPressure  SkinThickness  Insulin   BMI  \\\n",
              "0            6      148             72             35        0  33.6   \n",
              "1            1       85             66             29        0  26.6   \n",
              "2            8      183             64              0        0  23.3   \n",
              "3            1       89             66             23       94  28.1   \n",
              "4            0      137             40             35      168  43.1   \n",
              "\n",
              "   DiabetesPedigreeFunction  Age  Outcome  \n",
              "0                     0.627   50        1  \n",
              "1                     0.351   31        0  \n",
              "2                     0.672   32        1  \n",
              "3                     0.167   21        0  \n",
              "4                     2.288   33        1  "
            ],
            "text/html": [
              "\n",
              "  <div id=\"df-ed166631-0fff-420a-afcf-bfd093581cea\">\n",
              "    <div class=\"colab-df-container\">\n",
              "      <div>\n",
              "<style scoped>\n",
              "    .dataframe tbody tr th:only-of-type {\n",
              "        vertical-align: middle;\n",
              "    }\n",
              "\n",
              "    .dataframe tbody tr th {\n",
              "        vertical-align: top;\n",
              "    }\n",
              "\n",
              "    .dataframe thead th {\n",
              "        text-align: right;\n",
              "    }\n",
              "</style>\n",
              "<table border=\"1\" class=\"dataframe\">\n",
              "  <thead>\n",
              "    <tr style=\"text-align: right;\">\n",
              "      <th></th>\n",
              "      <th>Pregnancies</th>\n",
              "      <th>Glucose</th>\n",
              "      <th>BloodPressure</th>\n",
              "      <th>SkinThickness</th>\n",
              "      <th>Insulin</th>\n",
              "      <th>BMI</th>\n",
              "      <th>DiabetesPedigreeFunction</th>\n",
              "      <th>Age</th>\n",
              "      <th>Outcome</th>\n",
              "    </tr>\n",
              "  </thead>\n",
              "  <tbody>\n",
              "    <tr>\n",
              "      <th>0</th>\n",
              "      <td>6</td>\n",
              "      <td>148</td>\n",
              "      <td>72</td>\n",
              "      <td>35</td>\n",
              "      <td>0</td>\n",
              "      <td>33.6</td>\n",
              "      <td>0.627</td>\n",
              "      <td>50</td>\n",
              "      <td>1</td>\n",
              "    </tr>\n",
              "    <tr>\n",
              "      <th>1</th>\n",
              "      <td>1</td>\n",
              "      <td>85</td>\n",
              "      <td>66</td>\n",
              "      <td>29</td>\n",
              "      <td>0</td>\n",
              "      <td>26.6</td>\n",
              "      <td>0.351</td>\n",
              "      <td>31</td>\n",
              "      <td>0</td>\n",
              "    </tr>\n",
              "    <tr>\n",
              "      <th>2</th>\n",
              "      <td>8</td>\n",
              "      <td>183</td>\n",
              "      <td>64</td>\n",
              "      <td>0</td>\n",
              "      <td>0</td>\n",
              "      <td>23.3</td>\n",
              "      <td>0.672</td>\n",
              "      <td>32</td>\n",
              "      <td>1</td>\n",
              "    </tr>\n",
              "    <tr>\n",
              "      <th>3</th>\n",
              "      <td>1</td>\n",
              "      <td>89</td>\n",
              "      <td>66</td>\n",
              "      <td>23</td>\n",
              "      <td>94</td>\n",
              "      <td>28.1</td>\n",
              "      <td>0.167</td>\n",
              "      <td>21</td>\n",
              "      <td>0</td>\n",
              "    </tr>\n",
              "    <tr>\n",
              "      <th>4</th>\n",
              "      <td>0</td>\n",
              "      <td>137</td>\n",
              "      <td>40</td>\n",
              "      <td>35</td>\n",
              "      <td>168</td>\n",
              "      <td>43.1</td>\n",
              "      <td>2.288</td>\n",
              "      <td>33</td>\n",
              "      <td>1</td>\n",
              "    </tr>\n",
              "  </tbody>\n",
              "</table>\n",
              "</div>\n",
              "      <button class=\"colab-df-convert\" onclick=\"convertToInteractive('df-ed166631-0fff-420a-afcf-bfd093581cea')\"\n",
              "              title=\"Convert this dataframe to an interactive table.\"\n",
              "              style=\"display:none;\">\n",
              "        \n",
              "  <svg xmlns=\"http://www.w3.org/2000/svg\" height=\"24px\"viewBox=\"0 0 24 24\"\n",
              "       width=\"24px\">\n",
              "    <path d=\"M0 0h24v24H0V0z\" fill=\"none\"/>\n",
              "    <path d=\"M18.56 5.44l.94 2.06.94-2.06 2.06-.94-2.06-.94-.94-2.06-.94 2.06-2.06.94zm-11 1L8.5 8.5l.94-2.06 2.06-.94-2.06-.94L8.5 2.5l-.94 2.06-2.06.94zm10 10l.94 2.06.94-2.06 2.06-.94-2.06-.94-.94-2.06-.94 2.06-2.06.94z\"/><path d=\"M17.41 7.96l-1.37-1.37c-.4-.4-.92-.59-1.43-.59-.52 0-1.04.2-1.43.59L10.3 9.45l-7.72 7.72c-.78.78-.78 2.05 0 2.83L4 21.41c.39.39.9.59 1.41.59.51 0 1.02-.2 1.41-.59l7.78-7.78 2.81-2.81c.8-.78.8-2.07 0-2.86zM5.41 20L4 18.59l7.72-7.72 1.47 1.35L5.41 20z\"/>\n",
              "  </svg>\n",
              "      </button>\n",
              "      \n",
              "  <style>\n",
              "    .colab-df-container {\n",
              "      display:flex;\n",
              "      flex-wrap:wrap;\n",
              "      gap: 12px;\n",
              "    }\n",
              "\n",
              "    .colab-df-convert {\n",
              "      background-color: #E8F0FE;\n",
              "      border: none;\n",
              "      border-radius: 50%;\n",
              "      cursor: pointer;\n",
              "      display: none;\n",
              "      fill: #1967D2;\n",
              "      height: 32px;\n",
              "      padding: 0 0 0 0;\n",
              "      width: 32px;\n",
              "    }\n",
              "\n",
              "    .colab-df-convert:hover {\n",
              "      background-color: #E2EBFA;\n",
              "      box-shadow: 0px 1px 2px rgba(60, 64, 67, 0.3), 0px 1px 3px 1px rgba(60, 64, 67, 0.15);\n",
              "      fill: #174EA6;\n",
              "    }\n",
              "\n",
              "    [theme=dark] .colab-df-convert {\n",
              "      background-color: #3B4455;\n",
              "      fill: #D2E3FC;\n",
              "    }\n",
              "\n",
              "    [theme=dark] .colab-df-convert:hover {\n",
              "      background-color: #434B5C;\n",
              "      box-shadow: 0px 1px 3px 1px rgba(0, 0, 0, 0.15);\n",
              "      filter: drop-shadow(0px 1px 2px rgba(0, 0, 0, 0.3));\n",
              "      fill: #FFFFFF;\n",
              "    }\n",
              "  </style>\n",
              "\n",
              "      <script>\n",
              "        const buttonEl =\n",
              "          document.querySelector('#df-ed166631-0fff-420a-afcf-bfd093581cea button.colab-df-convert');\n",
              "        buttonEl.style.display =\n",
              "          google.colab.kernel.accessAllowed ? 'block' : 'none';\n",
              "\n",
              "        async function convertToInteractive(key) {\n",
              "          const element = document.querySelector('#df-ed166631-0fff-420a-afcf-bfd093581cea');\n",
              "          const dataTable =\n",
              "            await google.colab.kernel.invokeFunction('convertToInteractive',\n",
              "                                                     [key], {});\n",
              "          if (!dataTable) return;\n",
              "\n",
              "          const docLinkHtml = 'Like what you see? Visit the ' +\n",
              "            '<a target=\"_blank\" href=https://colab.research.google.com/notebooks/data_table.ipynb>data table notebook</a>'\n",
              "            + ' to learn more about interactive tables.';\n",
              "          element.innerHTML = '';\n",
              "          dataTable['output_type'] = 'display_data';\n",
              "          await google.colab.output.renderOutput(dataTable, element);\n",
              "          const docLink = document.createElement('div');\n",
              "          docLink.innerHTML = docLinkHtml;\n",
              "          element.appendChild(docLink);\n",
              "        }\n",
              "      </script>\n",
              "    </div>\n",
              "  </div>\n",
              "  "
            ]
          },
          "metadata": {},
          "execution_count": 16
        }
      ]
    },
    {
      "cell_type": "code",
      "source": [
        "#mengimport nilai nan dari numpy, digunakan untuk merepresentasikan nilai yang tidak valid atau tidak terdefinisi\n",
        "#tapi karna gada nilai nan, jadi import ini gak kepake (namun tetap ditulis sebagai pengetahuan saja)\n",
        "from numpy import nan"
      ],
      "metadata": {
        "id": "Ks4NVHaoyUAd"
      },
      "execution_count": 17,
      "outputs": []
    },
    {
      "cell_type": "markdown",
      "source": [
        "**B. Missing value**"
      ],
      "metadata": {
        "id": "5POR_5hByH7g"
      }
    },
    {
      "cell_type": "code",
      "source": [
        "#melihat jumlah nilai nan\n",
        "df2.isna().sum()"
      ],
      "metadata": {
        "id": "YB-RF_YYzK2Z",
        "colab": {
          "base_uri": "https://localhost:8080/"
        },
        "outputId": "a178a4a4-e3d2-45ae-a800-9030e2125c8b"
      },
      "execution_count": 18,
      "outputs": [
        {
          "output_type": "execute_result",
          "data": {
            "text/plain": [
              "Pregnancies                 0\n",
              "Glucose                     0\n",
              "BloodPressure               0\n",
              "SkinThickness               0\n",
              "Insulin                     0\n",
              "BMI                         0\n",
              "DiabetesPedigreeFunction    0\n",
              "Age                         0\n",
              "Outcome                     0\n",
              "dtype: int64"
            ]
          },
          "metadata": {},
          "execution_count": 18
        }
      ]
    },
    {
      "cell_type": "code",
      "source": [
        "#melihat rasio nilai null\n",
        "null_ratio(df2)"
      ],
      "metadata": {
        "colab": {
          "base_uri": "https://localhost:8080/",
          "height": 332
        },
        "id": "vspGA3_xzNqV",
        "outputId": "e825c23a-97aa-4c23-f9e5-537628f2be2a"
      },
      "execution_count": 19,
      "outputs": [
        {
          "output_type": "execute_result",
          "data": {
            "text/plain": [
              "                          filled  N null  null_ratio(%)\n",
              "Pregnancies                  768       0            0.0\n",
              "Glucose                      768       0            0.0\n",
              "BloodPressure                768       0            0.0\n",
              "SkinThickness                768       0            0.0\n",
              "Insulin                      768       0            0.0\n",
              "BMI                          768       0            0.0\n",
              "DiabetesPedigreeFunction     768       0            0.0\n",
              "Age                          768       0            0.0\n",
              "Outcome                      768       0            0.0"
            ],
            "text/html": [
              "\n",
              "  <div id=\"df-873ae62f-67c6-49ed-ac8b-fae1290e6faf\">\n",
              "    <div class=\"colab-df-container\">\n",
              "      <div>\n",
              "<style scoped>\n",
              "    .dataframe tbody tr th:only-of-type {\n",
              "        vertical-align: middle;\n",
              "    }\n",
              "\n",
              "    .dataframe tbody tr th {\n",
              "        vertical-align: top;\n",
              "    }\n",
              "\n",
              "    .dataframe thead th {\n",
              "        text-align: right;\n",
              "    }\n",
              "</style>\n",
              "<table border=\"1\" class=\"dataframe\">\n",
              "  <thead>\n",
              "    <tr style=\"text-align: right;\">\n",
              "      <th></th>\n",
              "      <th>filled</th>\n",
              "      <th>N null</th>\n",
              "      <th>null_ratio(%)</th>\n",
              "    </tr>\n",
              "  </thead>\n",
              "  <tbody>\n",
              "    <tr>\n",
              "      <th>Pregnancies</th>\n",
              "      <td>768</td>\n",
              "      <td>0</td>\n",
              "      <td>0.0</td>\n",
              "    </tr>\n",
              "    <tr>\n",
              "      <th>Glucose</th>\n",
              "      <td>768</td>\n",
              "      <td>0</td>\n",
              "      <td>0.0</td>\n",
              "    </tr>\n",
              "    <tr>\n",
              "      <th>BloodPressure</th>\n",
              "      <td>768</td>\n",
              "      <td>0</td>\n",
              "      <td>0.0</td>\n",
              "    </tr>\n",
              "    <tr>\n",
              "      <th>SkinThickness</th>\n",
              "      <td>768</td>\n",
              "      <td>0</td>\n",
              "      <td>0.0</td>\n",
              "    </tr>\n",
              "    <tr>\n",
              "      <th>Insulin</th>\n",
              "      <td>768</td>\n",
              "      <td>0</td>\n",
              "      <td>0.0</td>\n",
              "    </tr>\n",
              "    <tr>\n",
              "      <th>BMI</th>\n",
              "      <td>768</td>\n",
              "      <td>0</td>\n",
              "      <td>0.0</td>\n",
              "    </tr>\n",
              "    <tr>\n",
              "      <th>DiabetesPedigreeFunction</th>\n",
              "      <td>768</td>\n",
              "      <td>0</td>\n",
              "      <td>0.0</td>\n",
              "    </tr>\n",
              "    <tr>\n",
              "      <th>Age</th>\n",
              "      <td>768</td>\n",
              "      <td>0</td>\n",
              "      <td>0.0</td>\n",
              "    </tr>\n",
              "    <tr>\n",
              "      <th>Outcome</th>\n",
              "      <td>768</td>\n",
              "      <td>0</td>\n",
              "      <td>0.0</td>\n",
              "    </tr>\n",
              "  </tbody>\n",
              "</table>\n",
              "</div>\n",
              "      <button class=\"colab-df-convert\" onclick=\"convertToInteractive('df-873ae62f-67c6-49ed-ac8b-fae1290e6faf')\"\n",
              "              title=\"Convert this dataframe to an interactive table.\"\n",
              "              style=\"display:none;\">\n",
              "        \n",
              "  <svg xmlns=\"http://www.w3.org/2000/svg\" height=\"24px\"viewBox=\"0 0 24 24\"\n",
              "       width=\"24px\">\n",
              "    <path d=\"M0 0h24v24H0V0z\" fill=\"none\"/>\n",
              "    <path d=\"M18.56 5.44l.94 2.06.94-2.06 2.06-.94-2.06-.94-.94-2.06-.94 2.06-2.06.94zm-11 1L8.5 8.5l.94-2.06 2.06-.94-2.06-.94L8.5 2.5l-.94 2.06-2.06.94zm10 10l.94 2.06.94-2.06 2.06-.94-2.06-.94-.94-2.06-.94 2.06-2.06.94z\"/><path d=\"M17.41 7.96l-1.37-1.37c-.4-.4-.92-.59-1.43-.59-.52 0-1.04.2-1.43.59L10.3 9.45l-7.72 7.72c-.78.78-.78 2.05 0 2.83L4 21.41c.39.39.9.59 1.41.59.51 0 1.02-.2 1.41-.59l7.78-7.78 2.81-2.81c.8-.78.8-2.07 0-2.86zM5.41 20L4 18.59l7.72-7.72 1.47 1.35L5.41 20z\"/>\n",
              "  </svg>\n",
              "      </button>\n",
              "      \n",
              "  <style>\n",
              "    .colab-df-container {\n",
              "      display:flex;\n",
              "      flex-wrap:wrap;\n",
              "      gap: 12px;\n",
              "    }\n",
              "\n",
              "    .colab-df-convert {\n",
              "      background-color: #E8F0FE;\n",
              "      border: none;\n",
              "      border-radius: 50%;\n",
              "      cursor: pointer;\n",
              "      display: none;\n",
              "      fill: #1967D2;\n",
              "      height: 32px;\n",
              "      padding: 0 0 0 0;\n",
              "      width: 32px;\n",
              "    }\n",
              "\n",
              "    .colab-df-convert:hover {\n",
              "      background-color: #E2EBFA;\n",
              "      box-shadow: 0px 1px 2px rgba(60, 64, 67, 0.3), 0px 1px 3px 1px rgba(60, 64, 67, 0.15);\n",
              "      fill: #174EA6;\n",
              "    }\n",
              "\n",
              "    [theme=dark] .colab-df-convert {\n",
              "      background-color: #3B4455;\n",
              "      fill: #D2E3FC;\n",
              "    }\n",
              "\n",
              "    [theme=dark] .colab-df-convert:hover {\n",
              "      background-color: #434B5C;\n",
              "      box-shadow: 0px 1px 3px 1px rgba(0, 0, 0, 0.15);\n",
              "      filter: drop-shadow(0px 1px 2px rgba(0, 0, 0, 0.3));\n",
              "      fill: #FFFFFF;\n",
              "    }\n",
              "  </style>\n",
              "\n",
              "      <script>\n",
              "        const buttonEl =\n",
              "          document.querySelector('#df-873ae62f-67c6-49ed-ac8b-fae1290e6faf button.colab-df-convert');\n",
              "        buttonEl.style.display =\n",
              "          google.colab.kernel.accessAllowed ? 'block' : 'none';\n",
              "\n",
              "        async function convertToInteractive(key) {\n",
              "          const element = document.querySelector('#df-873ae62f-67c6-49ed-ac8b-fae1290e6faf');\n",
              "          const dataTable =\n",
              "            await google.colab.kernel.invokeFunction('convertToInteractive',\n",
              "                                                     [key], {});\n",
              "          if (!dataTable) return;\n",
              "\n",
              "          const docLinkHtml = 'Like what you see? Visit the ' +\n",
              "            '<a target=\"_blank\" href=https://colab.research.google.com/notebooks/data_table.ipynb>data table notebook</a>'\n",
              "            + ' to learn more about interactive tables.';\n",
              "          element.innerHTML = '';\n",
              "          dataTable['output_type'] = 'display_data';\n",
              "          await google.colab.output.renderOutput(dataTable, element);\n",
              "          const docLink = document.createElement('div');\n",
              "          docLink.innerHTML = docLinkHtml;\n",
              "          element.appendChild(docLink);\n",
              "        }\n",
              "      </script>\n",
              "    </div>\n",
              "  </div>\n",
              "  "
            ]
          },
          "metadata": {},
          "execution_count": 19
        }
      ]
    },
    {
      "cell_type": "code",
      "source": [
        "#melihat data age sebagai boxplot\n",
        "sns.boxplot(df2.Age)"
      ],
      "metadata": {
        "colab": {
          "base_uri": "https://localhost:8080/",
          "height": 447
        },
        "id": "vmOVArgJzU8G",
        "outputId": "22028fba-8fc9-419b-e0f9-6a190b14f3ee"
      },
      "execution_count": 20,
      "outputs": [
        {
          "output_type": "execute_result",
          "data": {
            "text/plain": [
              "<Axes: >"
            ]
          },
          "metadata": {},
          "execution_count": 20
        },
        {
          "output_type": "display_data",
          "data": {
            "text/plain": [
              "<Figure size 640x480 with 1 Axes>"
            ],
            "image/png": "[encoded data removed]"
          },
          "metadata": {}
        }
      ]
    },
    {
      "cell_type": "markdown",
      "source": [
        "**C. Outlier Handling**"
      ],
      "metadata": {
        "id": "hteN738RyLM3"
      }
    },
    {
      "cell_type": "code",
      "source": [
        "# Outlier\n",
        "# Batas atas Q3 + 1.5*IQR\n",
        "# IQR = Q3-Q1\n",
        "#Baris kode dibawah digunakan untuk mengidentifikasi dan menghapus nilai-nilai outlier pada variabel Age pada dataframe df2.\n",
        "#intinya nilai outlier ini adalah nilai yang berada di luar jangkauan perkiraan data normal sehingga perlu dihapus\n",
        "\n",
        "q3 = df2.Age.quantile(0.75)\n",
        "q1 = df2.Age.quantile(0.25)\n",
        "iqr = q3 - q1\n",
        "ba = q3 + (1.5*iqr)\n",
        "bw = q1 - (1.5*iqr)\n",
        "\n",
        "print(q3,q1,iqr,ba,bw)"
      ],
      "metadata": {
        "colab": {
          "base_uri": "https://localhost:8080/"
        },
        "id": "VgPzfnkyzZbn",
        "outputId": "8852a669-2c47-4344-a563-8e827603db3a"
      },
      "execution_count": 21,
      "outputs": [
        {
          "output_type": "stream",
          "name": "stdout",
          "text": [
            "41.0 24.0 17.0 66.5 -1.5\n"
          ]
        }
      ]
    },
    {
      "cell_type": "code",
      "source": [
        "#menampilkan baris-baris pada dataframe df2 yang memiliki nilai Age di luar batas atas dan batas bawah\n",
        "df2[(df2.Age > ba) | (df.Age < bw)]"
      ],
      "metadata": {
        "colab": {
          "base_uri": "https://localhost:8080/",
          "height": 332
        },
        "id": "W5g7BPtJzglD",
        "outputId": "5e555536-80bc-4b19-dfab-75fb8308a2fe"
      },
      "execution_count": 22,
      "outputs": [
        {
          "output_type": "execute_result",
          "data": {
            "text/plain": [
              "     Pregnancies  Glucose  BloodPressure  SkinThickness  Insulin   BMI  \\\n",
              "123            5      132             80              0        0  26.8   \n",
              "363            4      146             78              0        0  38.5   \n",
              "453            2      119              0              0        0  19.6   \n",
              "459            9      134             74             33       60  25.9   \n",
              "489            8      194             80              0        0  26.1   \n",
              "537            0       57             60              0        0  21.7   \n",
              "666            4      145             82             18        0  32.5   \n",
              "674            8       91             82              0        0  35.6   \n",
              "684            5      136             82              0        0   0.0   \n",
              "\n",
              "     DiabetesPedigreeFunction  Age  Outcome  \n",
              "123                     0.186   69        0  \n",
              "363                     0.520   67        1  \n",
              "453                     0.832   72        0  \n",
              "459                     0.460   81        0  \n",
              "489                     0.551   67        0  \n",
              "537                     0.735   67        0  \n",
              "666                     0.235   70        1  \n",
              "674                     0.587   68        0  \n",
              "684                     0.640   69        0  "
            ],
            "text/html": [
              "\n",
              "  <div id=\"df-be092932-5d1e-453c-b99e-1e4e3e0bd35b\">\n",
              "    <div class=\"colab-df-container\">\n",
              "      <div>\n",
              "<style scoped>\n",
              "    .dataframe tbody tr th:only-of-type {\n",
              "        vertical-align: middle;\n",
              "    }\n",
              "\n",
              "    .dataframe tbody tr th {\n",
              "        vertical-align: top;\n",
              "    }\n",
              "\n",
              "    .dataframe thead th {\n",
              "        text-align: right;\n",
              "    }\n",
              "</style>\n",
              "<table border=\"1\" class=\"dataframe\">\n",
              "  <thead>\n",
              "    <tr style=\"text-align: right;\">\n",
              "      <th></th>\n",
              "      <th>Pregnancies</th>\n",
              "      <th>Glucose</th>\n",
              "      <th>BloodPressure</th>\n",
              "      <th>SkinThickness</th>\n",
              "      <th>Insulin</th>\n",
              "      <th>BMI</th>\n",
              "      <th>DiabetesPedigreeFunction</th>\n",
              "      <th>Age</th>\n",
              "      <th>Outcome</th>\n",
              "    </tr>\n",
              "  </thead>\n",
              "  <tbody>\n",
              "    <tr>\n",
              "      <th>123</th>\n",
              "      <td>5</td>\n",
              "      <td>132</td>\n",
              "      <td>80</td>\n",
              "      <td>0</td>\n",
              "      <td>0</td>\n",
              "      <td>26.8</td>\n",
              "      <td>0.186</td>\n",
              "      <td>69</td>\n",
              "      <td>0</td>\n",
              "    </tr>\n",
              "    <tr>\n",
              "      <th>363</th>\n",
              "      <td>4</td>\n",
              "      <td>146</td>\n",
              "      <td>78</td>\n",
              "      <td>0</td>\n",
              "      <td>0</td>\n",
              "      <td>38.5</td>\n",
              "      <td>0.520</td>\n",
              "      <td>67</td>\n",
              "      <td>1</td>\n",
              "    </tr>\n",
              "    <tr>\n",
              "      <th>453</th>\n",
              "      <td>2</td>\n",
              "      <td>119</td>\n",
              "      <td>0</td>\n",
              "      <td>0</td>\n",
              "      <td>0</td>\n",
              "      <td>19.6</td>\n",
              "      <td>0.832</td>\n",
              "      <td>72</td>\n",
              "      <td>0</td>\n",
              "    </tr>\n",
              "    <tr>\n",
              "      <th>459</th>\n",
              "      <td>9</td>\n",
              "      <td>134</td>\n",
              "      <td>74</td>\n",
              "      <td>33</td>\n",
              "      <td>60</td>\n",
              "      <td>25.9</td>\n",
              "      <td>0.460</td>\n",
              "      <td>81</td>\n",
              "      <td>0</td>\n",
              "    </tr>\n",
              "    <tr>\n",
              "      <th>489</th>\n",
              "      <td>8</td>\n",
              "      <td>194</td>\n",
              "      <td>80</td>\n",
              "      <td>0</td>\n",
              "      <td>0</td>\n",
              "      <td>26.1</td>\n",
              "      <td>0.551</td>\n",
              "      <td>67</td>\n",
              "      <td>0</td>\n",
              "    </tr>\n",
              "    <tr>\n",
              "      <th>537</th>\n",
              "      <td>0</td>\n",
              "      <td>57</td>\n",
              "      <td>60</td>\n",
              "      <td>0</td>\n",
              "      <td>0</td>\n",
              "      <td>21.7</td>\n",
              "      <td>0.735</td>\n",
              "      <td>67</td>\n",
              "      <td>0</td>\n",
              "    </tr>\n",
              "    <tr>\n",
              "      <th>666</th>\n",
              "      <td>4</td>\n",
              "      <td>145</td>\n",
              "      <td>82</td>\n",
              "      <td>18</td>\n",
              "      <td>0</td>\n",
              "      <td>32.5</td>\n",
              "      <td>0.235</td>\n",
              "      <td>70</td>\n",
              "      <td>1</td>\n",
              "    </tr>\n",
              "    <tr>\n",
              "      <th>674</th>\n",
              "      <td>8</td>\n",
              "      <td>91</td>\n",
              "      <td>82</td>\n",
              "      <td>0</td>\n",
              "      <td>0</td>\n",
              "      <td>35.6</td>\n",
              "      <td>0.587</td>\n",
              "      <td>68</td>\n",
              "      <td>0</td>\n",
              "    </tr>\n",
              "    <tr>\n",
              "      <th>684</th>\n",
              "      <td>5</td>\n",
              "      <td>136</td>\n",
              "      <td>82</td>\n",
              "      <td>0</td>\n",
              "      <td>0</td>\n",
              "      <td>0.0</td>\n",
              "      <td>0.640</td>\n",
              "      <td>69</td>\n",
              "      <td>0</td>\n",
              "    </tr>\n",
              "  </tbody>\n",
              "</table>\n",
              "</div>\n",
              "      <button class=\"colab-df-convert\" onclick=\"convertToInteractive('df-be092932-5d1e-453c-b99e-1e4e3e0bd35b')\"\n",
              "              title=\"Convert this dataframe to an interactive table.\"\n",
              "              style=\"display:none;\">\n",
              "        \n",
              "  <svg xmlns=\"http://www.w3.org/2000/svg\" height=\"24px\"viewBox=\"0 0 24 24\"\n",
              "       width=\"24px\">\n",
              "    <path d=\"M0 0h24v24H0V0z\" fill=\"none\"/>\n",
              "    <path d=\"M18.56 5.44l.94 2.06.94-2.06 2.06-.94-2.06-.94-.94-2.06-.94 2.06-2.06.94zm-11 1L8.5 8.5l.94-2.06 2.06-.94-2.06-.94L8.5 2.5l-.94 2.06-2.06.94zm10 10l.94 2.06.94-2.06 2.06-.94-2.06-.94-.94-2.06-.94 2.06-2.06.94z\"/><path d=\"M17.41 7.96l-1.37-1.37c-.4-.4-.92-.59-1.43-.59-.52 0-1.04.2-1.43.59L10.3 9.45l-7.72 7.72c-.78.78-.78 2.05 0 2.83L4 21.41c.39.39.9.59 1.41.59.51 0 1.02-.2 1.41-.59l7.78-7.78 2.81-2.81c.8-.78.8-2.07 0-2.86zM5.41 20L4 18.59l7.72-7.72 1.47 1.35L5.41 20z\"/>\n",
              "  </svg>\n",
              "      </button>\n",
              "      \n",
              "  <style>\n",
              "    .colab-df-container {\n",
              "      display:flex;\n",
              "      flex-wrap:wrap;\n",
              "      gap: 12px;\n",
              "    }\n",
              "\n",
              "    .colab-df-convert {\n",
              "      background-color: #E8F0FE;\n",
              "      border: none;\n",
              "      border-radius: 50%;\n",
              "      cursor: pointer;\n",
              "      display: none;\n",
              "      fill: #1967D2;\n",
              "      height: 32px;\n",
              "      padding: 0 0 0 0;\n",
              "      width: 32px;\n",
              "    }\n",
              "\n",
              "    .colab-df-convert:hover {\n",
              "      background-color: #E2EBFA;\n",
              "      box-shadow: 0px 1px 2px rgba(60, 64, 67, 0.3), 0px 1px 3px 1px rgba(60, 64, 67, 0.15);\n",
              "      fill: #174EA6;\n",
              "    }\n",
              "\n",
              "    [theme=dark] .colab-df-convert {\n",
              "      background-color: #3B4455;\n",
              "      fill: #D2E3FC;\n",
              "    }\n",
              "\n",
              "    [theme=dark] .colab-df-convert:hover {\n",
              "      background-color: #434B5C;\n",
              "      box-shadow: 0px 1px 3px 1px rgba(0, 0, 0, 0.15);\n",
              "      filter: drop-shadow(0px 1px 2px rgba(0, 0, 0, 0.3));\n",
              "      fill: #FFFFFF;\n",
              "    }\n",
              "  </style>\n",
              "\n",
              "      <script>\n",
              "        const buttonEl =\n",
              "          document.querySelector('#df-be092932-5d1e-453c-b99e-1e4e3e0bd35b button.colab-df-convert');\n",
              "        buttonEl.style.display =\n",
              "          google.colab.kernel.accessAllowed ? 'block' : 'none';\n",
              "\n",
              "        async function convertToInteractive(key) {\n",
              "          const element = document.querySelector('#df-be092932-5d1e-453c-b99e-1e4e3e0bd35b');\n",
              "          const dataTable =\n",
              "            await google.colab.kernel.invokeFunction('convertToInteractive',\n",
              "                                                     [key], {});\n",
              "          if (!dataTable) return;\n",
              "\n",
              "          const docLinkHtml = 'Like what you see? Visit the ' +\n",
              "            '<a target=\"_blank\" href=https://colab.research.google.com/notebooks/data_table.ipynb>data table notebook</a>'\n",
              "            + ' to learn more about interactive tables.';\n",
              "          element.innerHTML = '';\n",
              "          dataTable['output_type'] = 'display_data';\n",
              "          await google.colab.output.renderOutput(dataTable, element);\n",
              "          const docLink = document.createElement('div');\n",
              "          docLink.innerHTML = docLinkHtml;\n",
              "          element.appendChild(docLink);\n",
              "        }\n",
              "      </script>\n",
              "    </div>\n",
              "  </div>\n",
              "  "
            ]
          },
          "metadata": {},
          "execution_count": 22
        }
      ]
    },
    {
      "cell_type": "code",
      "source": [
        "#hasilnya ada 9 baris data\n",
        "#kemudian kita bagi dia dengan banyaknya data dari df2 dan dikalikan 100\n",
        "9/len(df2)*100"
      ],
      "metadata": {
        "colab": {
          "base_uri": "https://localhost:8080/"
        },
        "id": "jgqOKadFzyO3",
        "outputId": "ab83ae53-f000-4d38-d085-c72304f3fc3c"
      },
      "execution_count": 23,
      "outputs": [
        {
          "output_type": "execute_result",
          "data": {
            "text/plain": [
              "1.171875"
            ]
          },
          "metadata": {},
          "execution_count": 23
        }
      ]
    },
    {
      "cell_type": "code",
      "source": [
        "#Pada baris ini, dilakukan filtering pada DataFrame df2 dengan menghapus baris yang memiliki nilai Age di luar batas bawah (bw) dan batas atas (ba)\n",
        "#baris yang tersisa adalah baris yang nilai Age-nya tidak termasuk sebagai outlier karena menggunakan negasi/kebalikan\n",
        "df3 = df2[~((df2.Age > ba) | (df.Age < bw))]"
      ],
      "metadata": {
        "id": "C7Sza6tKz167"
      },
      "execution_count": 24,
      "outputs": []
    },
    {
      "cell_type": "code",
      "source": [
        "#data boxplot yang ditampilkan adalah data yang sudah di outlier\n",
        "#outlier sendiri artinya menghapus data yang berada diluar jangkauan normal (data tidak wajar) sehingga harus dihapus untuk analisis lebih lanjut\n",
        "#data outlier bisa disebabkan oleh kesalahan pengukuran, pengumpulan data yang buruk, atau beberapa faktor lainnya.\n",
        "#lihat boxplot age berikut (lihat data sudah di outlier atau diminimalisir)\n",
        "sns.boxplot(df3.Age)"
      ],
      "metadata": {
        "colab": {
          "base_uri": "https://localhost:8080/",
          "height": 447
        },
        "id": "TZYVIa5Tz5EP",
        "outputId": "7cb6b704-3af4-4b68-d953-4b96df1c5f29"
      },
      "execution_count": 25,
      "outputs": [
        {
          "output_type": "execute_result",
          "data": {
            "text/plain": [
              "<Axes: >"
            ]
          },
          "metadata": {},
          "execution_count": 25
        },
        {
          "output_type": "display_data",
          "data": {
            "text/plain": [
              "<Figure size 640x480 with 1 Axes>"
            ],
            "image/png": "[encoded data removed]"
          },
          "metadata": {}
        }
      ]
    },
    {
      "cell_type": "markdown",
      "source": [
        "**3. Construct Data**\n",
        "\n",
        "1.   Hapus Kolom yang tidak digunakan\n",
        "2.   Ekstrak Kolom yang ada\n",
        "\n"
      ],
      "metadata": {
        "id": "9H9tTFIx0FiR"
      }
    },
    {
      "cell_type": "code",
      "source": [
        "#melihat 5 kolom teratas\n",
        "#karna dirasa setiap kolom penting, jadi tidak ada kolom yang dihapus disini\n",
        "#misal klo mau dihapus, pake df3 = df2.drop(columns=[\"id\"])\n",
        "df3.head()"
      ],
      "metadata": {
        "id": "iQDstzjH0T27",
        "colab": {
          "base_uri": "https://localhost:8080/",
          "height": 206
        },
        "outputId": "6e6629bd-ac4e-4e43-c5ad-98414ce5cba0"
      },
      "execution_count": 26,
      "outputs": [
        {
          "output_type": "execute_result",
          "data": {
            "text/plain": [
              "   Pregnancies  Glucose  BloodPressure  SkinThickness  Insulin   BMI  \\\n",
              "0            6      148             72             35        0  33.6   \n",
              "1            1       85             66             29        0  26.6   \n",
              "2            8      183             64              0        0  23.3   \n",
              "3            1       89             66             23       94  28.1   \n",
              "4            0      137             40             35      168  43.1   \n",
              "\n",
              "   DiabetesPedigreeFunction  Age  Outcome  \n",
              "0                     0.627   50        1  \n",
              "1                     0.351   31        0  \n",
              "2                     0.672   32        1  \n",
              "3                     0.167   21        0  \n",
              "4                     2.288   33        1  "
            ],
            "text/html": [
              "\n",
              "  <div id=\"df-7ddc6945-6088-451e-b31b-cda83f8b7f2f\">\n",
              "    <div class=\"colab-df-container\">\n",
              "      <div>\n",
              "<style scoped>\n",
              "    .dataframe tbody tr th:only-of-type {\n",
              "        vertical-align: middle;\n",
              "    }\n",
              "\n",
              "    .dataframe tbody tr th {\n",
              "        vertical-align: top;\n",
              "    }\n",
              "\n",
              "    .dataframe thead th {\n",
              "        text-align: right;\n",
              "    }\n",
              "</style>\n",
              "<table border=\"1\" class=\"dataframe\">\n",
              "  <thead>\n",
              "    <tr style=\"text-align: right;\">\n",
              "      <th></th>\n",
              "      <th>Pregnancies</th>\n",
              "      <th>Glucose</th>\n",
              "      <th>BloodPressure</th>\n",
              "      <th>SkinThickness</th>\n",
              "      <th>Insulin</th>\n",
              "      <th>BMI</th>\n",
              "      <th>DiabetesPedigreeFunction</th>\n",
              "      <th>Age</th>\n",
              "      <th>Outcome</th>\n",
              "    </tr>\n",
              "  </thead>\n",
              "  <tbody>\n",
              "    <tr>\n",
              "      <th>0</th>\n",
              "      <td>6</td>\n",
              "      <td>148</td>\n",
              "      <td>72</td>\n",
              "      <td>35</td>\n",
              "      <td>0</td>\n",
              "      <td>33.6</td>\n",
              "      <td>0.627</td>\n",
              "      <td>50</td>\n",
              "      <td>1</td>\n",
              "    </tr>\n",
              "    <tr>\n",
              "      <th>1</th>\n",
              "      <td>1</td>\n",
              "      <td>85</td>\n",
              "      <td>66</td>\n",
              "      <td>29</td>\n",
              "      <td>0</td>\n",
              "      <td>26.6</td>\n",
              "      <td>0.351</td>\n",
              "      <td>31</td>\n",
              "      <td>0</td>\n",
              "    </tr>\n",
              "    <tr>\n",
              "      <th>2</th>\n",
              "      <td>8</td>\n",
              "      <td>183</td>\n",
              "      <td>64</td>\n",
              "      <td>0</td>\n",
              "      <td>0</td>\n",
              "      <td>23.3</td>\n",
              "      <td>0.672</td>\n",
              "      <td>32</td>\n",
              "      <td>1</td>\n",
              "    </tr>\n",
              "    <tr>\n",
              "      <th>3</th>\n",
              "      <td>1</td>\n",
              "      <td>89</td>\n",
              "      <td>66</td>\n",
              "      <td>23</td>\n",
              "      <td>94</td>\n",
              "      <td>28.1</td>\n",
              "      <td>0.167</td>\n",
              "      <td>21</td>\n",
              "      <td>0</td>\n",
              "    </tr>\n",
              "    <tr>\n",
              "      <th>4</th>\n",
              "      <td>0</td>\n",
              "      <td>137</td>\n",
              "      <td>40</td>\n",
              "      <td>35</td>\n",
              "      <td>168</td>\n",
              "      <td>43.1</td>\n",
              "      <td>2.288</td>\n",
              "      <td>33</td>\n",
              "      <td>1</td>\n",
              "    </tr>\n",
              "  </tbody>\n",
              "</table>\n",
              "</div>\n",
              "      <button class=\"colab-df-convert\" onclick=\"convertToInteractive('df-7ddc6945-6088-451e-b31b-cda83f8b7f2f')\"\n",
              "              title=\"Convert this dataframe to an interactive table.\"\n",
              "              style=\"display:none;\">\n",
              "        \n",
              "  <svg xmlns=\"http://www.w3.org/2000/svg\" height=\"24px\"viewBox=\"0 0 24 24\"\n",
              "       width=\"24px\">\n",
              "    <path d=\"M0 0h24v24H0V0z\" fill=\"none\"/>\n",
              "    <path d=\"M18.56 5.44l.94 2.06.94-2.06 2.06-.94-2.06-.94-.94-2.06-.94 2.06-2.06.94zm-11 1L8.5 8.5l.94-2.06 2.06-.94-2.06-.94L8.5 2.5l-.94 2.06-2.06.94zm10 10l.94 2.06.94-2.06 2.06-.94-2.06-.94-.94-2.06-.94 2.06-2.06.94z\"/><path d=\"M17.41 7.96l-1.37-1.37c-.4-.4-.92-.59-1.43-.59-.52 0-1.04.2-1.43.59L10.3 9.45l-7.72 7.72c-.78.78-.78 2.05 0 2.83L4 21.41c.39.39.9.59 1.41.59.51 0 1.02-.2 1.41-.59l7.78-7.78 2.81-2.81c.8-.78.8-2.07 0-2.86zM5.41 20L4 18.59l7.72-7.72 1.47 1.35L5.41 20z\"/>\n",
              "  </svg>\n",
              "      </button>\n",
              "      \n",
              "  <style>\n",
              "    .colab-df-container {\n",
              "      display:flex;\n",
              "      flex-wrap:wrap;\n",
              "      gap: 12px;\n",
              "    }\n",
              "\n",
              "    .colab-df-convert {\n",
              "      background-color: #E8F0FE;\n",
              "      border: none;\n",
              "      border-radius: 50%;\n",
              "      cursor: pointer;\n",
              "      display: none;\n",
              "      fill: #1967D2;\n",
              "      height: 32px;\n",
              "      padding: 0 0 0 0;\n",
              "      width: 32px;\n",
              "    }\n",
              "\n",
              "    .colab-df-convert:hover {\n",
              "      background-color: #E2EBFA;\n",
              "      box-shadow: 0px 1px 2px rgba(60, 64, 67, 0.3), 0px 1px 3px 1px rgba(60, 64, 67, 0.15);\n",
              "      fill: #174EA6;\n",
              "    }\n",
              "\n",
              "    [theme=dark] .colab-df-convert {\n",
              "      background-color: #3B4455;\n",
              "      fill: #D2E3FC;\n",
              "    }\n",
              "\n",
              "    [theme=dark] .colab-df-convert:hover {\n",
              "      background-color: #434B5C;\n",
              "      box-shadow: 0px 1px 3px 1px rgba(0, 0, 0, 0.15);\n",
              "      filter: drop-shadow(0px 1px 2px rgba(0, 0, 0, 0.3));\n",
              "      fill: #FFFFFF;\n",
              "    }\n",
              "  </style>\n",
              "\n",
              "      <script>\n",
              "        const buttonEl =\n",
              "          document.querySelector('#df-7ddc6945-6088-451e-b31b-cda83f8b7f2f button.colab-df-convert');\n",
              "        buttonEl.style.display =\n",
              "          google.colab.kernel.accessAllowed ? 'block' : 'none';\n",
              "\n",
              "        async function convertToInteractive(key) {\n",
              "          const element = document.querySelector('#df-7ddc6945-6088-451e-b31b-cda83f8b7f2f');\n",
              "          const dataTable =\n",
              "            await google.colab.kernel.invokeFunction('convertToInteractive',\n",
              "                                                     [key], {});\n",
              "          if (!dataTable) return;\n",
              "\n",
              "          const docLinkHtml = 'Like what you see? Visit the ' +\n",
              "            '<a target=\"_blank\" href=https://colab.research.google.com/notebooks/data_table.ipynb>data table notebook</a>'\n",
              "            + ' to learn more about interactive tables.';\n",
              "          element.innerHTML = '';\n",
              "          dataTable['output_type'] = 'display_data';\n",
              "          await google.colab.output.renderOutput(dataTable, element);\n",
              "          const docLink = document.createElement('div');\n",
              "          docLink.innerHTML = docLinkHtml;\n",
              "          element.appendChild(docLink);\n",
              "        }\n",
              "      </script>\n",
              "    </div>\n",
              "  </div>\n",
              "  "
            ]
          },
          "metadata": {},
          "execution_count": 26
        }
      ]
    },
    {
      "cell_type": "markdown",
      "source": [
        "**4. Visualisasi Korelasi**"
      ],
      "metadata": {
        "id": "agxLxho80fLm"
      }
    },
    {
      "cell_type": "code",
      "source": [
        "#menghitung nilai korelasi antar kolom untuk menunjukkan seberapa kuat hubungan antar kolom tersebut\n",
        "df3.corr()"
      ],
      "metadata": {
        "id": "TAjpp-Bi0mJX",
        "colab": {
          "base_uri": "https://localhost:8080/",
          "height": 332
        },
        "outputId": "fc141afe-2c4c-41f6-b27a-e77b4bd4e2cd"
      },
      "execution_count": 27,
      "outputs": [
        {
          "output_type": "execute_result",
          "data": {
            "text/plain": [
              "                          Pregnancies   Glucose  BloodPressure  SkinThickness  \\\n",
              "Pregnancies                  1.000000  0.124529       0.136943      -0.081686   \n",
              "Glucose                      0.124529  1.000000       0.150956       0.059542   \n",
              "BloodPressure                0.136943  0.150956       1.000000       0.209117   \n",
              "SkinThickness               -0.081686  0.059542       0.209117       1.000000   \n",
              "Insulin                     -0.072283  0.336411       0.089696       0.433188   \n",
              "BMI                          0.019102  0.227871       0.284681       0.390470   \n",
              "DiabetesPedigreeFunction    -0.032479  0.141262       0.047657       0.189589   \n",
              "Age                          0.567149  0.273302       0.259467      -0.087890   \n",
              "Outcome                      0.226778  0.470263       0.062724       0.071594   \n",
              "\n",
              "                           Insulin       BMI  DiabetesPedigreeFunction  \\\n",
              "Pregnancies              -0.072283  0.019102                 -0.032479   \n",
              "Glucose                   0.336411  0.227871                  0.141262   \n",
              "BloodPressure             0.089696  0.284681                  0.047657   \n",
              "SkinThickness             0.433188  0.390470                  0.189589   \n",
              "Insulin                   1.000000  0.194754                  0.187378   \n",
              "BMI                       0.194754  1.000000                  0.148686   \n",
              "DiabetesPedigreeFunction  0.187378  0.148686                  1.000000   \n",
              "Age                      -0.020540  0.074294                  0.029428   \n",
              "Outcome                   0.129826  0.288611                  0.178123   \n",
              "\n",
              "                               Age   Outcome  \n",
              "Pregnancies               0.567149  0.226778  \n",
              "Glucose                   0.273302  0.470263  \n",
              "BloodPressure             0.259467  0.062724  \n",
              "SkinThickness            -0.087890  0.071594  \n",
              "Insulin                  -0.020540  0.129826  \n",
              "BMI                       0.074294  0.288611  \n",
              "DiabetesPedigreeFunction  0.029428  0.178123  \n",
              "Age                       1.000000  0.266268  \n",
              "Outcome                   0.266268  1.000000  "
            ],
            "text/html": [
              "\n",
              "  <div id=\"df-2ffdf6e6-0304-43ce-8e01-1a3123c19c47\">\n",
              "    <div class=\"colab-df-container\">\n",
              "      <div>\n",
              "<style scoped>\n",
              "    .dataframe tbody tr th:only-of-type {\n",
              "        vertical-align: middle;\n",
              "    }\n",
              "\n",
              "    .dataframe tbody tr th {\n",
              "        vertical-align: top;\n",
              "    }\n",
              "\n",
              "    .dataframe thead th {\n",
              "        text-align: right;\n",
              "    }\n",
              "</style>\n",
              "<table border=\"1\" class=\"dataframe\">\n",
              "  <thead>\n",
              "    <tr style=\"text-align: right;\">\n",
              "      <th></th>\n",
              "      <th>Pregnancies</th>\n",
              "      <th>Glucose</th>\n",
              "      <th>BloodPressure</th>\n",
              "      <th>SkinThickness</th>\n",
              "      <th>Insulin</th>\n",
              "      <th>BMI</th>\n",
              "      <th>DiabetesPedigreeFunction</th>\n",
              "      <th>Age</th>\n",
              "      <th>Outcome</th>\n",
              "    </tr>\n",
              "  </thead>\n",
              "  <tbody>\n",
              "    <tr>\n",
              "      <th>Pregnancies</th>\n",
              "      <td>1.000000</td>\n",
              "      <td>0.124529</td>\n",
              "      <td>0.136943</td>\n",
              "      <td>-0.081686</td>\n",
              "      <td>-0.072283</td>\n",
              "      <td>0.019102</td>\n",
              "      <td>-0.032479</td>\n",
              "      <td>0.567149</td>\n",
              "      <td>0.226778</td>\n",
              "    </tr>\n",
              "    <tr>\n",
              "      <th>Glucose</th>\n",
              "      <td>0.124529</td>\n",
              "      <td>1.000000</td>\n",
              "      <td>0.150956</td>\n",
              "      <td>0.059542</td>\n",
              "      <td>0.336411</td>\n",
              "      <td>0.227871</td>\n",
              "      <td>0.141262</td>\n",
              "      <td>0.273302</td>\n",
              "      <td>0.470263</td>\n",
              "    </tr>\n",
              "    <tr>\n",
              "      <th>BloodPressure</th>\n",
              "      <td>0.136943</td>\n",
              "      <td>0.150956</td>\n",
              "      <td>1.000000</td>\n",
              "      <td>0.209117</td>\n",
              "      <td>0.089696</td>\n",
              "      <td>0.284681</td>\n",
              "      <td>0.047657</td>\n",
              "      <td>0.259467</td>\n",
              "      <td>0.062724</td>\n",
              "    </tr>\n",
              "    <tr>\n",
              "      <th>SkinThickness</th>\n",
              "      <td>-0.081686</td>\n",
              "      <td>0.059542</td>\n",
              "      <td>0.209117</td>\n",
              "      <td>1.000000</td>\n",
              "      <td>0.433188</td>\n",
              "      <td>0.390470</td>\n",
              "      <td>0.189589</td>\n",
              "      <td>-0.087890</td>\n",
              "      <td>0.071594</td>\n",
              "    </tr>\n",
              "    <tr>\n",
              "      <th>Insulin</th>\n",
              "      <td>-0.072283</td>\n",
              "      <td>0.336411</td>\n",
              "      <td>0.089696</td>\n",
              "      <td>0.433188</td>\n",
              "      <td>1.000000</td>\n",
              "      <td>0.194754</td>\n",
              "      <td>0.187378</td>\n",
              "      <td>-0.020540</td>\n",
              "      <td>0.129826</td>\n",
              "    </tr>\n",
              "    <tr>\n",
              "      <th>BMI</th>\n",
              "      <td>0.019102</td>\n",
              "      <td>0.227871</td>\n",
              "      <td>0.284681</td>\n",
              "      <td>0.390470</td>\n",
              "      <td>0.194754</td>\n",
              "      <td>1.000000</td>\n",
              "      <td>0.148686</td>\n",
              "      <td>0.074294</td>\n",
              "      <td>0.288611</td>\n",
              "    </tr>\n",
              "    <tr>\n",
              "      <th>DiabetesPedigreeFunction</th>\n",
              "      <td>-0.032479</td>\n",
              "      <td>0.141262</td>\n",
              "      <td>0.047657</td>\n",
              "      <td>0.189589</td>\n",
              "      <td>0.187378</td>\n",
              "      <td>0.148686</td>\n",
              "      <td>1.000000</td>\n",
              "      <td>0.029428</td>\n",
              "      <td>0.178123</td>\n",
              "    </tr>\n",
              "    <tr>\n",
              "      <th>Age</th>\n",
              "      <td>0.567149</td>\n",
              "      <td>0.273302</td>\n",
              "      <td>0.259467</td>\n",
              "      <td>-0.087890</td>\n",
              "      <td>-0.020540</td>\n",
              "      <td>0.074294</td>\n",
              "      <td>0.029428</td>\n",
              "      <td>1.000000</td>\n",
              "      <td>0.266268</td>\n",
              "    </tr>\n",
              "    <tr>\n",
              "      <th>Outcome</th>\n",
              "      <td>0.226778</td>\n",
              "      <td>0.470263</td>\n",
              "      <td>0.062724</td>\n",
              "      <td>0.071594</td>\n",
              "      <td>0.129826</td>\n",
              "      <td>0.288611</td>\n",
              "      <td>0.178123</td>\n",
              "      <td>0.266268</td>\n",
              "      <td>1.000000</td>\n",
              "    </tr>\n",
              "  </tbody>\n",
              "</table>\n",
              "</div>\n",
              "      <button class=\"colab-df-convert\" onclick=\"convertToInteractive('df-2ffdf6e6-0304-43ce-8e01-1a3123c19c47')\"\n",
              "              title=\"Convert this dataframe to an interactive table.\"\n",
              "              style=\"display:none;\">\n",
              "        \n",
              "  <svg xmlns=\"http://www.w3.org/2000/svg\" height=\"24px\"viewBox=\"0 0 24 24\"\n",
              "       width=\"24px\">\n",
              "    <path d=\"M0 0h24v24H0V0z\" fill=\"none\"/>\n",
              "    <path d=\"M18.56 5.44l.94 2.06.94-2.06 2.06-.94-2.06-.94-.94-2.06-.94 2.06-2.06.94zm-11 1L8.5 8.5l.94-2.06 2.06-.94-2.06-.94L8.5 2.5l-.94 2.06-2.06.94zm10 10l.94 2.06.94-2.06 2.06-.94-2.06-.94-.94-2.06-.94 2.06-2.06.94z\"/><path d=\"M17.41 7.96l-1.37-1.37c-.4-.4-.92-.59-1.43-.59-.52 0-1.04.2-1.43.59L10.3 9.45l-7.72 7.72c-.78.78-.78 2.05 0 2.83L4 21.41c.39.39.9.59 1.41.59.51 0 1.02-.2 1.41-.59l7.78-7.78 2.81-2.81c.8-.78.8-2.07 0-2.86zM5.41 20L4 18.59l7.72-7.72 1.47 1.35L5.41 20z\"/>\n",
              "  </svg>\n",
              "      </button>\n",
              "      \n",
              "  <style>\n",
              "    .colab-df-container {\n",
              "      display:flex;\n",
              "      flex-wrap:wrap;\n",
              "      gap: 12px;\n",
              "    }\n",
              "\n",
              "    .colab-df-convert {\n",
              "      background-color: #E8F0FE;\n",
              "      border: none;\n",
              "      border-radius: 50%;\n",
              "      cursor: pointer;\n",
              "      display: none;\n",
              "      fill: #1967D2;\n",
              "      height: 32px;\n",
              "      padding: 0 0 0 0;\n",
              "      width: 32px;\n",
              "    }\n",
              "\n",
              "    .colab-df-convert:hover {\n",
              "      background-color: #E2EBFA;\n",
              "      box-shadow: 0px 1px 2px rgba(60, 64, 67, 0.3), 0px 1px 3px 1px rgba(60, 64, 67, 0.15);\n",
              "      fill: #174EA6;\n",
              "    }\n",
              "\n",
              "    [theme=dark] .colab-df-convert {\n",
              "      background-color: #3B4455;\n",
              "      fill: #D2E3FC;\n",
              "    }\n",
              "\n",
              "    [theme=dark] .colab-df-convert:hover {\n",
              "      background-color: #434B5C;\n",
              "      box-shadow: 0px 1px 3px 1px rgba(0, 0, 0, 0.15);\n",
              "      filter: drop-shadow(0px 1px 2px rgba(0, 0, 0, 0.3));\n",
              "      fill: #FFFFFF;\n",
              "    }\n",
              "  </style>\n",
              "\n",
              "      <script>\n",
              "        const buttonEl =\n",
              "          document.querySelector('#df-2ffdf6e6-0304-43ce-8e01-1a3123c19c47 button.colab-df-convert');\n",
              "        buttonEl.style.display =\n",
              "          google.colab.kernel.accessAllowed ? 'block' : 'none';\n",
              "\n",
              "        async function convertToInteractive(key) {\n",
              "          const element = document.querySelector('#df-2ffdf6e6-0304-43ce-8e01-1a3123c19c47');\n",
              "          const dataTable =\n",
              "            await google.colab.kernel.invokeFunction('convertToInteractive',\n",
              "                                                     [key], {});\n",
              "          if (!dataTable) return;\n",
              "\n",
              "          const docLinkHtml = 'Like what you see? Visit the ' +\n",
              "            '<a target=\"_blank\" href=https://colab.research.google.com/notebooks/data_table.ipynb>data table notebook</a>'\n",
              "            + ' to learn more about interactive tables.';\n",
              "          element.innerHTML = '';\n",
              "          dataTable['output_type'] = 'display_data';\n",
              "          await google.colab.output.renderOutput(dataTable, element);\n",
              "          const docLink = document.createElement('div');\n",
              "          docLink.innerHTML = docLinkHtml;\n",
              "          element.appendChild(docLink);\n",
              "        }\n",
              "      </script>\n",
              "    </div>\n",
              "  </div>\n",
              "  "
            ]
          },
          "metadata": {},
          "execution_count": 27
        }
      ]
    },
    {
      "cell_type": "code",
      "source": [
        "#digunakan untuk memvisualisasikan korelasi antar fitur dalam dataframe df3\n",
        "#pada gambar ini menunjukkan seberapa erat hubungan antar kolom data \n",
        "#semakin cerah warna pada heatmap menunjukkan semakin tinggi korelasi antara dua variabel\n",
        "#sedangkan semakin gelap berarti semakin rendah korelasi atau hubungannya \n",
        "sns.heatmap(df3.corr())"
      ],
      "metadata": {
        "id": "CvJqxhL50oyv",
        "colab": {
          "base_uri": "https://localhost:8080/",
          "height": 620
        },
        "outputId": "57c07942-17ae-4b91-dfb8-f7530e4f200c"
      },
      "execution_count": 28,
      "outputs": [
        {
          "output_type": "execute_result",
          "data": {
            "text/plain": [
              "<Axes: >"
            ]
          },
          "metadata": {},
          "execution_count": 28
        },
        {
          "output_type": "display_data",
          "data": {
            "text/plain": [
              "<Figure size 640x480 with 2 Axes>"
            ],
            "image/png": "[encoded data removed]"
          },
          "metadata": {}
        }
      ]
    },
    {
      "cell_type": "code",
      "source": [
        "#Fungsi dari px.imshow(df3.corr()) adalah untuk menampilkan matriks korelasi sebagai gambar heatmap\n",
        "#hasil gambar ini sebenarnya sama aja kek di atas, bedanya yang ini lebih menarik atau interaktif\n",
        "px.imshow(df3.corr())"
      ],
      "metadata": {
        "id": "5-oH_5Ga0rWU",
        "colab": {
          "base_uri": "https://localhost:8080/",
          "height": 542
        },
        "outputId": "afa6fedb-24e2-44c2-a2ba-188e4dfe0a75"
      },
      "execution_count": 29,
      "outputs": [
        {
          "output_type": "display_data",
          "data": {
            "text/html": [
              "<html>\n",
              "<head><meta charset=\"utf-8\" /></head>\n",
              "<body>\n",
              "    <div>            <script src=\"https://cdnjs.cloudflare.com/ajax/libs/mathjax/2.7.5/MathJax.js?config=TeX-AMS-MML_SVG\"></script><script type=\"text/javascript\">if (window.MathJax && window.MathJax.Hub && window.MathJax.Hub.Config) {window.MathJax.Hub.Config({SVG: {font: \"STIX-Web\"}});}</script>                <script type=\"text/javascript\">window.PlotlyConfig = {MathJaxConfig: 'local'};</script>\n",
              "        <script src=\"https://cdn.plot.ly/plotly-2.18.2.min.js\"></script>                <div id=\"59b0736a-b25e-4c06-8415-244b9eedbedc\" class=\"plotly-graph-div\" style=\"height:525px; width:100%;\"></div>            <script type=\"text/javascript\">                                    window.PLOTLYENV=window.PLOTLYENV || {};                                    if (document.getElementById(\"59b0736a-b25e-4c06-8415-244b9eedbedc\")) {                    Plotly.newPlot(                        \"59b0736a-b25e-4c06-8415-244b9eedbedc\",                        [{\"coloraxis\":\"coloraxis\",\"name\":\"0\",\"x\":[\"Pregnancies\",\"Glucose\",\"BloodPressure\",\"SkinThickness\",\"Insulin\",\"BMI\",\"DiabetesPedigreeFunction\",\"Age\",\"Outcome\"],\"y\":[\"Pregnancies\",\"Glucose\",\"BloodPressure\",\"SkinThickness\",\"Insulin\",\"BMI\",\"DiabetesPedigreeFunction\",\"Age\",\"Outcome\"],\"z\":[[1.0,0.12452931034732649,0.13694281991122287,-0.08168569837513748,-0.07228311594723912,0.019101634315252233,-0.03247925278741197,0.567148930759336,0.2267775996538542],[0.12452931034732649,1.0,0.15095567273748461,0.059541700271982995,0.3364110800551416,0.22787063181513506,0.1412619248167331,0.27330232500709223,0.4702633858933697],[0.13694281991122287,0.15095567273748461,1.0,0.2091174749566388,0.0896957766054092,0.2846811106524653,0.047656594319395874,0.25946745553344824,0.06272424362626683],[-0.08168569837513748,0.059541700271982995,0.2091174749566388,1.0,0.4331882159052897,0.39047003132327734,0.18958920669604726,-0.08788985564928929,0.07159392035454443],[-0.07228311594723912,0.3364110800551416,0.0896957766054092,0.4331882159052897,1.0,0.19475368442917323,0.1873783752497488,-0.02054042636665041,0.12982638457719334],[0.019101634315252233,0.22787063181513506,0.2846811106524653,0.39047003132327734,0.19475368442917323,1.0,0.14868639952453666,0.07429387601476968,0.2886107755213126],[-0.03247925278741197,0.1412619248167331,0.047656594319395874,0.18958920669604726,0.1873783752497488,0.14868639952453666,1.0,0.02942822391208828,0.17812345416237016],[0.567148930759336,0.27330232500709223,0.25946745553344824,-0.08788985564928929,-0.02054042636665041,0.07429387601476968,0.02942822391208828,1.0,0.2662683846994273],[0.2267775996538542,0.4702633858933697,0.06272424362626683,0.07159392035454443,0.12982638457719334,0.2886107755213126,0.17812345416237016,0.2662683846994273,1.0]],\"type\":\"heatmap\",\"xaxis\":\"x\",\"yaxis\":\"y\",\"hovertemplate\":\"x: %{x}<br>y: %{y}<br>color: %{z}<extra></extra>\"}],                        {\"template\":{\"data\":{\"histogram2dcontour\":[{\"type\":\"histogram2dcontour\",\"colorbar\":{\"outlinewidth\":0,\"ticks\":\"\"},\"colorscale\":[[0.0,\"#0d0887\"],[0.1111111111111111,\"#46039f\"],[0.2222222222222222,\"#7201a8\"],[0.3333333333333333,\"#9c179e\"],[0.4444444444444444,\"#bd3786\"],[0.5555555555555556,\"#d8576b\"],[0.6666666666666666,\"#ed7953\"],[0.7777777777777778,\"#fb9f3a\"],[0.8888888888888888,\"#fdca26\"],[1.0,\"#f0f921\"]]}],\"choropleth\":[{\"type\":\"choropleth\",\"colorbar\":{\"outlinewidth\":0,\"ticks\":\"\"}}],\"histogram2d\":[{\"type\":\"histogram2d\",\"colorbar\":{\"outlinewidth\":0,\"ticks\":\"\"},\"colorscale\":[[0.0,\"#0d0887\"],[0.1111111111111111,\"#46039f\"],[0.2222222222222222,\"#7201a8\"],[0.3333333333333333,\"#9c179e\"],[0.4444444444444444,\"#bd3786\"],[0.5555555555555556,\"#d8576b\"],[0.6666666666666666,\"#ed7953\"],[0.7777777777777778,\"#fb9f3a\"],[0.8888888888888888,\"#fdca26\"],[1.0,\"#f0f921\"]]}],\"heatmap\":[{\"type\":\"heatmap\",\"colorbar\":{\"outlinewidth\":0,\"ticks\":\"\"},\"colorscale\":[[0.0,\"#0d0887\"],[0.1111111111111111,\"#46039f\"],[0.2222222222222222,\"#7201a8\"],[0.3333333333333333,\"#9c179e\"],[0.4444444444444444,\"#bd3786\"],[0.5555555555555556,\"#d8576b\"],[0.6666666666666666,\"#ed7953\"],[0.7777777777777778,\"#fb9f3a\"],[0.8888888888888888,\"#fdca26\"],[1.0,\"#f0f921\"]]}],\"heatmapgl\":[{\"type\":\"heatmapgl\",\"colorbar\":{\"outlinewidth\":0,\"ticks\":\"\"},\"colorscale\":[[0.0,\"#0d0887\"],[0.1111111111111111,\"#46039f\"],[0.2222222222222222,\"#7201a8\"],[0.3333333333333333,\"#9c179e\"],[0.4444444444444444,\"#bd3786\"],[0.5555555555555556,\"#d8576b\"],[0.6666666666666666,\"#ed7953\"],[0.7777777777777778,\"#fb9f3a\"],[0.8888888888888888,\"#fdca26\"],[1.0,\"#f0f921\"]]}],\"contourcarpet\":[{\"type\":\"contourcarpet\",\"colorbar\":{\"outlinewidth\":0,\"ticks\":\"\"}}],\"contour\":[{\"type\":\"contour\",\"colorbar\":{\"outlinewidth\":0,\"ticks\":\"\"},\"colorscale\":[[0.0,\"#0d0887\"],[0.1111111111111111,\"#46039f\"],[0.2222222222222222,\"#7201a8\"],[0.3333333333333333,\"#9c179e\"],[0.4444444444444444,\"#bd3786\"],[0.5555555555555556,\"#d8576b\"],[0.6666666666666666,\"#ed7953\"],[0.7777777777777778,\"#fb9f3a\"],[0.8888888888888888,\"#fdca26\"],[1.0,\"#f0f921\"]]}],\"surface\":[{\"type\":\"surface\",\"colorbar\":{\"outlinewidth\":0,\"ticks\":\"\"},\"colorscale\":[[0.0,\"#0d0887\"],[0.1111111111111111,\"#46039f\"],[0.2222222222222222,\"#7201a8\"],[0.3333333333333333,\"#9c179e\"],[0.4444444444444444,\"#bd3786\"],[0.5555555555555556,\"#d8576b\"],[0.6666666666666666,\"#ed7953\"],[0.7777777777777778,\"#fb9f3a\"],[0.8888888888888888,\"#fdca26\"],[1.0,\"#f0f921\"]]}],\"mesh3d\":[{\"type\":\"mesh3d\",\"colorbar\":{\"outlinewidth\":0,\"ticks\":\"\"}}],\"scatter\":[{\"fillpattern\":{\"fillmode\":\"overlay\",\"size\":10,\"solidity\":0.2},\"type\":\"scatter\"}],\"parcoords\":[{\"type\":\"parcoords\",\"line\":{\"colorbar\":{\"outlinewidth\":0,\"ticks\":\"\"}}}],\"scatterpolargl\":[{\"type\":\"scatterpolargl\",\"marker\":{\"colorbar\":{\"outlinewidth\":0,\"ticks\":\"\"}}}],\"bar\":[{\"error_x\":{\"color\":\"#2a3f5f\"},\"error_y\":{\"color\":\"#2a3f5f\"},\"marker\":{\"line\":{\"color\":\"#E5ECF6\",\"width\":0.5},\"pattern\":{\"fillmode\":\"overlay\",\"size\":10,\"solidity\":0.2}},\"type\":\"bar\"}],\"scattergeo\":[{\"type\":\"scattergeo\",\"marker\":{\"colorbar\":{\"outlinewidth\":0,\"ticks\":\"\"}}}],\"scatterpolar\":[{\"type\":\"scatterpolar\",\"marker\":{\"colorbar\":{\"outlinewidth\":0,\"ticks\":\"\"}}}],\"histogram\":[{\"marker\":{\"pattern\":{\"fillmode\":\"overlay\",\"size\":10,\"solidity\":0.2}},\"type\":\"histogram\"}],\"scattergl\":[{\"type\":\"scattergl\",\"marker\":{\"colorbar\":{\"outlinewidth\":0,\"ticks\":\"\"}}}],\"scatter3d\":[{\"type\":\"scatter3d\",\"line\":{\"colorbar\":{\"outlinewidth\":0,\"ticks\":\"\"}},\"marker\":{\"colorbar\":{\"outlinewidth\":0,\"ticks\":\"\"}}}],\"scattermapbox\":[{\"type\":\"scattermapbox\",\"marker\":{\"colorbar\":{\"outlinewidth\":0,\"ticks\":\"\"}}}],\"scatterternary\":[{\"type\":\"scatterternary\",\"marker\":{\"colorbar\":{\"outlinewidth\":0,\"ticks\":\"\"}}}],\"scattercarpet\":[{\"type\":\"scattercarpet\",\"marker\":{\"colorbar\":{\"outlinewidth\":0,\"ticks\":\"\"}}}],\"carpet\":[{\"aaxis\":{\"endlinecolor\":\"#2a3f5f\",\"gridcolor\":\"white\",\"linecolor\":\"white\",\"minorgridcolor\":\"white\",\"startlinecolor\":\"#2a3f5f\"},\"baxis\":{\"endlinecolor\":\"#2a3f5f\",\"gridcolor\":\"white\",\"linecolor\":\"white\",\"minorgridcolor\":\"white\",\"startlinecolor\":\"#2a3f5f\"},\"type\":\"carpet\"}],\"table\":[{\"cells\":{\"fill\":{\"color\":\"#EBF0F8\"},\"line\":{\"color\":\"white\"}},\"header\":{\"fill\":{\"color\":\"#C8D4E3\"},\"line\":{\"color\":\"white\"}},\"type\":\"table\"}],\"barpolar\":[{\"marker\":{\"line\":{\"color\":\"#E5ECF6\",\"width\":0.5},\"pattern\":{\"fillmode\":\"overlay\",\"size\":10,\"solidity\":0.2}},\"type\":\"barpolar\"}],\"pie\":[{\"automargin\":true,\"type\":\"pie\"}]},\"layout\":{\"autotypenumbers\":\"strict\",\"colorway\":[\"#636efa\",\"#EF553B\",\"#00cc96\",\"#ab63fa\",\"#FFA15A\",\"#19d3f3\",\"#FF6692\",\"#B6E880\",\"#FF97FF\",\"#FECB52\"],\"font\":{\"color\":\"#2a3f5f\"},\"hovermode\":\"closest\",\"hoverlabel\":{\"align\":\"left\"},\"paper_bgcolor\":\"white\",\"plot_bgcolor\":\"#E5ECF6\",\"polar\":{\"bgcolor\":\"#E5ECF6\",\"angularaxis\":{\"gridcolor\":\"white\",\"linecolor\":\"white\",\"ticks\":\"\"},\"radialaxis\":{\"gridcolor\":\"white\",\"linecolor\":\"white\",\"ticks\":\"\"}},\"ternary\":{\"bgcolor\":\"#E5ECF6\",\"aaxis\":{\"gridcolor\":\"white\",\"linecolor\":\"white\",\"ticks\":\"\"},\"baxis\":{\"gridcolor\":\"white\",\"linecolor\":\"white\",\"ticks\":\"\"},\"caxis\":{\"gridcolor\":\"white\",\"linecolor\":\"white\",\"ticks\":\"\"}},\"coloraxis\":{\"colorbar\":{\"outlinewidth\":0,\"ticks\":\"\"}},\"colorscale\":{\"sequential\":[[0.0,\"#0d0887\"],[0.1111111111111111,\"#46039f\"],[0.2222222222222222,\"#7201a8\"],[0.3333333333333333,\"#9c179e\"],[0.4444444444444444,\"#bd3786\"],[0.5555555555555556,\"#d8576b\"],[0.6666666666666666,\"#ed7953\"],[0.7777777777777778,\"#fb9f3a\"],[0.8888888888888888,\"#fdca26\"],[1.0,\"#f0f921\"]],\"sequentialminus\":[[0.0,\"#0d0887\"],[0.1111111111111111,\"#46039f\"],[0.2222222222222222,\"#7201a8\"],[0.3333333333333333,\"#9c179e\"],[0.4444444444444444,\"#bd3786\"],[0.5555555555555556,\"#d8576b\"],[0.6666666666666666,\"#ed7953\"],[0.7777777777777778,\"#fb9f3a\"],[0.8888888888888888,\"#fdca26\"],[1.0,\"#f0f921\"]],\"diverging\":[[0,\"#8e0152\"],[0.1,\"#c51b7d\"],[0.2,\"#de77ae\"],[0.3,\"#f1b6da\"],[0.4,\"#fde0ef\"],[0.5,\"#f7f7f7\"],[0.6,\"#e6f5d0\"],[0.7,\"#b8e186\"],[0.8,\"#7fbc41\"],[0.9,\"#4d9221\"],[1,\"#276419\"]]},\"xaxis\":{\"gridcolor\":\"white\",\"linecolor\":\"white\",\"ticks\":\"\",\"title\":{\"standoff\":15},\"zerolinecolor\":\"white\",\"automargin\":true,\"zerolinewidth\":2},\"yaxis\":{\"gridcolor\":\"white\",\"linecolor\":\"white\",\"ticks\":\"\",\"title\":{\"standoff\":15},\"zerolinecolor\":\"white\",\"automargin\":true,\"zerolinewidth\":2},\"scene\":{\"xaxis\":{\"backgroundcolor\":\"#E5ECF6\",\"gridcolor\":\"white\",\"linecolor\":\"white\",\"showbackground\":true,\"ticks\":\"\",\"zerolinecolor\":\"white\",\"gridwidth\":2},\"yaxis\":{\"backgroundcolor\":\"#E5ECF6\",\"gridcolor\":\"white\",\"linecolor\":\"white\",\"showbackground\":true,\"ticks\":\"\",\"zerolinecolor\":\"white\",\"gridwidth\":2},\"zaxis\":{\"backgroundcolor\":\"#E5ECF6\",\"gridcolor\":\"white\",\"linecolor\":\"white\",\"showbackground\":true,\"ticks\":\"\",\"zerolinecolor\":\"white\",\"gridwidth\":2}},\"shapedefaults\":{\"line\":{\"color\":\"#2a3f5f\"}},\"annotationdefaults\":{\"arrowcolor\":\"#2a3f5f\",\"arrowhead\":0,\"arrowwidth\":1},\"geo\":{\"bgcolor\":\"white\",\"landcolor\":\"#E5ECF6\",\"subunitcolor\":\"white\",\"showland\":true,\"showlakes\":true,\"lakecolor\":\"white\"},\"title\":{\"x\":0.05},\"mapbox\":{\"style\":\"light\"}}},\"xaxis\":{\"anchor\":\"y\",\"domain\":[0.0,1.0],\"scaleanchor\":\"y\",\"constrain\":\"domain\"},\"yaxis\":{\"anchor\":\"x\",\"domain\":[0.0,1.0],\"autorange\":\"reversed\",\"constrain\":\"domain\"},\"coloraxis\":{\"colorscale\":[[0.0,\"#0d0887\"],[0.1111111111111111,\"#46039f\"],[0.2222222222222222,\"#7201a8\"],[0.3333333333333333,\"#9c179e\"],[0.4444444444444444,\"#bd3786\"],[0.5555555555555556,\"#d8576b\"],[0.6666666666666666,\"#ed7953\"],[0.7777777777777778,\"#fb9f3a\"],[0.8888888888888888,\"#fdca26\"],[1.0,\"#f0f921\"]]},\"margin\":{\"t\":60}},                        {\"responsive\": true}                    ).then(function(){\n",
              "                            \n",
              "var gd = document.getElementById('59b0736a-b25e-4c06-8415-244b9eedbedc');\n",
              "var x = new MutationObserver(function (mutations, observer) {{\n",
              "        var display = window.getComputedStyle(gd).display;\n",
              "        if (!display || display === 'none') {{\n",
              "            console.log([gd, 'removed!']);\n",
              "            Plotly.purge(gd);\n",
              "            observer.disconnect();\n",
              "        }}\n",
              "}});\n",
              "\n",
              "// Listen for the removal of the full notebook cells\n",
              "var notebookContainer = gd.closest('#notebook-container');\n",
              "if (notebookContainer) {{\n",
              "    x.observe(notebookContainer, {childList: true});\n",
              "}}\n",
              "\n",
              "// Listen for the clearing of the current output cell\n",
              "var outputEl = gd.closest('.output');\n",
              "if (outputEl) {{\n",
              "    x.observe(outputEl, {childList: true});\n",
              "}}\n",
              "\n",
              "                        })                };                            </script>        </div>\n",
              "</body>\n",
              "</html>"
            ]
          },
          "metadata": {}
        }
      ]
    },
    {
      "cell_type": "markdown",
      "source": [
        "**5. Format Data / Preprocessing**\n",
        "\n",
        "A. Encoding<br>\n",
        "B. Train-test split<br>\n",
        "C. Cross_validation (optional)"
      ],
      "metadata": {
        "id": "-c7jFkXr0vzJ"
      }
    },
    {
      "cell_type": "markdown",
      "source": [
        "**A. Encoding**"
      ],
      "metadata": {
        "id": "3tT9yaH505oq"
      }
    },
    {
      "cell_type": "code",
      "source": [
        "#fungsi pd.get_dummies() digunakan untuk melakukan one-hot encoding pada dataframe df3\n",
        "# One-hot encoding adalah proses mengubah variabel kategorikal menjadi bentuk numerik agar bisa diproses oleh algoritma machine learning\n",
        "df4 = pd.get_dummies(df3)"
      ],
      "metadata": {
        "id": "vzEbaSvK1AbK"
      },
      "execution_count": 30,
      "outputs": []
    },
    {
      "cell_type": "code",
      "source": [
        "#melihat 5 data teratas\n",
        "#karna datanya memang numerik dari awal, jadi saya rasa proses ini gak diperlukan\n",
        "#tapi tetap ditampilkan sebagai pengetahuan saja, dan pada proses algoritma, kita akan menggunakan df3\n",
        "#kenapa df3? karna datanya sudah dicleaning, outlier, dan difilter sedemikian rupa sehingga cukup efektif untuk dianalisa\n",
        "df4.head()"
      ],
      "metadata": {
        "id": "0N6IyQbF1CRP",
        "colab": {
          "base_uri": "https://localhost:8080/",
          "height": 206
        },
        "outputId": "5299475c-bca9-4f2b-c624-83eaaa9e815e"
      },
      "execution_count": 31,
      "outputs": [
        {
          "output_type": "execute_result",
          "data": {
            "text/plain": [
              "   Pregnancies  Glucose  BloodPressure  SkinThickness  Insulin   BMI  \\\n",
              "0            6      148             72             35        0  33.6   \n",
              "1            1       85             66             29        0  26.6   \n",
              "2            8      183             64              0        0  23.3   \n",
              "3            1       89             66             23       94  28.1   \n",
              "4            0      137             40             35      168  43.1   \n",
              "\n",
              "   DiabetesPedigreeFunction  Age  Outcome  \n",
              "0                     0.627   50        1  \n",
              "1                     0.351   31        0  \n",
              "2                     0.672   32        1  \n",
              "3                     0.167   21        0  \n",
              "4                     2.288   33        1  "
            ],
            "text/html": [
              "\n",
              "  <div id=\"df-8912d2da-271c-4ad0-be8d-440e35560c3f\">\n",
              "    <div class=\"colab-df-container\">\n",
              "      <div>\n",
              "<style scoped>\n",
              "    .dataframe tbody tr th:only-of-type {\n",
              "        vertical-align: middle;\n",
              "    }\n",
              "\n",
              "    .dataframe tbody tr th {\n",
              "        vertical-align: top;\n",
              "    }\n",
              "\n",
              "    .dataframe thead th {\n",
              "        text-align: right;\n",
              "    }\n",
              "</style>\n",
              "<table border=\"1\" class=\"dataframe\">\n",
              "  <thead>\n",
              "    <tr style=\"text-align: right;\">\n",
              "      <th></th>\n",
              "      <th>Pregnancies</th>\n",
              "      <th>Glucose</th>\n",
              "      <th>BloodPressure</th>\n",
              "      <th>SkinThickness</th>\n",
              "      <th>Insulin</th>\n",
              "      <th>BMI</th>\n",
              "      <th>DiabetesPedigreeFunction</th>\n",
              "      <th>Age</th>\n",
              "      <th>Outcome</th>\n",
              "    </tr>\n",
              "  </thead>\n",
              "  <tbody>\n",
              "    <tr>\n",
              "      <th>0</th>\n",
              "      <td>6</td>\n",
              "      <td>148</td>\n",
              "      <td>72</td>\n",
              "      <td>35</td>\n",
              "      <td>0</td>\n",
              "      <td>33.6</td>\n",
              "      <td>0.627</td>\n",
              "      <td>50</td>\n",
              "      <td>1</td>\n",
              "    </tr>\n",
              "    <tr>\n",
              "      <th>1</th>\n",
              "      <td>1</td>\n",
              "      <td>85</td>\n",
              "      <td>66</td>\n",
              "      <td>29</td>\n",
              "      <td>0</td>\n",
              "      <td>26.6</td>\n",
              "      <td>0.351</td>\n",
              "      <td>31</td>\n",
              "      <td>0</td>\n",
              "    </tr>\n",
              "    <tr>\n",
              "      <th>2</th>\n",
              "      <td>8</td>\n",
              "      <td>183</td>\n",
              "      <td>64</td>\n",
              "      <td>0</td>\n",
              "      <td>0</td>\n",
              "      <td>23.3</td>\n",
              "      <td>0.672</td>\n",
              "      <td>32</td>\n",
              "      <td>1</td>\n",
              "    </tr>\n",
              "    <tr>\n",
              "      <th>3</th>\n",
              "      <td>1</td>\n",
              "      <td>89</td>\n",
              "      <td>66</td>\n",
              "      <td>23</td>\n",
              "      <td>94</td>\n",
              "      <td>28.1</td>\n",
              "      <td>0.167</td>\n",
              "      <td>21</td>\n",
              "      <td>0</td>\n",
              "    </tr>\n",
              "    <tr>\n",
              "      <th>4</th>\n",
              "      <td>0</td>\n",
              "      <td>137</td>\n",
              "      <td>40</td>\n",
              "      <td>35</td>\n",
              "      <td>168</td>\n",
              "      <td>43.1</td>\n",
              "      <td>2.288</td>\n",
              "      <td>33</td>\n",
              "      <td>1</td>\n",
              "    </tr>\n",
              "  </tbody>\n",
              "</table>\n",
              "</div>\n",
              "      <button class=\"colab-df-convert\" onclick=\"convertToInteractive('df-8912d2da-271c-4ad0-be8d-440e35560c3f')\"\n",
              "              title=\"Convert this dataframe to an interactive table.\"\n",
              "              style=\"display:none;\">\n",
              "        \n",
              "  <svg xmlns=\"http://www.w3.org/2000/svg\" height=\"24px\"viewBox=\"0 0 24 24\"\n",
              "       width=\"24px\">\n",
              "    <path d=\"M0 0h24v24H0V0z\" fill=\"none\"/>\n",
              "    <path d=\"M18.56 5.44l.94 2.06.94-2.06 2.06-.94-2.06-.94-.94-2.06-.94 2.06-2.06.94zm-11 1L8.5 8.5l.94-2.06 2.06-.94-2.06-.94L8.5 2.5l-.94 2.06-2.06.94zm10 10l.94 2.06.94-2.06 2.06-.94-2.06-.94-.94-2.06-.94 2.06-2.06.94z\"/><path d=\"M17.41 7.96l-1.37-1.37c-.4-.4-.92-.59-1.43-.59-.52 0-1.04.2-1.43.59L10.3 9.45l-7.72 7.72c-.78.78-.78 2.05 0 2.83L4 21.41c.39.39.9.59 1.41.59.51 0 1.02-.2 1.41-.59l7.78-7.78 2.81-2.81c.8-.78.8-2.07 0-2.86zM5.41 20L4 18.59l7.72-7.72 1.47 1.35L5.41 20z\"/>\n",
              "  </svg>\n",
              "      </button>\n",
              "      \n",
              "  <style>\n",
              "    .colab-df-container {\n",
              "      display:flex;\n",
              "      flex-wrap:wrap;\n",
              "      gap: 12px;\n",
              "    }\n",
              "\n",
              "    .colab-df-convert {\n",
              "      background-color: #E8F0FE;\n",
              "      border: none;\n",
              "      border-radius: 50%;\n",
              "      cursor: pointer;\n",
              "      display: none;\n",
              "      fill: #1967D2;\n",
              "      height: 32px;\n",
              "      padding: 0 0 0 0;\n",
              "      width: 32px;\n",
              "    }\n",
              "\n",
              "    .colab-df-convert:hover {\n",
              "      background-color: #E2EBFA;\n",
              "      box-shadow: 0px 1px 2px rgba(60, 64, 67, 0.3), 0px 1px 3px 1px rgba(60, 64, 67, 0.15);\n",
              "      fill: #174EA6;\n",
              "    }\n",
              "\n",
              "    [theme=dark] .colab-df-convert {\n",
              "      background-color: #3B4455;\n",
              "      fill: #D2E3FC;\n",
              "    }\n",
              "\n",
              "    [theme=dark] .colab-df-convert:hover {\n",
              "      background-color: #434B5C;\n",
              "      box-shadow: 0px 1px 3px 1px rgba(0, 0, 0, 0.15);\n",
              "      filter: drop-shadow(0px 1px 2px rgba(0, 0, 0, 0.3));\n",
              "      fill: #FFFFFF;\n",
              "    }\n",
              "  </style>\n",
              "\n",
              "      <script>\n",
              "        const buttonEl =\n",
              "          document.querySelector('#df-8912d2da-271c-4ad0-be8d-440e35560c3f button.colab-df-convert');\n",
              "        buttonEl.style.display =\n",
              "          google.colab.kernel.accessAllowed ? 'block' : 'none';\n",
              "\n",
              "        async function convertToInteractive(key) {\n",
              "          const element = document.querySelector('#df-8912d2da-271c-4ad0-be8d-440e35560c3f');\n",
              "          const dataTable =\n",
              "            await google.colab.kernel.invokeFunction('convertToInteractive',\n",
              "                                                     [key], {});\n",
              "          if (!dataTable) return;\n",
              "\n",
              "          const docLinkHtml = 'Like what you see? Visit the ' +\n",
              "            '<a target=\"_blank\" href=https://colab.research.google.com/notebooks/data_table.ipynb>data table notebook</a>'\n",
              "            + ' to learn more about interactive tables.';\n",
              "          element.innerHTML = '';\n",
              "          dataTable['output_type'] = 'display_data';\n",
              "          await google.colab.output.renderOutput(dataTable, element);\n",
              "          const docLink = document.createElement('div');\n",
              "          docLink.innerHTML = docLinkHtml;\n",
              "          element.appendChild(docLink);\n",
              "        }\n",
              "      </script>\n",
              "    </div>\n",
              "  </div>\n",
              "  "
            ]
          },
          "metadata": {},
          "execution_count": 31
        }
      ]
    },
    {
      "cell_type": "markdown",
      "source": [
        "**B. Train-test Split**"
      ],
      "metadata": {
        "id": "yZDQkLXf08On"
      }
    },
    {
      "cell_type": "code",
      "source": [
        "#membagi data jadi 2 variable yaitu x dan y dimana x berisi semua data kecuali kolom terakhir sementara y berisi data target atau prediksi\n",
        "X = df3.drop('Outcome', axis=1)\n",
        "y = df3['Outcome']"
      ],
      "metadata": {
        "id": "QmyTOIXK1Kix"
      },
      "execution_count": 32,
      "outputs": []
    },
    {
      "cell_type": "code",
      "source": [
        "#data x dan y tadi kita bagi lagi jadi data training dan data testing menggunakan sklearn\n",
        "from sklearn.model_selection import train_test_split\n",
        "X_train, X_test, y_train, y_test = train_test_split(X, y, test_size=0.2, random_state=42)"
      ],
      "metadata": {
        "id": "gpQZpwW1GI79"
      },
      "execution_count": 33,
      "outputs": []
    },
    {
      "cell_type": "markdown",
      "source": [
        "# **Modelling dan Evaluation**"
      ],
      "metadata": {
        "id": "ZvI_e37P1T7n"
      }
    },
    {
      "cell_type": "markdown",
      "source": [
        "# **C4.5**"
      ],
      "metadata": {
        "id": "0H9uoBD-8md_"
      }
    },
    {
      "cell_type": "code",
      "source": [
        "#melihat 5 data teratas\n",
        "df3.head()"
      ],
      "metadata": {
        "id": "YQUUTGbn0KJw",
        "colab": {
          "base_uri": "https://localhost:8080/",
          "height": 206
        },
        "outputId": "ea2897d4-cffa-41cb-e8fb-260f4f5431e6"
      },
      "execution_count": 34,
      "outputs": [
        {
          "output_type": "execute_result",
          "data": {
            "text/plain": [
              "   Pregnancies  Glucose  BloodPressure  SkinThickness  Insulin   BMI  \\\n",
              "0            6      148             72             35        0  33.6   \n",
              "1            1       85             66             29        0  26.6   \n",
              "2            8      183             64              0        0  23.3   \n",
              "3            1       89             66             23       94  28.1   \n",
              "4            0      137             40             35      168  43.1   \n",
              "\n",
              "   DiabetesPedigreeFunction  Age  Outcome  \n",
              "0                     0.627   50        1  \n",
              "1                     0.351   31        0  \n",
              "2                     0.672   32        1  \n",
              "3                     0.167   21        0  \n",
              "4                     2.288   33        1  "
            ],
            "text/html": [
              "\n",
              "  <div id=\"df-eb6cf41d-509e-4f48-a57e-74d0c1b1739f\">\n",
              "    <div class=\"colab-df-container\">\n",
              "      <div>\n",
              "<style scoped>\n",
              "    .dataframe tbody tr th:only-of-type {\n",
              "        vertical-align: middle;\n",
              "    }\n",
              "\n",
              "    .dataframe tbody tr th {\n",
              "        vertical-align: top;\n",
              "    }\n",
              "\n",
              "    .dataframe thead th {\n",
              "        text-align: right;\n",
              "    }\n",
              "</style>\n",
              "<table border=\"1\" class=\"dataframe\">\n",
              "  <thead>\n",
              "    <tr style=\"text-align: right;\">\n",
              "      <th></th>\n",
              "      <th>Pregnancies</th>\n",
              "      <th>Glucose</th>\n",
              "      <th>BloodPressure</th>\n",
              "      <th>SkinThickness</th>\n",
              "      <th>Insulin</th>\n",
              "      <th>BMI</th>\n",
              "      <th>DiabetesPedigreeFunction</th>\n",
              "      <th>Age</th>\n",
              "      <th>Outcome</th>\n",
              "    </tr>\n",
              "  </thead>\n",
              "  <tbody>\n",
              "    <tr>\n",
              "      <th>0</th>\n",
              "      <td>6</td>\n",
              "      <td>148</td>\n",
              "      <td>72</td>\n",
              "      <td>35</td>\n",
              "      <td>0</td>\n",
              "      <td>33.6</td>\n",
              "      <td>0.627</td>\n",
              "      <td>50</td>\n",
              "      <td>1</td>\n",
              "    </tr>\n",
              "    <tr>\n",
              "      <th>1</th>\n",
              "      <td>1</td>\n",
              "      <td>85</td>\n",
              "      <td>66</td>\n",
              "      <td>29</td>\n",
              "      <td>0</td>\n",
              "      <td>26.6</td>\n",
              "      <td>0.351</td>\n",
              "      <td>31</td>\n",
              "      <td>0</td>\n",
              "    </tr>\n",
              "    <tr>\n",
              "      <th>2</th>\n",
              "      <td>8</td>\n",
              "      <td>183</td>\n",
              "      <td>64</td>\n",
              "      <td>0</td>\n",
              "      <td>0</td>\n",
              "      <td>23.3</td>\n",
              "      <td>0.672</td>\n",
              "      <td>32</td>\n",
              "      <td>1</td>\n",
              "    </tr>\n",
              "    <tr>\n",
              "      <th>3</th>\n",
              "      <td>1</td>\n",
              "      <td>89</td>\n",
              "      <td>66</td>\n",
              "      <td>23</td>\n",
              "      <td>94</td>\n",
              "      <td>28.1</td>\n",
              "      <td>0.167</td>\n",
              "      <td>21</td>\n",
              "      <td>0</td>\n",
              "    </tr>\n",
              "    <tr>\n",
              "      <th>4</th>\n",
              "      <td>0</td>\n",
              "      <td>137</td>\n",
              "      <td>40</td>\n",
              "      <td>35</td>\n",
              "      <td>168</td>\n",
              "      <td>43.1</td>\n",
              "      <td>2.288</td>\n",
              "      <td>33</td>\n",
              "      <td>1</td>\n",
              "    </tr>\n",
              "  </tbody>\n",
              "</table>\n",
              "</div>\n",
              "      <button class=\"colab-df-convert\" onclick=\"convertToInteractive('df-eb6cf41d-509e-4f48-a57e-74d0c1b1739f')\"\n",
              "              title=\"Convert this dataframe to an interactive table.\"\n",
              "              style=\"display:none;\">\n",
              "        \n",
              "  <svg xmlns=\"http://www.w3.org/2000/svg\" height=\"24px\"viewBox=\"0 0 24 24\"\n",
              "       width=\"24px\">\n",
              "    <path d=\"M0 0h24v24H0V0z\" fill=\"none\"/>\n",
              "    <path d=\"M18.56 5.44l.94 2.06.94-2.06 2.06-.94-2.06-.94-.94-2.06-.94 2.06-2.06.94zm-11 1L8.5 8.5l.94-2.06 2.06-.94-2.06-.94L8.5 2.5l-.94 2.06-2.06.94zm10 10l.94 2.06.94-2.06 2.06-.94-2.06-.94-.94-2.06-.94 2.06-2.06.94z\"/><path d=\"M17.41 7.96l-1.37-1.37c-.4-.4-.92-.59-1.43-.59-.52 0-1.04.2-1.43.59L10.3 9.45l-7.72 7.72c-.78.78-.78 2.05 0 2.83L4 21.41c.39.39.9.59 1.41.59.51 0 1.02-.2 1.41-.59l7.78-7.78 2.81-2.81c.8-.78.8-2.07 0-2.86zM5.41 20L4 18.59l7.72-7.72 1.47 1.35L5.41 20z\"/>\n",
              "  </svg>\n",
              "      </button>\n",
              "      \n",
              "  <style>\n",
              "    .colab-df-container {\n",
              "      display:flex;\n",
              "      flex-wrap:wrap;\n",
              "      gap: 12px;\n",
              "    }\n",
              "\n",
              "    .colab-df-convert {\n",
              "      background-color: #E8F0FE;\n",
              "      border: none;\n",
              "      border-radius: 50%;\n",
              "      cursor: pointer;\n",
              "      display: none;\n",
              "      fill: #1967D2;\n",
              "      height: 32px;\n",
              "      padding: 0 0 0 0;\n",
              "      width: 32px;\n",
              "    }\n",
              "\n",
              "    .colab-df-convert:hover {\n",
              "      background-color: #E2EBFA;\n",
              "      box-shadow: 0px 1px 2px rgba(60, 64, 67, 0.3), 0px 1px 3px 1px rgba(60, 64, 67, 0.15);\n",
              "      fill: #174EA6;\n",
              "    }\n",
              "\n",
              "    [theme=dark] .colab-df-convert {\n",
              "      background-color: #3B4455;\n",
              "      fill: #D2E3FC;\n",
              "    }\n",
              "\n",
              "    [theme=dark] .colab-df-convert:hover {\n",
              "      background-color: #434B5C;\n",
              "      box-shadow: 0px 1px 3px 1px rgba(0, 0, 0, 0.15);\n",
              "      filter: drop-shadow(0px 1px 2px rgba(0, 0, 0, 0.3));\n",
              "      fill: #FFFFFF;\n",
              "    }\n",
              "  </style>\n",
              "\n",
              "      <script>\n",
              "        const buttonEl =\n",
              "          document.querySelector('#df-eb6cf41d-509e-4f48-a57e-74d0c1b1739f button.colab-df-convert');\n",
              "        buttonEl.style.display =\n",
              "          google.colab.kernel.accessAllowed ? 'block' : 'none';\n",
              "\n",
              "        async function convertToInteractive(key) {\n",
              "          const element = document.querySelector('#df-eb6cf41d-509e-4f48-a57e-74d0c1b1739f');\n",
              "          const dataTable =\n",
              "            await google.colab.kernel.invokeFunction('convertToInteractive',\n",
              "                                                     [key], {});\n",
              "          if (!dataTable) return;\n",
              "\n",
              "          const docLinkHtml = 'Like what you see? Visit the ' +\n",
              "            '<a target=\"_blank\" href=https://colab.research.google.com/notebooks/data_table.ipynb>data table notebook</a>'\n",
              "            + ' to learn more about interactive tables.';\n",
              "          element.innerHTML = '';\n",
              "          dataTable['output_type'] = 'display_data';\n",
              "          await google.colab.output.renderOutput(dataTable, element);\n",
              "          const docLink = document.createElement('div');\n",
              "          docLink.innerHTML = docLinkHtml;\n",
              "          element.appendChild(docLink);\n",
              "        }\n",
              "      </script>\n",
              "    </div>\n",
              "  </div>\n",
              "  "
            ]
          },
          "metadata": {},
          "execution_count": 34
        }
      ]
    },
    {
      "cell_type": "code",
      "source": [
        "#Menentukan fungsi untuk menghitung entropy dari sebuah dataset. \n",
        "#Fungsi ini akan menghitung entropy dari target class (diabetes) dalam dataset\n",
        "#Berikut adalah implementasi fungsi entropy:\n",
        "import math\n",
        "def entropy(df3):\n",
        "    target_col = df3[df3.columns[-1]]\n",
        "    values = target_col.unique()\n",
        "    entropy = 0\n",
        "    for val in values:\n",
        "        p = float(target_col[target_col == val].count()) / len(target_col)\n",
        "        entropy += -p * math.log(p, 2)\n",
        "    return entropy"
      ],
      "metadata": {
        "id": "iJne-9cA0eIM"
      },
      "execution_count": 35,
      "outputs": []
    },
    {
      "cell_type": "code",
      "source": [
        "#Menentukan fungsi untuk menghitung information gain dari setiap atribut dalam dataset. \n",
        "#Berikut adalah implementasi fungsi information_gain:\n",
        "def information_gain(df3, attribute_name):\n",
        "    total_entropy = entropy(df3)\n",
        "    attribute_values = df3[attribute_name].unique()\n",
        "    weighted_entropy = 0\n",
        "    for value in attribute_values:\n",
        "        subset = df3[df3[attribute_name] == value]\n",
        "        subset_entropy = entropy(subset)\n",
        "        weighted_entropy += (len(subset) / len(df3)) * subset_entropy\n",
        "    information_gain = total_entropy - weighted_entropy\n",
        "    return information_gain"
      ],
      "metadata": {
        "id": "MYsQnDDHa82t"
      },
      "execution_count": 36,
      "outputs": []
    },
    {
      "cell_type": "code",
      "source": [
        "#Menentukan fungsi untuk memilih atribut terbaik untuk splitting. \n",
        "#Berikut adalah implementasi fungsi best_attribute:\n",
        "def best_attribute(df3):\n",
        "    information_gains = {}\n",
        "    for col in df3.columns[:-1]:\n",
        "        information_gains[col] = information_gain(df3, col)\n",
        "    best_attribute = max(information_gains, key=information_gains.get)\n",
        "    return best_attribute"
      ],
      "metadata": {
        "id": "Z2G3sxWfbFD9"
      },
      "execution_count": 37,
      "outputs": []
    },
    {
      "cell_type": "code",
      "source": [
        "#Menentukan fungsi untuk membagi dataset menjadi subset yang lebih kecil berdasarkan nilai atribut terbaik. \n",
        "#Berikut adalah implementasi fungsi split_data\n",
        "def split_df3(df3, attribute_name, attribute_value):\n",
        "    subset = df3[df3[attribute_name] == attribute_value].reset_index(drop=True)\n",
        "    subset = subset.drop(attribute_name, axis=1)\n",
        "    return subset"
      ],
      "metadata": {
        "id": "SAWm6wEnbKYe"
      },
      "execution_count": 38,
      "outputs": []
    },
    {
      "cell_type": "code",
      "source": [
        "#Menentukan fungsi untuk membangun pohon keputusan dengan rekursi. \n",
        "#Berikut adalah implementasi fungsi build_tree:\n",
        "def build_tree(df3):\n",
        "    if len(df3.columns) == 1:\n",
        "        target_col = df3.columns[0]\n",
        "        return df3[target_col].mode()[0]\n",
        "    best_attr = best_attribute(df3)\n",
        "    tree = {best_attr: {}}\n",
        "    for value in df3[best_attr].unique():\n",
        "        subset = split_df3(df3, best_attr, value)\n",
        "        subtree = build_tree(subset)\n",
        "        tree[best_attr][value] = subtree\n",
        "    return tree"
      ],
      "metadata": {
        "id": "d8oCJ3F2bcD-"
      },
      "execution_count": 39,
      "outputs": []
    },
    {
      "cell_type": "code",
      "source": [
        "#Terakhir, panggil fungsi build_tree dengan dataset sebagai argumen dan mencetak hasilnya sebagai pohon keputusan:\n",
        "decision_tree = build_tree(df3)\n",
        "print(decision_tree)"
      ],
      "metadata": {
        "colab": {
          "base_uri": "https://localhost:8080/"
        },
        "id": "tpAmlO3DbpdC",
        "outputId": "48476270-c4bf-4dec-e64f-9aca26c977ce"
      },
      "execution_count": 40,
      "outputs": [
        {
          "output_type": "stream",
          "name": "stdout",
          "text": [
            "{'DiabetesPedigreeFunction': {0.627: {'Pregnancies': {6: {'Glucose': {148: {'BloodPressure': {72: {'SkinThickness': {35: {'Insulin': {0: {'BMI': {33.6: {'Age': {50: 1}}}}}}}}}}}}}}, 0.351: {'Pregnancies': {1: {'Glucose': {85: {'BloodPressure': {66: {'SkinThickness': {29: {'Insulin': {0: {'BMI': {26.6: {'Age': {31: 0}}}}}}}}}}}}}}, 0.672: {'Pregnancies': {8: {'Glucose': {183: {'BloodPressure': {64: {'SkinThickness': {0: {'Insulin': {0: {'BMI': {23.3: {'Age': {32: 1}}}}}}}}}}}}}}, 0.167: {'Pregnancies': {1: {'Glucose': {89: {'BloodPressure': {66: {'SkinThickness': {23: {'Insulin': {94: {'BMI': {28.1: {'Age': {21: 0}}}}}}}}}}}}, 0: {'Glucose': {114: {'BloodPressure': {80: {'SkinThickness': {34: {'Insulin': {285: {'BMI': {44.2: {'Age': {27: 0}}}}}}}}}}}}, 2: {'Glucose': {139: {'BloodPressure': {75: {'SkinThickness': {0: {'Insulin': {0: {'BMI': {25.6: {'Age': {29: 0}}}}}}}}}}}}, 10: {'Glucose': {92: {'BloodPressure': {62: {'SkinThickness': {0: {'Insulin': {0: {'BMI': {25.9: {'Age': {31: 0}}}}}}}}}}}}}}, 2.288: {'Pregnancies': {0: {'Glucose': {137: {'BloodPressure': {40: {'SkinThickness': {35: {'Insulin': {168: {'BMI': {43.1: {'Age': {33: 1}}}}}}}}}}}}}}, 0.201: {'Pregnancies': {5: {'Glucose': {116: {'BloodPressure': {74: {'SkinThickness': {0: {'Insulin': {0: {'BMI': {25.6: {'Age': {30: 0}}}}}}}}}}}}}}, 0.248: {'Pregnancies': {3: {'Glucose': {78: {'BloodPressure': {50: {'SkinThickness': {32: {'Insulin': {88: {'BMI': {31.0: {'Age': {26: 1}}}}}}}}}}}}, 1: {'Glucose': {73: {'BloodPressure': {50: {'SkinThickness': {10: {'Insulin': {0: {'BMI': {23.0: {'Age': {21: 0}}}}}}}}}}}}}}, 0.134: {'Pregnancies': {10: {'Glucose': {115: {'BloodPressure': {0: {'SkinThickness': {0: {'Insulin': {0: {'BMI': {35.3: {'Age': {29: 0}}}}}}}}}}}}, 2: {'Glucose': {157: {'BloodPressure': {74: {'SkinThickness': {35: {'Insulin': {440: {'BMI': {39.4: {'Age': {30: 0}}}}}}}}}}}}}}, 0.158: {'Glucose': {197: {'Pregnancies': {2: {'BloodPressure': {70: {'SkinThickness': {45: {'Insulin': {543: {'BMI': {30.5: {'Age': {53: 1}}}}}}}}}}}}, 108: {'Pregnancies': {2: {'BloodPressure': {64: {'SkinThickness': {0: {'Insulin': {0: {'BMI': {30.8: {'Age': {21: 0}}}}}}}}}}}}}}, 0.232: {'Pregnancies': {8: {'Glucose': {125: {'BloodPressure': {96: {'SkinThickness': {0: {'Insulin': {0: {'BMI': {0.0: {'Age': {54: 1}}}}}}}}}}}}}}, 0.191: {'Pregnancies': {4: {'Glucose': {110: {'BloodPressure': {92: {'SkinThickness': {0: {'Insulin': {0: {'BMI': {37.6: {'Age': {30: 0}}}}}}}}}}}}, 2: {'Glucose': {90: {'BloodPressure': {60: {'SkinThickness': {0: {'Insulin': {0: {'BMI': {23.5: {'Age': {25: 0}}}}}}}}}}}}}}, 0.537: {'Pregnancies': {10: {'Glucose': {168: {'BloodPressure': {74: {'SkinThickness': {0: {'Insulin': {0: {'BMI': {38.0: {'Age': {34: 1}}}}}}}}}}}}}}, 1.441: {'Pregnancies': {10: {'Glucose': {139: {'BloodPressure': {80: {'SkinThickness': {0: {'Insulin': {0: {'BMI': {27.1: {'Age': {57: 0}}}}}}}}}}}}}}, 0.398: {'Pregnancies': {1: {'Glucose': {189: {'BloodPressure': {60: {'SkinThickness': {23: {'Insulin': {846: {'BMI': {30.1: {'Age': {59: 1}}}}}}}}}}}}}}, 0.587: {'Glucose': {166: {'Pregnancies': {5: {'BloodPressure': {72: {'SkinThickness': {19: {'Insulin': {175: {'BMI': {25.8: {'Age': {51: 1}}}}}}}}}}}}, 44: {'Pregnancies': {5: {'BloodPressure': {62: {'SkinThickness': {0: {'Insulin': {0: {'BMI': {25.0: {'Age': {36: 0}}}}}}}}}}}}}}, 0.484: {'Pregnancies': {7: {'Glucose': {100: {'BloodPressure': {0: {'SkinThickness': {0: {'Insulin': {0: {'BMI': {30.0: {'Age': {32: 1}}}}}}}}}}}}}}, 0.551: {'Pregnancies': {0: {'Glucose': {118: {'BloodPressure': {84: {'SkinThickness': {47: {'Insulin': {230: {'BMI': {45.8: {'Age': {31: 1}}}}}}}}}}}}, 3: {'Glucose': {89: {'BloodPressure': {74: {'SkinThickness': {16: {'Insulin': {85: {'BMI': {30.4: {'Age': {38: 0}}}}}}}}}}}}, 1: {'Glucose': {99: {'BloodPressure': {58: {'SkinThickness': {10: {'Insulin': {0: {'BMI': {25.4: {'Age': {21: 0}}}}}}}}}}}}}}, 0.254: {'Glucose': {107: {'Pregnancies': {7: {'BloodPressure': {74: {'SkinThickness': {0: {'Insulin': {0: {'BMI': {29.6: {'Age': {31: 1}}}}}}}}}}}}, 143: {'Pregnancies': {11: {'BloodPressure': {94: {'SkinThickness': {33: {'Insulin': {146: {'BMI': {36.6: {'Age': {51: 1}}}}}}}}}}}}, 187: {'Pregnancies': {7: {'BloodPressure': {68: {'SkinThickness': {39: {'Insulin': {304: {'BMI': {37.7: {'Age': {41: 1}}}}}}}}}}}}, 122: {'Pregnancies': {3: {'BloodPressure': {78: {'SkinThickness': {0: {'Insulin': {0: {'BMI': {23.0: {'Age': {40: 0}}}}}}}}}}}}, 161: {'Pregnancies': {0: {'BloodPressure': {50: {'SkinThickness': {0: {'Insulin': {0: {'BMI': {21.9: {'Age': {65: 0}}}}}}}}}}}}, 124: {'Pregnancies': {0: {'BloodPressure': {70: {'SkinThickness': {20: {'Insulin': {0: {'BMI': {27.4: {'Age': {36: 1}}}}}}}}}}}}}}, 0.183: {'Pregnancies': {1: {'Glucose': {103: {'BloodPressure': {30: {'SkinThickness': {38: {'Insulin': {83: {'BMI': {43.3: {'Age': {33: 0}}}}}}}}}}}}, 8: {'Glucose': {120: {'BloodPressure': {0: {'SkinThickness': {0: {'Insulin': {0: {'BMI': {30.0: {'Age': {38: 1}}}}}}}}}}}}}}, 0.529: {'Pregnancies': {1: {'Glucose': {115: {'BloodPressure': {70: {'SkinThickness': {30: {'Insulin': {96: {'BMI': {34.6: {'Age': {32: 1}}}}}}}}}}}}}}, 0.704: {'Pregnancies': {3: {'Glucose': {126: {'BloodPressure': {88: {'SkinThickness': {41: {'Insulin': {235: {'BMI': {39.3: {'Age': {27: 0}}}}}}}}}}}}}}, 0.388: {'Pregnancies': {8: {'Glucose': {99: {'BloodPressure': {84: {'SkinThickness': {0: {'Insulin': {0: {'BMI': {35.4: {'Age': {50: 0}}}}}}}}}}}}}}, 0.451: {'Pregnancies': {7: {'Glucose': {196: {'BloodPressure': {90: {'SkinThickness': {0: {'Insulin': {0: {'BMI': {39.8: {'Age': {41: 1}}}}}}}}}}}}}}, 0.263: {'Pregnancies': {9: {'Glucose': {119: {'BloodPressure': {80: {'SkinThickness': {35: {'Insulin': {0: {'BMI': {29.0: {'Age': {29: 1}}}}}}}}}}}}, 5: {'Glucose': {108: {'BloodPressure': {72: {'SkinThickness': {43: {'Insulin': {75: {'BMI': {36.1: {'Age': {33: 0}}}}}}}}}}}}, 10: {'Glucose': {75: {'BloodPressure': {82: {'SkinThickness': {0: {'Insulin': {0: {'BMI': {33.3: {'Age': {38: 0}}}}}}}}}}}}, 0: {'Glucose': {93: {'BloodPressure': {60: {'SkinThickness': {0: {'Insulin': {0: {'BMI': {35.3: {'Age': {25: 0}}}}}}}}}}}}}}, 0.205: {'Pregnancies': {10: {'Glucose': {125: {'BloodPressure': {70: {'SkinThickness': {26: {'Insulin': {115: {'BMI': {31.1: {'Age': {41: 1}}}}}}}}}}}}, 1: {'Glucose': {119: {'BloodPressure': {54: {'SkinThickness': {13: {'Insulin': {50: {'BMI': {22.3: {'Age': {24: 0}}}}}}}}}}}}, 0: {'Glucose': {141: {'BloodPressure': {0: {'SkinThickness': {0: {'Insulin': {0: {'BMI': {42.4: {'Age': {29: 1}}}}}}}}}}}}}}, 0.257: {'Pregnancies': {7: {'Glucose': {147: {'BloodPressure': {76: {'SkinThickness': {0: {'Insulin': {0: {'BMI': {39.4: {'Age': {43: 1}}}}}}}}}}}}, 2: {'Glucose': {68: {'BloodPressure': {62: {'SkinThickness': {13: {'Insulin': {15: {'BMI': {20.1: {'Age': {23: 0}}}}}}}}}}}}, 13: {'Glucose': {158: {'BloodPressure': {114: {'SkinThickness': {0: {'Insulin': {0: {'BMI': {42.3: {'Age': {44: 1}}}}}}}}}}}}}}, 0.487: {'Pregnancies': {1: {'Glucose': {97: {'BloodPressure': {66: {'SkinThickness': {15: {'Insulin': {140: {'BMI': {23.2: {'Age': {22: 0}}}}}}}}}}}}}}, 0.245: {'Pregnancies': {13: {'Glucose': {145: {'BloodPressure': {82: {'SkinThickness': {19: {'Insulin': {110: {'BMI': {22.2: {'Age': {57: 0}}}}}}}}}}}}, 10: {'Glucose': {133: {'BloodPressure': {68: {'SkinThickness': {0: {'Insulin': {0: {'BMI': {27.0: {'Age': {36: 0}}}}}}}}}}}}, 6: {'Glucose': {115: {'BloodPressure': {60: {'SkinThickness': {39: {'Insulin': {0: {'BMI': {33.7: {'Age': {40: 1}}}}}}}}}}}}, 5: {'Glucose': {121: {'BloodPressure': {72: {'SkinThickness': {23: {'Insulin': {112: {'BMI': {26.2: {'Age': {30: 0}}}}}}}}}}}}}}, 0.337: {'Pregnancies': {5: {'Glucose': {117: {'BloodPressure': {92: {'SkinThickness': {0: {'Insulin': {0: {'BMI': {34.1: {'Age': {38: 0}}}}}}}}}}}}, 7: {'Glucose': {152: {'BloodPressure': {88: {'SkinThickness': {44: {'Insulin': {0: {'BMI': {50.0: {'Age': {36: 1}}}}}}}}}}}}, 2: {'Glucose': {146: {'BloodPressure': {70: {'SkinThickness': {38: {'Insulin': {360: {'BMI': {28.0: {'Age': {29: 1}}}}}}}}}}}}}}, 0.546: {'Pregnancies': {5: {'Glucose': {109: {'BloodPressure': {75: {'SkinThickness': {26: {'Insulin': {0: {'BMI': {36.0: {'Age': {60: 0}}}}}}}}}}}}}}, 0.851: {'Pregnancies': {3: {'Glucose': {158: {'BloodPressure': {76: {'SkinThickness': {36: {'Insulin': {245: {'BMI': {31.6: {'Age': {28: 1}}}}}}}}}}}}}}, 0.267: {'Pregnancies': {3: {'Glucose': {88: {'BloodPressure': {58: {'SkinThickness': {11: {'Insulin': {54: {'BMI': {24.8: {'Age': {22: 0}}}}}}}}}}, 84: {'BloodPressure': {72: {'SkinThickness': {32: {'Insulin': {0: {'BMI': {37.2: {'Age': {28: 0}}}}}}}}}}}}}}, 0.188: {'Pregnancies': {6: {'Glucose': {92: {'BloodPressure': {92: {'SkinThickness': {0: {'Insulin': {0: {'BMI': {19.9: {'Age': {28: 0}}}}}}}}}}}}}}, 0.512: {'Pregnancies': {10: {'Glucose': {122: {'BloodPressure': {78: {'SkinThickness': {31: {'Insulin': {0: {'BMI': {27.6: {'Age': {45: 0}}}}}}}}}}}}}}, 0.966: {'Pregnancies': {4: {'Glucose': {103: {'BloodPressure': {60: {'SkinThickness': {33: {'Insulin': {192: {'BMI': {24.0: {'Age': {33: 0}}}}}}}}}}}}}}, 0.42: {'Pregnancies': {11: {'Glucose': {138: {'BloodPressure': {76: {'SkinThickness': {0: {'Insulin': {0: {'BMI': {33.2: {'Age': {35: 0}}}}}}}}}}}}}}, 0.665: {'Pregnancies': {9: {'Glucose': {102: {'BloodPressure': {76: {'SkinThickness': {37: {'Insulin': {0: {'BMI': {32.9: {'Age': {46: 1}}}}}}}}}}}}}}, 0.503: {'Pregnancies': {2: {'Glucose': {90: {'BloodPressure': {68: {'SkinThickness': {42: {'Insulin': {0: {'BMI': {38.2: {'Age': {27: 1}}}}}}}}}}}}}}, 1.39: {'Pregnancies': {4: {'Glucose': {111: {'BloodPressure': {72: {'SkinThickness': {47: {'Insulin': {207: {'BMI': {37.1: {'Age': {56: 1}}}}}}}}}}}}}}, 0.271: {'Pregnancies': {3: {'Glucose': {180: {'BloodPressure': {64: {'SkinThickness': {25: {'Insulin': {70: {'BMI': {34.0: {'Age': {26: 0}}}}}}}}}}}}}}, 0.696: {'Pregnancies': {7: {'Glucose': {133: {'BloodPressure': {84: {'SkinThickness': {0: {'Insulin': {0: {'BMI': {40.2: {'Age': {37: 0}}}}}}}}}}}}}}, 0.235: {'Pregnancies': {7: {'Glucose': {106: {'BloodPressure': {92: {'SkinThickness': {18: {'Insulin': {0: {'BMI': {22.7: {'Age': {48: 0}}}}}}}}}}}}, 2: {'Glucose': {99: {'BloodPressure': {70: {'SkinThickness': {16: {'Insulin': {44: {'BMI': {20.4: {'Age': {27: 0}}}}}}}}}}}}}}, 0.721: {'Pregnancies': {9: {'Glucose': {171: {'BloodPressure': {110: {'SkinThickness': {24: {'Insulin': {240: {'BMI': {45.4: {'Age': {54: 1}}}}}}}}}}}}}}, 0.294: {'Pregnancies': {7: {'Glucose': {159: {'BloodPressure': {64: {'SkinThickness': {0: {'Insulin': {0: {'BMI': {27.4: {'Age': {40: 0}}}}}}}}}}}}, 4: {'Glucose': {151: {'BloodPressure': {90: {'SkinThickness': {38: {'Insulin': {0: {'BMI': {29.7: {'Age': {36: 0}}}}}}}}}}, 99: {'BloodPressure': {72: {'SkinThickness': {17: {'Insulin': {0: {'BMI': {25.6: {'Age': {28: 0}}}}}}}}}}}}}}, 1.893: {'Pregnancies': {0: {'Glucose': {180: {'BloodPressure': {66: {'SkinThickness': {39: {'Insulin': {0: {'BMI': {42.0: {'Age': {25: 1}}}}}}}}}}}}}}, 0.564: {'Pregnancies': {1: {'Glucose': {146: {'BloodPressure': {56: {'SkinThickness': {0: {'Insulin': {0: {'BMI': {29.7: {'Age': {29: 0}}}}}}}}}}}}}}, 0.586: {'Pregnancies': {2: {'Glucose': {71: {'BloodPressure': {70: {'SkinThickness': {27: {'Insulin': {0: {'BMI': {28.0: {'Age': {22: 0}}}}}}}}}}}}, 7: {'Glucose': {181: {'BloodPressure': {84: {'SkinThickness': {21: {'Insulin': {192: {'BMI': {35.9: {'Age': {51: 1}}}}}}}}}}}}}}, 0.344: {'Pregnancies': {7: {'Glucose': {103: {'BloodPressure': {66: {'SkinThickness': {32: {'Insulin': {0: {'BMI': {39.1: {'Age': {31: 1}}}}}}}}}}}}, 3: {'Glucose': {158: {'BloodPressure': {70: {'SkinThickness': {30: {'Insulin': {328: {'BMI': {35.5: {'Age': {35: 1}}}}}}}}}}}}}}, 0.305: {'Pregnancies': {7: {'Glucose': {105: {'BloodPressure': {0: {'SkinThickness': {0: {'Insulin': {0: {'BMI': {0.0: {'Age': {24: 0}}}}}}}}}}}}, 5: {'Glucose': {103: {'BloodPressure': {108: {'SkinThickness': {37: {'Insulin': {0: {'BMI': {39.2: {'Age': {65: 0}}}}}}}}}}}}, 3: {'Glucose': {124: {'BloodPressure': {80: {'SkinThickness': {33: {'Insulin': {130: {'BMI': {33.2: {'Age': {26: 0}}}}}}}}}}}}}}, 0.491: {'Pregnancies': {1: {'Glucose': {103: {'BloodPressure': {80: {'SkinThickness': {11: {'Insulin': {82: {'BMI': {19.4: {'Age': {22: 0}}}}}}}}}}}}}}, 0.526: {'Pregnancies': {1: {'Glucose': {101: {'BloodPressure': {50: {'SkinThickness': {15: {'Insulin': {36: {'BMI': {24.2: {'Age': {26: 0}}}}}}}}}}}}}}, 0.342: {'Pregnancies': {5: {'Glucose': {88: {'BloodPressure': {66: {'SkinThickness': {21: {'Insulin': {23: {'BMI': {24.4: {'Age': {30: 0}}}}}}}}}}}}, 0: {'Glucose': {73: {'BloodPressure': {0: {'SkinThickness': {0: {'Insulin': {0: {'BMI': {21.1: {'Age': {25: 0}}}}}}}}}}}}}}, 0.467: {'Pregnancies': {8: {'Glucose': {176: {'BloodPressure': {90: {'SkinThickness': {34: {'Insulin': {300: {'BMI': {33.7: {'Age': {58: 1}}}}}}}}}}}}}}, 0.718: {'Pregnancies': {7: {'Glucose': {150: {'BloodPressure': {66: {'SkinThickness': {42: {'Insulin': {342: {'BMI': {34.7: {'Age': {42: 0}}}}}}}}}}}}}}, 0.962: {'Pregnancies': {0: {'Glucose': {100: {'BloodPressure': {88: {'SkinThickness': {60: {'Insulin': {110: {'BMI': {46.8: {'Age': {31: 0}}}}}}}}}}}}, 1: {'Glucose': {125: {'BloodPressure': {50: {'SkinThickness': {40: {'Insulin': {167: {'BMI': {33.3: {'Age': {28: 1}}}}}}}}}}}}}}, 1.781: {'Pregnancies': {0: {'Glucose': {146: {'BloodPressure': {82: {'SkinThickness': {0: {'Insulin': {0: {'BMI': {40.5: {'Age': {44: 0}}}}}}}}}}}}}}, 0.173: {'Pregnancies': {0: {'Glucose': {105: {'BloodPressure': {64: {'SkinThickness': {41: {'Insulin': {142: {'BMI': {41.5: {'Age': {22: 0}}}}}}}}}}}}}}, 0.304: {'Pregnancies': {2: {'Glucose': {84: {'BloodPressure': {0: {'SkinThickness': {0: {'Insulin': {0: {'BMI': {0.0: {'Age': {21: 0}}}}}}}}}}, 129: {'BloodPressure': {0: {'SkinThickness': {0: {'Insulin': {0: {'BMI': {38.5: {'Age': {41: 0}}}}}}}}}}}}, 6: {'Glucose': {166: {'BloodPressure': {74: {'SkinThickness': {0: {'Insulin': {0: {'BMI': {26.6: {'Age': {66: 0}}}}}}}}}}}}, 7: {'Glucose': {125: {'BloodPressure': {86: {'SkinThickness': {0: {'Insulin': {0: {'BMI': {37.6: {'Age': {51: 0}}}}}}}}}}}}}}, 0.27: {'Glucose': {133: {'Pregnancies': {8: {'BloodPressure': {72: {'SkinThickness': {0: {'Insulin': {0: {'BMI': {32.9: {'Age': {39: 1}}}}}}}}}}}}, 131: {'Pregnancies': {0: {'BloodPressure': {0: {'SkinThickness': {0: {'Insulin': {0: {'BMI': {43.2: {'Age': {26: 1}}}}}}}}}}}}, 78: {'Pregnancies': {3: {'BloodPressure': {70: {'SkinThickness': {0: {'Insulin': {0: {'BMI': {32.5: {'Age': {39: 0}}}}}}}}}}}}, 152: {'Pregnancies': {0: {'BloodPressure': {82: {'SkinThickness': {39: {'Insulin': {272: {'BMI': {41.5: {'Age': {27: 0}}}}}}}}}}}}}}, 0.699: {'Pregnancies': {2: {'Glucose': {141: {'BloodPressure': {58: {'SkinThickness': {34: {'Insulin': {128: {'BMI': {25.4: {'Age': {24: 0}}}}}}}}}}}}}}, 0.258: {'Pregnancies': {7: {'Glucose': {114: {'BloodPressure': {66: {'SkinThickness': {0: {'Insulin': {0: {'BMI': {32.8: {'Age': {42: 1}}}}}}}}}}}}, 1: {'Glucose': {80: {'BloodPressure': {55: {'SkinThickness': {0: {'Insulin': {0: {'BMI': {19.1: {'Age': {21: 0}}}}}}}}}}}}, 10: {'Glucose': {122: {'BloodPressure': {68: {'SkinThickness': {0: {'Insulin': {0: {'BMI': {31.2: {'Age': {41: 0}}}}}}}}}}}}, 3: {'Glucose': {173: {'BloodPressure': {84: {'SkinThickness': {33: {'Insulin': {474: {'BMI': {35.7: {'Age': {22: 1}}}}}}}}}}}}, 5: {'Glucose': {88: {'BloodPressure': {78: {'SkinThickness': {30: {'Insulin': {0: {'BMI': {27.6: {'Age': {37: 0}}}}}}}}}}}}, 0: {'Glucose': {123: {'BloodPressure': {72: {'SkinThickness': {0: {'Insulin': {0: {'BMI': {36.3: {'Age': {52: 1}}}}}}}}}}}}}}, 0.203: {'Pregnancies': {5: {'Glucose': {99: {'BloodPressure': {74: {'SkinThickness': {27: {'Insulin': {0: {'BMI': {29.0: {'Age': {32: 0}}}}}}}}}}}}, 0: {'Glucose': {121: {'BloodPressure': {66: {'SkinThickness': {30: {'Insulin': {165: {'BMI': {34.3: {'Age': {33: 1}}}}}}}}}}}}}}, 0.855: {'Pregnancies': {0: {'Glucose': {109: {'BloodPressure': {88: {'SkinThickness': {30: {'Insulin': {0: {'BMI': {32.5: {'Age': {38: 1}}}}}}}}}}}}}}, 0.845: {'Pregnancies': {2: {'Glucose': {109: {'BloodPressure': {92: {'SkinThickness': {0: {'Insulin': {0: {'BMI': {42.7: {'Age': {54: 0}}}}}}}}}}}}}}, 0.334: {'Pregnancies': {1: {'Glucose': {95: {'BloodPressure': {66: {'SkinThickness': {13: {'Insulin': {38: {'BMI': {19.6: {'Age': {25: 0}}}}}}}}}}}}, 0: {'Glucose': {146: {'BloodPressure': {70: {'SkinThickness': {0: {'Insulin': {0: {'BMI': {37.9: {'Age': {28: 1}}}}}}}}}}}}}}, 0.189: {'Pregnancies': {4: {'Glucose': {146: {'BloodPressure': {85: {'SkinThickness': {27: {'Insulin': {100: {'BMI': {28.9: {'Age': {27: 0}}}}}}}}}}}}, 6: {'Glucose': {114: {'BloodPressure': {0: {'SkinThickness': {0: {'Insulin': {0: {'BMI': {0.0: {'Age': {26: 0}}}}}}}}}}}}}}, 0.867: {'Pregnancies': {2: {'Glucose': {100: {'BloodPressure': {66: {'SkinThickness': {20: {'Insulin': {90: {'BMI': {32.9: {'Age': {28: 1}}}}}}}}}}}}}}, 0.411: {'Pregnancies': {5: {'Glucose': {139: {'BloodPressure': {64: {'SkinThickness': {35: {'Insulin': {140: {'BMI': {28.6: {'Age': {26: 0}}}}}}}}}}}}}}, 0.583: {'Pregnancies': {13: {'Glucose': {126: {'BloodPressure': {90: {'SkinThickness': {0: {'Insulin': {0: {'BMI': {43.4: {'Age': {42: 1}}}}}}}}}}}}, 1: {'Glucose': {79: {'BloodPressure': {80: {'SkinThickness': {25: {'Insulin': {37: {'BMI': {25.4: {'Age': {22: 0}}}}}}}}}}}}, 5: {'Glucose': {189: {'BloodPressure': {64: {'SkinThickness': {33: {'Insulin': {325: {'BMI': {31.2: {'Age': {29: 1}}}}}}}}}}}}}}, 0.231: {'Pregnancies': {4: {'Glucose': {129: {'BloodPressure': {86: {'SkinThickness': {20: {'Insulin': {270: {'BMI': {35.1: {'Age': {23: 0}}}}}}}}}}}}, 0: {'Glucose': {137: {'BloodPressure': {84: {'SkinThickness': {27: {'Insulin': {0: {'BMI': {27.3: {'Age': {59: 0}}}}}}}}}}}}}}, 0.396: {'Pregnancies': {1: {'Glucose': {79: {'BloodPressure': {75: {'SkinThickness': {30: {'Insulin': {0: {'BMI': {32.0: {'Age': {22: 0}}}}}}}}}}}}}}, 0.14: {'Pregnancies': {1: {'Glucose': {0: {'BloodPressure': {48: {'SkinThickness': {20: {'Insulin': {0: {'BMI': {24.7: {'Age': {22: 0}}}}}}}}}}}}, 3: {'Glucose': {113: {'BloodPressure': {44: {'SkinThickness': {13: {'Insulin': {0: {'BMI': {22.4: {'Age': {22: 0}}}}}}}}}}}}}}, 0.391: {'Pregnancies': {7: {'Glucose': {62: {'BloodPressure': {78: {'SkinThickness': {0: {'Insulin': {0: {'BMI': {32.6: {'Age': {41: 0}}}}}}}}}}, 137: {'BloodPressure': {90: {'SkinThickness': {41: {'Insulin': {0: {'BMI': {32.0: {'Age': {39: 0}}}}}}}}}}}}, 4: {'Glucose': {76: {'BloodPressure': {62: {'SkinThickness': {0: {'Insulin': {0: {'BMI': {34.0: {'Age': {25: 0}}}}}}}}}}}}}}, 0.37: {'Pregnancies': {5: {'Glucose': {95: {'BloodPressure': {72: {'SkinThickness': {33: {'Insulin': {0: {'BMI': {37.7: {'Age': {27: 0}}}}}}}}}}}}, 2: {'Glucose': {75: {'BloodPressure': {64: {'SkinThickness': {24: {'Insulin': {55: {'BMI': {29.7: {'Age': {33: 0}}}}}}}}}}}}}}, 0.307: {'Pregnancies': {2: {'Glucose': {112: {'BloodPressure': {66: {'SkinThickness': {22: {'Insulin': {0: {'BMI': {25.0: {'Age': {24: 0}}}}}}}}}}}}}}, 0.102: {'Pregnancies': {2: {'Glucose': {74: {'BloodPressure': {0: {'SkinThickness': {0: {'Insulin': {0: {'BMI': {0.0: {'Age': {22: 0}}}}}}}}}}}}}}, 0.767: {'Pregnancies': {7: {'Glucose': {83: {'BloodPressure': {78: {'SkinThickness': {26: {'Insulin': {71: {'BMI': {29.3: {'Age': {36: 0}}}}}}}}}}}}}}, 0.237: {'Pregnancies': {0: {'Glucose': {101: {'BloodPressure': {65: {'SkinThickness': {28: {'Insulin': {0: {'BMI': {24.6: {'Age': {22: 0}}}}}}}}}}}}, 4: {'Glucose': {154: {'BloodPressure': {62: {'SkinThickness': {31: {'Insulin': {284: {'BMI': {32.8: {'Age': {23: 0}}}}}}}}}}, 92: {'BloodPressure': {80: {'SkinThickness': {0: {'Insulin': {0: {'BMI': {42.2: {'Age': {29: 0}}}}}}}}}}}}, 8: {'Glucose': {110: {'BloodPressure': {76: {'SkinThickness': {0: {'Insulin': {0: {'BMI': {27.8: {'Age': {58: 0}}}}}}}}}}}}}}, 0.227: {'Pregnancies': {5: {'Glucose': {137: {'BloodPressure': {108: {'SkinThickness': {0: {'Insulin': {0: {'BMI': {48.8: {'Age': {37: 1}}}}}}}}}}}}}}, 0.698: {'Pregnancies': {2: {'Glucose': {110: {'BloodPressure': {74: {'SkinThickness': {29: {'Insulin': {125: {'BMI': {32.4: {'Age': {27: 0}}}}}}}}}}}}}}, 0.178: {'Pregnancies': {13: {'Glucose': {106: {'BloodPressure': {72: {'SkinThickness': {54: {'Insulin': {0: {'BMI': {36.6: {'Age': {45: 0}}}}}}}}}}}}, 6: {'Glucose': {147: {'BloodPressure': {80: {'SkinThickness': {0: {'Insulin': {0: {'BMI': {29.5: {'Age': {50: 1}}}}}}}}}}, 162: {'BloodPressure': {62: {'SkinThickness': {0: {'Insulin': {0: {'BMI': {24.3: {'Age': {50: 1}}}}}}}}}}}}}}, 0.324: {'Pregnancies': {2: {'Glucose': {100: {'BloodPressure': {68: {'SkinThickness': {25: {'Insulin': {71: {'BMI': {38.5: {'Age': {26: 0}}}}}}}}}}}}, 6: {'Glucose': {103: {'BloodPressure': {72: {'SkinThickness': {32: {'Insulin': {190: {'BMI': {37.7: {'Age': {55: 0}}}}}}}}}}}}}}, 0.153: {'Pregnancies': {15: {'Glucose': {136: {'BloodPressure': {70: {'SkinThickness': {32: {'Insulin': {110: {'BMI': {37.1: {'Age': {43: 1}}}}}}}}}}}}, 5: {'Glucose': {104: {'BloodPressure': {74: {'SkinThickness': {0: {'Insulin': {0: {'BMI': {28.8: {'Age': {48: 0}}}}}}}}}}}}}}, 0.165: {'Pregnancies': {1: {'Glucose': {107: {'BloodPressure': {68: {'SkinThickness': {19: {'Insulin': {0: {'BMI': {26.5: {'Age': {24: 0}}}}}}}}}}}}, 7: {'Glucose': {161: {'BloodPressure': {86: {'SkinThickness': {0: {'Insulin': {0: {'BMI': {30.4: {'Age': {47: 1}}}}}}}}}}}}, 8: {'Glucose': {167: {'BloodPressure': {106: {'SkinThickness': {46: {'Insulin': {231: {'BMI': {37.6: {'Age': {43: 1}}}}}}}}}}}}}}, 0.443: {'Pregnancies': {4: {'Glucose': {123: {'BloodPressure': {80: {'SkinThickness': {15: {'Insulin': {176: {'BMI': {32.0: {'Age': {34: 0}}}}}}}}}}, 97: {'BloodPressure': {60: {'SkinThickness': {23: {'Insulin': {0: {'BMI': {28.2: {'Age': {22: 0}}}}}}}}}}}}, 8: {'Glucose': {154: {'BloodPressure': {78: {'SkinThickness': {32: {'Insulin': {0: {'BMI': {32.4: {'Age': {45: 1}}}}}}}}}}}}}}, 0.261: {'Pregnancies': {7: {'Glucose': {81: {'BloodPressure': {78: {'SkinThickness': {40: {'Insulin': {48: {'BMI': {46.7: {'Age': {42: 0}}}}}}}}}}}}, 1: {'Glucose': {118: {'BloodPressure': {58: {'SkinThickness': {36: {'Insulin': {94: {'BMI': {33.3: {'Age': {23: 0}}}}}}}}}}, 121: {'BloodPressure': {78: {'SkinThickness': {39: {'Insulin': {74: {'BMI': {39.0: {'Age': {28: 0}}}}}}}}}}}}, 5: {'Glucose': {112: {'BloodPressure': {66: {'SkinThickness': {0: {'Insulin': {0: {'BMI': {37.8: {'Age': {41: 1}}}}}}}}}}}}, 10: {'Glucose': {115: {'BloodPressure': {0: {'SkinThickness': {0: {'Insulin': {0: {'BMI': {0.0: {'Age': {30: 1}}}}}}}}}}}}}}, 0.277: {'Pregnancies': {4: {'Glucose': {134: {'BloodPressure': {72: {'SkinThickness': {0: {'Insulin': {0: {'BMI': {23.8: {'Age': {60: 1}}}}}}}}}}}}}}, 0.761: {'Pregnancies': {2: {'Glucose': {142: {'BloodPressure': {82: {'SkinThickness': {18: {'Insulin': {64: {'BMI': {24.7: {'Age': {21: 0}}}}}}}}}}}}, 3: {'Glucose': {141: {'BloodPressure': {0: {'SkinThickness': {0: {'Insulin': {0: {'BMI': {30.0: {'Age': {27: 1}}}}}}}}}}}}}}, 0.255: {'Pregnancies': {6: {'Glucose': {144: {'BloodPressure': {72: {'SkinThickness': {27: {'Insulin': {228: {'BMI': {33.9: {'Age': {40: 0}}}}}}}}}}}}}}, 0.13: {'Pregnancies': {2: {'Glucose': {92: {'BloodPressure': {62: {'SkinThickness': {28: {'Insulin': {0: {'BMI': {31.6: {'Age': {24: 0}}}}}}}}}}}}}}, 0.323: {'Pregnancies': {1: {'Glucose': {71: {'BloodPressure': {48: {'SkinThickness': {18: {'Insulin': {76: {'BMI': {20.4: {'Age': {22: 0}}}}}}}}}}}}, 3: {'Glucose': {130: {'BloodPressure': {78: {'SkinThickness': {23: {'Insulin': {79: {'BMI': {28.4: {'Age': {34: 1}}}}}}}}}}}}}}, 0.356: {'Pregnancies': {6: {'Glucose': {93: {'BloodPressure': {50: {'SkinThickness': {30: {'Insulin': {64: {'BMI': {28.7: {'Age': {23: 0}}}}}}}}}}}}, 3: {'Glucose': {170: {'BloodPressure': {64: {'SkinThickness': {37: {'Insulin': {225: {'BMI': {34.5: {'Age': {30: 1}}}}}}}}}}}}}}, 0.325: {'Pregnancies': {1: {'Glucose': {122: {'BloodPressure': {90: {'SkinThickness': {51: {'Insulin': {220: {'BMI': {49.7: {'Age': {31: 1}}}}}}}}}}}}}}, 1.222: {'Pregnancies': {1: {'Glucose': {163: {'BloodPressure': {72: {'SkinThickness': {0: {'Insulin': {0: {'BMI': {39.0: {'Age': {33: 1}}}}}}}}}}}}}}, 0.179: {'Pregnancies': {1: {'Glucose': {151: {'BloodPressure': {60: {'SkinThickness': {0: {'Insulin': {0: {'BMI': {26.1: {'Age': {22: 0}}}}}}}}}}}}}}, 0.262: {'Pregnancies': {0: {'Glucose': {125: {'BloodPressure': {96: {'SkinThickness': {0: {'Insulin': {0: {'BMI': {22.5: {'Age': {21: 0}}}}}}}}}}}}, 7: {'Glucose': {133: {'BloodPressure': {88: {'SkinThickness': {15: {'Insulin': {155: {'BMI': {32.4: {'Age': {37: 0}}}}}}}}}}}}}}, 0.283: {'Pregnancies': {1: {'Glucose': {81: {'BloodPressure': {72: {'SkinThickness': {18: {'Insulin': {40: {'BMI': {26.6: {'Age': {24: 0}}}}}}}}}}}}}}, 0.93: {'Pregnancies': {2: {'Glucose': {85: {'BloodPressure': {65: {'SkinThickness': {0: {'Insulin': {0: {'BMI': {39.6: {'Age': {27: 0}}}}}}}}}}}}}}, 0.801: {'Pregnancies': {1: {'Glucose': {126: {'BloodPressure': {56: {'SkinThickness': {29: {'Insulin': {152: {'BMI': {28.7: {'Age': {21: 0}}}}}}}}}}}}}}, 0.207: {'Pregnancies': {1: {'Glucose': {96: {'BloodPressure': {122: {'SkinThickness': {0: {'Insulin': {0: {'BMI': {22.4: {'Age': {27: 0}}}}}}}}}}}}, 3: {'Glucose': {150: {'BloodPressure': {76: {'SkinThickness': {0: {'Insulin': {0: {'BMI': {21.0: {'Age': {37: 0}}}}}}}}}}, 106: {'BloodPressure': {72: {'SkinThickness': {0: {'Insulin': {0: {'BMI': {25.8: {'Age': {27: 0}}}}}}}}}}}}, 5: {'Glucose': {158: {'BloodPressure': {70: {'SkinThickness': {0: {'Insulin': {0: {'BMI': {29.8: {'Age': {63: 0}}}}}}}}}}}}, 0: {'Glucose': {139: {'BloodPressure': {62: {'SkinThickness': {17: {'Insulin': {210: {'BMI': {22.1: {'Age': {21: 0}}}}}}}}}}}}}}, 0.287: {'Pregnancies': {4: {'Glucose': {144: {'BloodPressure': {58: {'SkinThickness': {28: {'Insulin': {140: {'BMI': {29.5: {'Age': {37: 0}}}}}}}}}}}}}}, 0.336: {'Pregnancies': {3: {'Glucose': {83: {'BloodPressure': {58: {'SkinThickness': {31: {'Insulin': {18: {'BMI': {34.3: {'Age': {25: 0}}}}}}}}}}}}, 0: {'Glucose': {101: {'BloodPressure': {62: {'SkinThickness': {0: {'Insulin': {0: {'BMI': {21.9: {'Age': {25: 0}}}}}}}}}}}}}}, 0.247: {'Pregnancies': {0: {'Glucose': {95: {'BloodPressure': {85: {'SkinThickness': {25: {'Insulin': {36: {'BMI': {37.4: {'Age': {24: 1}}}}}}}}}}}}, 6: {'Glucose': {114: {'BloodPressure': {88: {'SkinThickness': {0: {'Insulin': {0: {'BMI': {27.8: {'Age': {66: 0}}}}}}}}}}}}}}, 0.199: {'Pregnancies': {3: {'Glucose': {171: {'BloodPressure': {72: {'SkinThickness': {33: {'Insulin': {135: {'BMI': {33.3: {'Age': {24: 1}}}}}}}}}}}}}}, 0.543: {'Pregnancies': {8: {'Glucose': {155: {'BloodPressure': {62: {'SkinThickness': {26: {'Insulin': {495: {'BMI': {34.0: {'Age': {46: 1}}}}}}}}}}}}, 1: {'Glucose': {113: {'BloodPressure': {64: {'SkinThickness': {35: {'Insulin': {0: {'BMI': {33.6: {'Age': {21: 1}}}}}}}}}}}}}}, 0.192: {'Pregnancies': {1: {'Glucose': {89: {'BloodPressure': {76: {'SkinThickness': {34: {'Insulin': {37: {'BMI': {31.2: {'Age': {23: 0}}}}}}}}}}, 91: {'BloodPressure': {64: {'SkinThickness': {24: {'Insulin': {0: {'BMI': {29.2: {'Age': {21: 0}}}}}}}}}}}}}}, 0.588: {'Pregnancies': {7: {'Glucose': {160: {'BloodPressure': {54: {'SkinThickness': {32: {'Insulin': {175: {'BMI': {30.5: {'Age': {39: 1}}}}}}}}}}}}}}, 0.539: {'Pregnancies': {4: {'Glucose': {146: {'BloodPressure': {92: {'SkinThickness': {0: {'Insulin': {0: {'BMI': {31.2: {'Age': {61: 1}}}}}}}}}}}}}}, 0.22: {'Pregnancies': {5: {'Glucose': {124: {'BloodPressure': {74: {'SkinThickness': {0: {'Insulin': {0: {'BMI': {34.0: {'Age': {38: 1}}}}}}}}}}}}}}, 0.654: {'Pregnancies': {5: {'Glucose': {78: {'BloodPressure': {48: {'SkinThickness': {0: {'Insulin': {0: {'BMI': {33.7: {'Age': {25: 0}}}}}}}}}}}}, 1: {'Glucose': {139: {'BloodPressure': {46: {'SkinThickness': {19: {'Insulin': {83: {'BMI': {28.7: {'Age': {22: 0}}}}}}}}}}}}}}, 0.223: {'Pregnancies': {4: {'Glucose': {99: {'BloodPressure': {76: {'SkinThickness': {15: {'Insulin': {51: {'BMI': {23.2: {'Age': {21: 0}}}}}}}}}}}}, 3: {'Glucose': {108: {'BloodPressure': {62: {'SkinThickness': {24: {'Insulin': {0: {'BMI': {26.0: {'Age': {25: 0}}}}}}}}}}}}}}, 0.759: {'Pregnancies': {0: {'Glucose': {162: {'BloodPressure': {76: {'SkinThickness': {56: {'Insulin': {100: {'BMI': {53.2: {'Age': {25: 1}}}}}}}}}}}}}}, 0.26: {'Pregnancies': {6: {'Glucose': {111: {'BloodPressure': {64: {'SkinThickness': {39: {'Insulin': {0: {'BMI': {34.2: {'Age': {24: 0}}}}}}}}}}}}, 9: {'Glucose': {112: {'BloodPressure': {82: {'SkinThickness': {32: {'Insulin': {175: {'BMI': {34.2: {'Age': {36: 1}}}}}}}}}}}}, 1: {'Glucose': {95: {'BloodPressure': {60: {'SkinThickness': {18: {'Insulin': {58: {'BMI': {23.9: {'Age': {22: 0}}}}}}}}}}}}, 11: {'Glucose': {136: {'BloodPressure': {84: {'SkinThickness': {35: {'Insulin': {130: {'BMI': {28.3: {'Age': {42: 1}}}}}}}}}}}}}}, 0.404: {'Pregnancies': {2: {'Glucose': {107: {'BloodPressure': {74: {'SkinThickness': {30: {'Insulin': {100: {'BMI': {33.6: {'Age': {23: 0}}}}}}}}}}}}}}, 0.278: {'Pregnancies': {0: {'Glucose': {113: {'BloodPressure': {76: {'SkinThickness': {0: {'Insulin': {0: {'BMI': {33.3: {'Age': {23: 1}}}}}}}}}}}}, 6: {'Glucose': {190: {'BloodPressure': {92: {'SkinThickness': {0: {'Insulin': {0: {'BMI': {35.5: {'Age': {66: 1}}}}}}}}}}}}}}, 0.496: {'Glucose': {88: {'Pregnancies': {1: {'BloodPressure': {30: {'SkinThickness': {42: {'Insulin': {99: {'BMI': {55.0: {'Age': {26: 1}}}}}}}}}}}}, 102: {'Pregnancies': {0: {'BloodPressure': {64: {'SkinThickness': {46: {'Insulin': {78: {'BMI': {40.6: {'Age': {21: 0}}}}}}}}}}}}, 116: {'Pregnancies': {1: {'BloodPressure': {78: {'SkinThickness': {29: {'Insulin': {180: {'BMI': {36.1: {'Age': {25: 0}}}}}}}}}}}}}}, 0.452: {'Pregnancies': {3: {'Glucose': {120: {'BloodPressure': {70: {'SkinThickness': {30: {'Insulin': {135: {'BMI': {42.9: {'Age': {30: 0}}}}}}}}}}}}, 5: {'Glucose': {144: {'BloodPressure': {82: {'SkinThickness': {26: {'Insulin': {285: {'BMI': {32.0: {'Age': {58: 1}}}}}}}}}}}}, 0: {'Glucose': {124: {'BloodPressure': {56: {'SkinThickness': {13: {'Insulin': {105: {'BMI': {21.8: {'Age': {21: 0}}}}}}}}}}}}}}, 0.403: {'Pregnancies': {1: {'Glucose': {117: {'BloodPressure': {88: {'SkinThickness': {24: {'Insulin': {145: {'BMI': {34.5: {'Age': {40: 1}}}}}}}}}}}}, 9: {'Glucose': {170: {'BloodPressure': {74: {'SkinThickness': {31: {'Insulin': {0: {'BMI': {44.0: {'Age': {43: 1}}}}}}}}}}}}}}, 0.741: {'Pregnancies': {0: {'Glucose': {105: {'BloodPressure': {84: {'SkinThickness': {0: {'Insulin': {0: {'BMI': {27.9: {'Age': {62: 1}}}}}}}}}}}}}}, 0.361: {'Pregnancies': {4: {'Glucose': {173: {'BloodPressure': {70: {'SkinThickness': {14: {'Insulin': {168: {'BMI': {29.7: {'Age': {33: 1}}}}}}}}}}}}, 5: {'Glucose': {139: {'BloodPressure': {80: {'SkinThickness': {35: {'Insulin': {160: {'BMI': {31.6: {'Age': {25: 1}}}}}}}}}}}}}}, 1.114: {'Pregnancies': {9: {'Glucose': {122: {'BloodPressure': {56: {'SkinThickness': {0: {'Insulin': {0: {'BMI': {33.3: {'Age': {33: 1}}}}}}}}}}}}}}, 0.457: {'Pregnancies': {8: {'Glucose': {84: {'BloodPressure': {74: {'SkinThickness': {31: {'Insulin': {0: {'BMI': {38.3: {'Age': {39: 0}}}}}}}}}}}}}}, 0.647: {'Pregnancies': {2: {'Glucose': {96: {'BloodPressure': {68: {'SkinThickness': {13: {'Insulin': {49: {'BMI': {21.1: {'Age': {26: 0}}}}}}}}}}}}, 7: {'Glucose': {136: {'BloodPressure': {74: {'SkinThickness': {26: {'Insulin': {135: {'BMI': {26.0: {'Age': {51: 0}}}}}}}}}}}}}}, 0.088: {'Pregnancies': {2: {'Glucose': {125: {'BloodPressure': {60: {'SkinThickness': {20: {'Insulin': {140: {'BMI': {33.8: {'Age': {31: 0}}}}}}}}}}}}, 1: {'Glucose': {173: {'BloodPressure': {74: {'SkinThickness': {0: {'Insulin': {0: {'BMI': {36.8: {'Age': {38: 1}}}}}}}}}}}}}}, 0.597: {'Pregnancies': {0: {'Glucose': {100: {'BloodPressure': {70: {'SkinThickness': {26: {'Insulin': {50: {'BMI': {30.8: {'Age': {21: 0}}}}}}}}}}}}}}, 0.532: {'Pregnancies': {0: {'Glucose': {93: {'BloodPressure': {60: {'SkinThickness': {25: {'Insulin': {92: {'BMI': {28.7: {'Age': {22: 0}}}}}}}}}}}}}}, 0.703: {'Pregnancies': {0: {'Glucose': {129: {'BloodPressure': {80: {'SkinThickness': {0: {'Insulin': {0: {'BMI': {31.2: {'Age': {29: 0}}}}}}}}}}}}}}, 0.159: {'Pregnancies': {5: {'Glucose': {105: {'BloodPressure': {72: {'SkinThickness': {29: {'Insulin': {325: {'BMI': {36.9: {'Age': {28: 0}}}}}}}}}}}}, 4: {'Glucose': {84: {'BloodPressure': {90: {'SkinThickness': {23: {'Insulin': {56: {'BMI': {39.5: {'Age': {25: 0}}}}}}}}}}}}}}, 0.268: {'Glucose': {128: {'Pregnancies': {3: {'BloodPressure': {78: {'SkinThickness': {0: {'Insulin': {0: {'BMI': {21.1: {'Age': {55: 0}}}}}}}}}}}}, 73: {'Pregnancies': {5: {'BloodPressure': {60: {'SkinThickness': {0: {'Insulin': {0: {'BMI': {26.8: {'Age': {27: 0}}}}}}}}}}}}, 163: {'Pregnancies': {3: {'BloodPressure': {70: {'SkinThickness': {18: {'Insulin': {105: {'BMI': {31.6: {'Age': {28: 1}}}}}}}}}}}}, 130: {'Pregnancies': {2: {'BloodPressure': {96: {'SkinThickness': {0: {'Insulin': {0: {'BMI': {22.6: {'Age': {21: 0}}}}}}}}}}}}, 169: {'Pregnancies': {3: {'BloodPressure': {74: {'SkinThickness': {19: {'Insulin': {125: {'BMI': {29.9: {'Age': {31: 1}}}}}}}}}}}}}}, 0.286: {'Glucose': {106: {'Pregnancies': {5: {'BloodPressure': {82: {'SkinThickness': {30: {'Insulin': {0: {'BMI': {39.5: {'Age': {38: 0}}}}}}}}}}}}, 136: {'Pregnancies': {5: {'BloodPressure': {84: {'SkinThickness': {41: {'Insulin': {88: {'BMI': {35.0: {'Age': {35: 1}}}}}}}}}}}}}}, 0.318: {'Pregnancies': {2: {'Glucose': {108: {'BloodPressure': {52: {'SkinThickness': {26: {'Insulin': {63: {'BMI': {32.5: {'Age': {22: 0}}}}}}}}}}}}}}, 0.272: {'Pregnancies': {10: {'Glucose': {108: {'BloodPressure': {66: {'SkinThickness': {0: {'Insulin': {0: {'BMI': {32.4: {'Age': {42: 1}}}}}}}}}}}}}}, 0.572: {'Pregnancies': {0: {'Glucose': {102: {'BloodPressure': {75: {'SkinThickness': {23: {'Insulin': {0: {'BMI': {0.0: {'Age': {21: 0}}}}}}}}}}}}}}, 0.096: {'Pregnancies': {9: {'Glucose': {57: {'BloodPressure': {80: {'SkinThickness': {37: {'Insulin': {0: {'BMI': {32.8: {'Age': {41: 0}}}}}}}}}}}}}}, 1.4: {'Pregnancies': {2: {'Glucose': {106: {'BloodPressure': {64: {'SkinThickness': {35: {'Insulin': {119: {'BMI': {30.5: {'Age': {34: 0}}}}}}}}}}}}}}, 0.218: {'Pregnancies': {5: {'Glucose': {147: {'BloodPressure': {78: {'SkinThickness': {0: {'Insulin': {0: {'BMI': {33.7: {'Age': {65: 0}}}}}}}}}}}}, 1: {'Glucose': {97: {'BloodPressure': {70: {'SkinThickness': {40: {'Insulin': {0: {'BMI': {38.1: {'Age': {30: 0}}}}}}}}}}}}}}, 0.085: {'Pregnancies': {2: {'Glucose': {90: {'BloodPressure': {70: {'SkinThickness': {17: {'Insulin': {0: {'BMI': {27.3: {'Age': {22: 0}}}}}}}}}}}}, 6: {'Glucose': {92: {'BloodPressure': {62: {'SkinThickness': {32: {'Insulin': {126: {'BMI': {32.0: {'Age': {46: 0}}}}}}}}}}}}}}, 0.399: {'Pregnancies': {1: {'Glucose': {136: {'BloodPressure': {74: {'SkinThickness': {50: {'Insulin': {204: {'BMI': {37.4: {'Age': {24: 0}}}}}}}}}}}}}}, 0.432: {'Pregnancies': {4: {'Glucose': {114: {'BloodPressure': {65: {'SkinThickness': {0: {'Insulin': {0: {'BMI': {21.9: {'Age': {37: 0}}}}}}}}}}}}}}, 1.189: {'Pregnancies': {9: {'Glucose': {156: {'BloodPressure': {86: {'SkinThickness': {28: {'Insulin': {155: {'BMI': {34.3: {'Age': {42: 1}}}}}}}}}}}}}}, 0.687: {'Pregnancies': {1: {'Glucose': {153: {'BloodPressure': {82: {'SkinThickness': {42: {'Insulin': {485: {'BMI': {40.6: {'Age': {23: 0}}}}}}}}}}, 135: {'BloodPressure': {54: {'SkinThickness': {0: {'Insulin': {0: {'BMI': {26.7: {'Age': {62: 0}}}}}}}}}}}}, 7: {'Glucose': {142: {'BloodPressure': {60: {'SkinThickness': {33: {'Insulin': {190: {'BMI': {28.8: {'Age': {61: 0}}}}}}}}}}}}, 8: {'Glucose': {124: {'BloodPressure': {76: {'SkinThickness': {24: {'Insulin': {600: {'BMI': {28.7: {'Age': {52: 1}}}}}}}}}}}}}}, 0.137: {'Pregnancies': {8: {'Glucose': {188: {'BloodPressure': {78: {'SkinThickness': {0: {'Insulin': {0: {'BMI': {47.9: {'Age': {43: 1}}}}}}}}}}}}, 12: {'Glucose': {106: {'BloodPressure': {80: {'SkinThickness': {0: {'Insulin': {0: {'BMI': {23.6: {'Age': {44: 0}}}}}}}}}}}}}}, 0.637: {'Pregnancies': {2: {'Glucose': {99: {'BloodPressure': {52: {'SkinThickness': {15: {'Insulin': {94: {'BMI': {24.6: {'Age': {21: 0}}}}}}}}}}}}, 9: {'Glucose': {145: {'BloodPressure': {80: {'SkinThickness': {46: {'Insulin': {130: {'BMI': {37.9: {'Age': {40: 1}}}}}}}}}}}}}}, 0.833: {'Pregnancies': {1: {'Glucose': {109: {'BloodPressure': {56: {'SkinThickness': {21: {'Insulin': {135: {'BMI': {25.2: {'Age': {23: 0}}}}}}}}}}}}}}, 0.229: {'Pregnancies': {2: {'Glucose': {88: {'BloodPressure': {74: {'SkinThickness': {19: {'Insulin': {53: {'BMI': {29.0: {'Age': {22: 0}}}}}}}}}}}}}}, 0.817: {'Pregnancies': {17: {'Glucose': {163: {'BloodPressure': {72: {'SkinThickness': {41: {'Insulin': {114: {'BMI': {40.9: {'Age': {47: 1}}}}}}}}}}}}}}, 0.204: {'Pregnancies': {7: {'Glucose': {102: {'BloodPressure': {74: {'SkinThickness': {40: {'Insulin': {105: {'BMI': {37.2: {'Age': {45: 0}}}}}}}}}}}}, 1: {'Glucose': {116: {'BloodPressure': {70: {'SkinThickness': {28: {'Insulin': {0: {'BMI': {27.4: {'Age': {21: 0}}}}}}}}}}}}}}, 0.368: {'Pregnancies': {2: {'Glucose': {100: {'BloodPressure': {64: {'SkinThickness': {23: {'Insulin': {0: {'BMI': {29.7: {'Age': {21: 0}}}}}}}}}}}}, 6: {'Glucose': {124: {'BloodPressure': {72: {'SkinThickness': {0: {'Insulin': {0: {'BMI': {27.6: {'Age': {29: 1}}}}}}}}}}}}}}, 0.743: {'Pregnancies': {0: {'Glucose': {131: {'BloodPressure': {88: {'SkinThickness': {0: {'Insulin': {0: {'BMI': {31.6: {'Age': {32: 1}}}}}}}}}}}}}}, 0.722: {'Pregnancies': {6: {'Glucose': {104: {'BloodPressure': {74: {'SkinThickness': {18: {'Insulin': {156: {'BMI': {29.9: {'Age': {41: 1}}}}}}}}}}}}}}, 0.256: {'Pregnancies': {3: {'Glucose': {148: {'BloodPressure': {66: {'SkinThickness': {25: {'Insulin': {0: {'BMI': {32.5: {'Age': {22: 0}}}}}}}}}}}}, 1: {'Glucose': {143: {'BloodPressure': {74: {'SkinThickness': {22: {'Insulin': {61: {'BMI': {26.2: {'Age': {21: 0}}}}}}}}}}}}, 0: {'Glucose': {94: {'BloodPressure': {0: {'SkinThickness': {0: {'Insulin': {0: {'BMI': {0.0: {'Age': {25: 0}}}}}}}}}}}}}}, 0.709: {'Pregnancies': {4: {'Glucose': {120: {'BloodPressure': {68: {'SkinThickness': {0: {'Insulin': {0: {'BMI': {29.6: {'Age': {34: 0}}}}}}}}}}}}}}, 0.471: {'Pregnancies': {4: {'Glucose': {110: {'BloodPressure': {66: {'SkinThickness': {0: {'Insulin': {0: {'BMI': {31.9: {'Age': {29: 0}}}}}}}}}}}}, 1: {'Glucose': {84: {'BloodPressure': {64: {'SkinThickness': {23: {'Insulin': {115: {'BMI': {36.9: {'Age': {28: 0}}}}}}}}}}}}}}, 0.495: {'Pregnancies': {3: {'Glucose': {111: {'BloodPressure': {90: {'SkinThickness': {12: {'Insulin': {78: {'BMI': {28.4: {'Age': {29: 0}}}}}}}}}}}}}}, 0.18: {'Pregnancies': {6: {'Glucose': {102: {'BloodPressure': {82: {'SkinThickness': {0: {'Insulin': {0: {'BMI': {30.8: {'Age': {36: 1}}}}}}}}}}}}, 13: {'Glucose': {76: {'BloodPressure': {60: {'SkinThickness': {0: {'Insulin': {0: {'BMI': {32.8: {'Age': {41: 0}}}}}}}}}}}}}}, 0.542: {'Pregnancies': {6: {'Glucose': {134: {'BloodPressure': {70: {'SkinThickness': {23: {'Insulin': {130: {'BMI': {35.4: {'Age': {29: 1}}}}}}}}}}}}, 2: {'Glucose': {134: {'BloodPressure': {70: {'SkinThickness': {0: {'Insulin': {0: {'BMI': {28.9: {'Age': {23: 1}}}}}}}}}}}}}}, 0.773: {'Pregnancies': {2: {'Glucose': {87: {'BloodPressure': {0: {'SkinThickness': {23: {'Insulin': {0: {'BMI': {28.9: {'Age': {25: 0}}}}}}}}}}}}}}, 0.678: {'Pregnancies': {1: {'Glucose': {79: {'BloodPressure': {60: {'SkinThickness': {42: {'Insulin': {48: {'BMI': {43.5: {'Age': {23: 0}}}}}}}}}}}}, 3: {'Glucose': {107: {'BloodPressure': {62: {'SkinThickness': {13: {'Insulin': {48: {'BMI': {22.9: {'Age': {23: 1}}}}}}}}}}}}}}, 0.719: {'Pregnancies': {8: {'Glucose': {179: {'BloodPressure': {72: {'SkinThickness': {42: {'Insulin': {130: {'BMI': {32.7: {'Age': {36: 1}}}}}}}}}}}}}}, 0.382: {'Pregnancies': {6: {'Glucose': {85: {'BloodPressure': {78: {'SkinThickness': {0: {'Insulin': {0: {'BMI': {31.2: {'Age': {42: 0}}}}}}}}}}}}}}, 0.319: {'Pregnancies': {0: {'Glucose': {129: {'BloodPressure': {110: {'SkinThickness': {46: {'Insulin': {130: {'BMI': {67.1: {'Age': {26: 1}}}}}}}}}}}}}}, 0.19: {'Pregnancies': {5: {'Glucose': {143: {'BloodPressure': {78: {'SkinThickness': {0: {'Insulin': {0: {'BMI': {45.0: {'Age': {47: 0}}}}}}}}}}}}, 8: {'Glucose': {100: {'BloodPressure': {76: {'SkinThickness': {0: {'Insulin': {0: {'BMI': {38.7: {'Age': {42: 0}}}}}}}}}}}}, 6: {'Glucose': {96: {'BloodPressure': {0: {'SkinThickness': {0: {'Insulin': {0: {'BMI': {23.7: {'Age': {28: 0}}}}}}}}}}}}, 11: {'Glucose': {127: {'BloodPressure': {106: {'SkinThickness': {0: {'Insulin': {0: {'BMI': {39.0: {'Age': {51: 0}}}}}}}}}}}}}}, 0.956: {'Pregnancies': {5: {'Glucose': {130: {'BloodPressure': {82: {'SkinThickness': {0: {'Insulin': {0: {'BMI': {39.1: {'Age': {37: 1}}}}}}}}}}}}}}, 0.084: {'Pregnancies': {6: {'Glucose': {87: {'BloodPressure': {80: {'SkinThickness': {0: {'Insulin': {0: {'BMI': {23.2: {'Age': {32: 0}}}}}}}}}}}}}}, 0.725: {'Pregnancies': {0: {'Glucose': {119: {'BloodPressure': {64: {'SkinThickness': {18: {'Insulin': {92: {'BMI': {34.9: {'Age': {23: 0}}}}}}}}}}}}}}, 0.299: {'Pregnancies': {1: {'Glucose': {0: {'BloodPressure': {74: {'SkinThickness': {20: {'Insulin': {23: {'BMI': {27.7: {'Age': {21: 0}}}}}}}}}}, 97: {'BloodPressure': {64: {'SkinThickness': {19: {'Insulin': {82: {'BMI': {18.2: {'Age': {21: 0}}}}}}}}}}}}, 3: {'Glucose': {191: {'BloodPressure': {68: {'SkinThickness': {15: {'Insulin': {130: {'BMI': {30.9: {'Age': {34: 0}}}}}}}}}}}}, 0: {'Glucose': {98: {'BloodPressure': {82: {'SkinThickness': {15: {'Insulin': {84: {'BMI': {25.2: {'Age': {22: 0}}}}}}}}}}}}}}, 0.244: {'Pregnancies': {4: {'Glucose': {141: {'BloodPressure': {74: {'SkinThickness': {0: {'Insulin': {0: {'BMI': {27.6: {'Age': {40: 0}}}}}}}}}}}}, 12: {'Glucose': {140: {'BloodPressure': {85: {'SkinThickness': {33: {'Insulin': {0: {'BMI': {37.4: {'Age': {41: 0}}}}}}}}}}}}}}, 0.745: {'Pregnancies': {7: {'Glucose': {194: {'BloodPressure': {68: {'SkinThickness': {28: {'Insulin': {0: {'BMI': {35.9: {'Age': {41: 1}}}}}}}}}}}}}}, 0.615: {'Pregnancies': {8: {'Glucose': {181: {'BloodPressure': {68: {'SkinThickness': {36: {'Insulin': {495: {'BMI': {30.1: {'Age': {60: 1}}}}}}}}}}}}}}, 1.321: {'Pregnancies': {1: {'Glucose': {128: {'BloodPressure': {98: {'SkinThickness': {41: {'Insulin': {58: {'BMI': {32.0: {'Age': {33: 1}}}}}}}}}}}}}}, 0.64: {'Pregnancies': {8: {'Glucose': {109: {'BloodPressure': {76: {'SkinThickness': {39: {'Insulin': {114: {'BMI': {27.9: {'Age': {31: 1}}}}}}}}}}}}}}, 0.142: {'Pregnancies': {3: {'Glucose': {111: {'BloodPressure': {62: {'SkinThickness': {0: {'Insulin': {0: {'BMI': {22.6: {'Age': {21: 0}}}}}}}}}}}}, 1: {'Glucose': {106: {'BloodPressure': {70: {'SkinThickness': {28: {'Insulin': {135: {'BMI': {34.2: {'Age': {22: 0}}}}}}}}}}}}, 9: {'Glucose': {89: {'BloodPressure': {62: {'SkinThickness': {0: {'Insulin': {0: {'BMI': {22.5: {'Age': {33: 0}}}}}}}}}}}}}}, 0.374: {'Pregnancies': {9: {'Glucose': {123: {'BloodPressure': {70: {'SkinThickness': {44: {'Insulin': {94: {'BMI': {33.1: {'Age': {40: 0}}}}}}}}}}}}}}, 0.383: {'Pregnancies': {7: {'Glucose': {159: {'BloodPressure': {66: {'SkinThickness': {0: {'Insulin': {0: {'BMI': {30.4: {'Age': {36: 1}}}}}}}}}}}}}}, 0.578: {'Pregnancies': {11: {'Glucose': {135: {'BloodPressure': {0: {'SkinThickness': {0: {'Insulin': {0: {'BMI': {52.3: {'Age': {40: 1}}}}}}}}}}}}}}, 0.136: {'Pregnancies': {8: {'Glucose': {85: {'BloodPressure': {55: {'SkinThickness': {20: {'Insulin': {0: {'BMI': {24.4: {'Age': {42: 0}}}}}}}}}}}}}}, 0.395: {'Pregnancies': {5: {'Glucose': {158: {'BloodPressure': {84: {'SkinThickness': {41: {'Insulin': {210: {'BMI': {39.4: {'Age': {29: 1}}}}}}}}}}}}}}, 0.187: {'Pregnancies': {1: {'Glucose': {105: {'BloodPressure': {58: {'SkinThickness': {0: {'Insulin': {0: {'BMI': {24.3: {'Age': {21: 0}}}}}}}}}}}}, 3: {'Glucose': {116: {'BloodPressure': {0: {'SkinThickness': {0: {'Insulin': {0: {'BMI': {23.5: {'Age': {23: 0}}}}}}}}}}}}, 2: {'Glucose': {68: {'BloodPressure': {70: {'SkinThickness': {32: {'Insulin': {66: {'BMI': {25.0: {'Age': {25: 0}}}}}}}}}}}}}}, 0.905: {'Pregnancies': {4: {'Glucose': {109: {'BloodPressure': {64: {'SkinThickness': {44: {'Insulin': {99: {'BMI': {34.8: {'Age': {26: 1}}}}}}}}}}}}, 1: {'Glucose': {168: {'BloodPressure': {88: {'SkinThickness': {29: {'Insulin': {0: {'BMI': {35.0: {'Age': {52: 1}}}}}}}}}}}}}}, 0.15: {'Pregnancies': {4: {'Glucose': {148: {'BloodPressure': {60: {'SkinThickness': {27: {'Insulin': {318: {'BMI': {30.9: {'Age': {29: 1}}}}}}}}}}}}, 3: {'Glucose': {115: {'BloodPressure': {66: {'SkinThickness': {39: {'Insulin': {140: {'BMI': {38.1: {'Age': {28: 0}}}}}}}}}}}}}}, 0.874: {'Pregnancies': {0: {'Glucose': {113: {'BloodPressure': {80: {'SkinThickness': {16: {'Insulin': {0: {'BMI': {31.0: {'Age': {21: 0}}}}}}}}}}}}}}, 0.236: {'Pregnancies': {1: {'Glucose': {138: {'BloodPressure': {82: {'SkinThickness': {0: {'Insulin': {0: {'BMI': {40.1: {'Age': {28: 0}}}}}}}}}}}}, 0: {'Glucose': {105: {'BloodPressure': {68: {'SkinThickness': {22: {'Insulin': {0: {'BMI': {20.0: {'Age': {22: 0}}}}}}}}}}}}, 4: {'Glucose': {112: {'BloodPressure': {78: {'SkinThickness': {40: {'Insulin': {0: {'BMI': {39.4: {'Age': {38: 0}}}}}}}}}}}}}}, 0.787: {'Pregnancies': {0: {'Glucose': {108: {'BloodPressure': {68: {'SkinThickness': {20: {'Insulin': {0: {'BMI': {27.3: {'Age': {32: 0}}}}}}}}}}}}, 7: {'Glucose': {168: {'BloodPressure': {88: {'SkinThickness': {42: {'Insulin': {321: {'BMI': {38.2: {'Age': {40: 1}}}}}}}}}}}}}}, 0.407: {'Pregnancies': {5: {'Glucose': {111: {'BloodPressure': {72: {'SkinThickness': {28: {'Insulin': {0: {'BMI': {23.9: {'Age': {27: 0}}}}}}}}}}}}, 1: {'Glucose': {109: {'BloodPressure': {38: {'SkinThickness': {18: {'Insulin': {120: {'BMI': {23.1: {'Age': {26: 0}}}}}}}}}}}}}}, 0.605: {'Pregnancies': {8: {'Glucose': {196: {'BloodPressure': {76: {'SkinThickness': {29: {'Insulin': {280: {'BMI': {37.5: {'Age': {57: 1}}}}}}}}}}}}, 0: {'Glucose': {106: {'BloodPressure': {70: {'SkinThickness': {37: {'Insulin': {148: {'BMI': {39.4: {'Age': {22: 0}}}}}}}}}}}}}}, 0.151: {'Pregnancies': {5: {'Glucose': {162: {'BloodPressure': {104: {'SkinThickness': {0: {'Insulin': {0: {'BMI': {37.7: {'Age': {52: 1}}}}}}}}}}}}, 6: {'Glucose': {137: {'BloodPressure': {61: {'SkinThickness': {0: {'Insulin': {0: {'BMI': {24.2: {'Age': {55: 0}}}}}}}}}}}}, 3: {'Glucose': {125: {'BloodPressure': {58: {'SkinThickness': {0: {'Insulin': {0: {'BMI': {31.6: {'Age': {24: 0}}}}}}}}}}}}}}, 0.289: {'Pregnancies': {1: {'Glucose': {96: {'BloodPressure': {64: {'SkinThickness': {27: {'Insulin': {87: {'BMI': {33.2: {'Age': {21: 0}}}}}}}}}}, 114: {'BloodPressure': {66: {'SkinThickness': {36: {'Insulin': {200: {'BMI': {38.1: {'Age': {21: 0}}}}}}}}}}}}}}, 0.355: {'Pregnancies': {7: {'Glucose': {184: {'BloodPressure': {84: {'SkinThickness': {33: {'Insulin': {0: {'BMI': {35.5: {'Age': {41: 1}}}}}}}}}}}}}}, 0.29: {'Pregnancies': {2: {'Glucose': {81: {'BloodPressure': {60: {'SkinThickness': {22: {'Insulin': {0: {'BMI': {27.7: {'Age': {25: 0}}}}}}}}}}}}, 5: {'Glucose': {122: {'BloodPressure': {86: {'SkinThickness': {0: {'Insulin': {0: {'BMI': {34.7: {'Age': {33: 0}}}}}}}}}}}}}}, 0.375: {'Pregnancies': {0: {'Glucose': {147: {'BloodPressure': {85: {'SkinThickness': {54: {'Insulin': {0: {'BMI': {42.8: {'Age': {24: 0}}}}}}}}}}}}}}, 0.164: {'Pregnancies': {7: {'Glucose': {179: {'BloodPressure': {95: {'SkinThickness': {31: {'Insulin': {0: {'BMI': {34.2: {'Age': {60: 0}}}}}}}}}}}}, 9: {'Glucose': {154: {'BloodPressure': {78: {'SkinThickness': {30: {'Insulin': {100: {'BMI': {30.9: {'Age': {45: 0}}}}}}}}}}}}}}, 0.431: {'Pregnancies': {0: {'Glucose': {140: {'BloodPressure': {65: {'SkinThickness': {26: {'Insulin': {130: {'BMI': {42.6: {'Age': {24: 1}}}}}}}}}}}}}}, 0.742: {'Pregnancies': {12: {'Glucose': {151: {'BloodPressure': {70: {'SkinThickness': {40: {'Insulin': {271: {'BMI': {41.8: {'Age': {38: 1}}}}}}}}}}}}}}, 0.514: {'Pregnancies': {5: {'Glucose': {109: {'BloodPressure': {62: {'SkinThickness': {41: {'Insulin': {129: {'BMI': {35.8: {'Age': {25: 1}}}}}}}}}}}}, 1: {'Glucose': {124: {'BloodPressure': {60: {'SkinThickness': {32: {'Insulin': {0: {'BMI': {35.8: {'Age': {21: 0}}}}}}}}}}}}}}, 0.464: {'Pregnancies': {6: {'Glucose': {125: {'BloodPressure': {68: {'SkinThickness': {30: {'Insulin': {120: {'BMI': {30.0: {'Age': {32: 0}}}}}}}}}}}}}}, 1.224: {'Pregnancies': {5: {'Glucose': {85: {'BloodPressure': {74: {'SkinThickness': {22: {'Insulin': {0: {'BMI': {29.0: {'Age': {32: 1}}}}}}}}}}}}, 2: {'Glucose': {128: {'BloodPressure': {78: {'SkinThickness': {37: {'Insulin': {182: {'BMI': {43.3: {'Age': {31: 1}}}}}}}}}}}}}}, 1.072: {'Pregnancies': {0: {'Glucose': {177: {'BloodPressure': {60: {'SkinThickness': {29: {'Insulin': {478: {'BMI': {34.6: {'Age': {21: 1}}}}}}}}}}}}}}, 0.805: {'Pregnancies': {2: {'Glucose': {158: {'BloodPressure': {90: {'SkinThickness': {0: {'Insulin': {0: {'BMI': {31.6: {'Age': {66: 1}}}}}}}}}}}}}}, 0.209: {'Pregnancies': {7: {'Glucose': {119: {'BloodPressure': {0: {'SkinThickness': {0: {'Insulin': {0: {'BMI': {25.2: {'Age': {37: 0}}}}}}}}}}}}, 5: {'Glucose': {115: {'BloodPressure': {98: {'SkinThickness': {0: {'Insulin': {0: {'BMI': {52.9: {'Age': {28: 1}}}}}}}}}}}}}}, 0.666: {'Pregnancies': {1: {'Glucose': {100: {'BloodPressure': {66: {'SkinThickness': {15: {'Insulin': {56: {'BMI': {23.6: {'Age': {26: 0}}}}}}}}}}}}}}, 0.101: {'Pregnancies': {1: {'Glucose': {87: {'BloodPressure': {78: {'SkinThickness': {27: {'Insulin': {32: {'BMI': {34.6: {'Age': {22: 0}}}}}}}}}}}}}}, 0.198: {'Pregnancies': {0: {'Glucose': {101: {'BloodPressure': {76: {'SkinThickness': {0: {'Insulin': {0: {'BMI': {35.7: {'Age': {26: 0}}}}}}}}}}}}, 2: {'Glucose': {98: {'BloodPressure': {60: {'SkinThickness': {17: {'Insulin': {120: {'BMI': {34.7: {'Age': {22: 0}}}}}}}}}}}}}}, 0.652: {'Pregnancies': {3: {'Glucose': {162: {'BloodPressure': {52: {'SkinThickness': {38: {'Insulin': {0: {'BMI': {37.2: {'Age': {24: 1}}}}}}}}}}}}, 9: {'Glucose': {130: {'BloodPressure': {70: {'SkinThickness': {0: {'Insulin': {0: {'BMI': {34.2: {'Age': {45: 1}}}}}}}}}}}}}}, 2.329: {'Pregnancies': {4: {'Glucose': {197: {'BloodPressure': {70: {'SkinThickness': {39: {'Insulin': {744: {'BMI': {36.7: {'Age': {31: 0}}}}}}}}}}}}}}, 0.089: {'Pregnancies': {0: {'Glucose': {117: {'BloodPressure': {80: {'SkinThickness': {31: {'Insulin': {53: {'BMI': {45.2: {'Age': {24: 0}}}}}}}}}}}}}}, 0.645: {'Pregnancies': {4: {'Glucose': {142: {'BloodPressure': {86: {'SkinThickness': {0: {'Insulin': {0: {'BMI': {44.0: {'Age': {22: 1}}}}}}}}}}}}}}, 0.238: {'Pregnancies': {6: {'Glucose': {134: {'BloodPressure': {80: {'SkinThickness': {37: {'Insulin': {370: {'BMI': {46.2: {'Age': {46: 1}}}}}}}}}}}}, 0: {'Glucose': {86: {'BloodPressure': {68: {'SkinThickness': {32: {'Insulin': {0: {'BMI': {35.8: {'Age': {25: 0}}}}}}}}}}, 102: {'BloodPressure': {78: {'SkinThickness': {40: {'Insulin': {90: {'BMI': {34.5: {'Age': {24: 0}}}}}}}}}}}}, 4: {'Glucose': {156: {'BloodPressure': {75: {'SkinThickness': {0: {'Insulin': {0: {'BMI': {48.3: {'Age': {32: 1}}}}}}}}}}}}, 3: {'Glucose': {96: {'BloodPressure': {78: {'SkinThickness': {39: {'Insulin': {0: {'BMI': {37.3: {'Age': {40: 0}}}}}}}}}}}}}}, 0.394: {'Pregnancies': {4: {'Glucose': {122: {'BloodPressure': {68: {'SkinThickness': {0: {'Insulin': {0: {'BMI': {35.0: {'Age': {29: 0}}}}}}}}}}}}}}, 0.293: {'Pregnancies': {3: {'Glucose': {74: {'BloodPressure': {68: {'SkinThickness': {28: {'Insulin': {45: {'BMI': {29.7: {'Age': {23: 0}}}}}}}}}}}}, 1: {'Glucose': {102: {'BloodPressure': {74: {'SkinThickness': {0: {'Insulin': {0: {'BMI': {39.5: {'Age': {42: 1}}}}}}}}}}}}}}, 0.479: {'Pregnancies': {4: {'Glucose': {171: {'BloodPressure': {72: {'SkinThickness': {0: {'Insulin': {0: {'BMI': {43.6: {'Age': {26: 1}}}}}}}}}}}}}}, 0.686: {'Glucose': {179: {'Pregnancies': {0: {'BloodPressure': {90: {'SkinThickness': {27: {'Insulin': {0: {'BMI': {44.1: {'Age': {23: 1}}}}}}}}}}}}, 107: {'Pregnancies': {0: {'BloodPressure': {76: {'SkinThickness': {0: {'Insulin': {0: {'BMI': {45.3: {'Age': {24: 0}}}}}}}}}}}}}}, 0.831: {'Pregnancies': {9: {'Glucose': {164: {'BloodPressure': {84: {'SkinThickness': {21: {'Insulin': {0: {'BMI': {30.8: {'Age': {32: 1}}}}}}}}}}}}}}, 0.582: {'Pregnancies': {0: {'Glucose': {104: {'BloodPressure': {76: {'SkinThickness': {0: {'Insulin': {0: {'BMI': {18.4: {'Age': {27: 0}}}}}}}}}}}}, 6: {'Glucose': {129: {'BloodPressure': {90: {'SkinThickness': {7: {'Insulin': {326: {'BMI': {19.6: {'Age': {60: 0}}}}}}}}}}}}}}, 0.446: {'Pregnancies': {4: {'Glucose': {91: {'BloodPressure': {70: {'SkinThickness': {32: {'Insulin': {88: {'BMI': {33.1: {'Age': {22: 0}}}}}}}}}}}}}}, 0.402: {'Pregnancies': {3: {'Glucose': {139: {'BloodPressure': {54: {'SkinThickness': {0: {'Insulin': {0: {'BMI': {25.6: {'Age': {22: 1}}}}}}}}}}, 132: {'BloodPressure': {80: {'SkinThickness': {0: {'Insulin': {0: {'BMI': {34.4: {'Age': {44: 1}}}}}}}}}}}}}}, 1.318: {'Pregnancies': {6: {'Glucose': {119: {'BloodPressure': {50: {'SkinThickness': {22: {'Insulin': {176: {'BMI': {27.1: {'Age': {33: 1}}}}}}}}}}}}}}, 0.329: {'Pregnancies': {2: {'Glucose': {146: {'BloodPressure': {76: {'SkinThickness': {35: {'Insulin': {194: {'BMI': {38.2: {'Age': {29: 0}}}}}}}}}}}}}}, 1.213: {'Pregnancies': {9: {'Glucose': {184: {'BloodPressure': {85: {'SkinThickness': {15: {'Insulin': {0: {'BMI': {30.0: {'Age': {49: 1}}}}}}}}}}}}}}, 0.427: {'Pregnancies': {0: {'Glucose': {165: {'BloodPressure': {90: {'SkinThickness': {33: {'Insulin': {680: {'BMI': {52.3: {'Age': {23: 0}}}}}}}}}}}}}}, 0.282: {'Pregnancies': {9: {'Glucose': {124: {'BloodPressure': {70: {'SkinThickness': {33: {'Insulin': {402: {'BMI': {35.4: {'Age': {34: 0}}}}}}}}}}}}, 1: {'Glucose': {180: {'BloodPressure': {0: {'SkinThickness': {0: {'Insulin': {0: {'BMI': {43.3: {'Age': {41: 1}}}}}}}}}}}}}}, 0.143: {'Pregnancies': {1: {'Glucose': {111: {'BloodPressure': {86: {'SkinThickness': {19: {'Insulin': {0: {'BMI': {30.1: {'Age': {23: 0}}}}}}}}}}}}, 0: {'Glucose': {137: {'BloodPressure': {68: {'SkinThickness': {14: {'Insulin': {148: {'BMI': {24.8: {'Age': {21: 0}}}}}}}}}}}}}}, 0.38: {'Pregnancies': {9: {'Glucose': {106: {'BloodPressure': {52: {'SkinThickness': {0: {'Insulin': {0: {'BMI': {31.2: {'Age': {42: 0}}}}}}}}}}}}, 4: {'Glucose': {117: {'BloodPressure': {62: {'SkinThickness': {12: {'Insulin': {0: {'BMI': {29.7: {'Age': {30: 1}}}}}}}}}}}}}}, 0.284: {'Pregnancies': {2: {'Glucose': {129: {'BloodPressure': {84: {'SkinThickness': {0: {'Insulin': {0: {'BMI': {28.0: {'Age': {27: 0}}}}}}}}}}}}, 3: {'Glucose': {99: {'BloodPressure': {80: {'SkinThickness': {11: {'Insulin': {64: {'BMI': {19.3: {'Age': {30: 0}}}}}}}}}}}}, 0: {'Glucose': {135: {'BloodPressure': {94: {'SkinThickness': {46: {'Insulin': {145: {'BMI': {40.6: {'Age': {26: 0}}}}}}}}}}}}, 4: {'Glucose': {95: {'BloodPressure': {60: {'SkinThickness': {32: {'Insulin': {0: {'BMI': {35.4: {'Age': {28: 0}}}}}}}}}}}}}}, 0.249: {'Pregnancies': {2: {'Glucose': {90: {'BloodPressure': {80: {'SkinThickness': {14: {'Insulin': {55: {'BMI': {24.4: {'Age': {24: 0}}}}}}}}}}}}, 6: {'Glucose': {103: {'BloodPressure': {66: {'SkinThickness': {0: {'Insulin': {0: {'BMI': {24.3: {'Age': {29: 0}}}}}}}}}}}}}}, 0.926: {'Pregnancies': {12: {'Glucose': {92: {'BloodPressure': {62: {'SkinThickness': {7: {'Insulin': {258: {'BMI': {27.6: {'Age': {44: 1}}}}}}}}}}}}}}, 0.557: {'Pregnancies': {3: {'Glucose': {111: {'BloodPressure': {56: {'SkinThickness': {39: {'Insulin': {0: {'BMI': {30.1: {'Age': {30: 0}}}}}}}}}}}}, 11: {'Glucose': {138: {'BloodPressure': {74: {'SkinThickness': {26: {'Insulin': {144: {'BMI': {36.1: {'Age': {50: 1}}}}}}}}}}}}}}, 0.092: {'Pregnancies': {2: {'Glucose': {114: {'BloodPressure': {68: {'SkinThickness': {22: {'Insulin': {0: {'BMI': {28.7: {'Age': {25: 0}}}}}}}}}}}}}}, 0.655: {'Pregnancies': {1: {'Glucose': {193: {'BloodPressure': {50: {'SkinThickness': {16: {'Insulin': {375: {'BMI': {25.9: {'Age': {24: 0}}}}}}}}}}}}}}, 1.353: {'Pregnancies': {11: {'Glucose': {155: {'BloodPressure': {76: {'SkinThickness': {28: {'Insulin': {150: {'BMI': {33.3: {'Age': {51: 1}}}}}}}}}}}}}}, 0.612: {'Pregnancies': {4: {'Glucose': {95: {'BloodPressure': {70: {'SkinThickness': {32: {'Insulin': {0: {'BMI': {32.1: {'Age': {24: 0}}}}}}}}}}}}}}, 0.2: {'Pregnancies': {3: {'Glucose': {142: {'BloodPressure': {80: {'SkinThickness': {15: {'Insulin': {0: {'BMI': {32.4: {'Age': {63: 0}}}}}}}}}}}}, 10: {'Glucose': {179: {'BloodPressure': {70: {'SkinThickness': {0: {'Insulin': {0: {'BMI': {35.1: {'Age': {37: 0}}}}}}}}}}}}, 9: {'Glucose': {91: {'BloodPressure': {68: {'SkinThickness': {0: {'Insulin': {0: {'BMI': {24.2: {'Age': {58: 0}}}}}}}}}}}}}}, 0.226: {'Pregnancies': {4: {'Glucose': {123: {'BloodPressure': {62: {'SkinThickness': {0: {'Insulin': {0: {'BMI': {32.0: {'Age': {35: 1}}}}}}}}}}}}}}, 0.997: {'Pregnancies': {5: {'Glucose': {96: {'BloodPressure': {74: {'SkinThickness': {18: {'Insulin': {67: {'BMI': {33.6: {'Age': {43: 0}}}}}}}}}}}}}}, 0.933: {'Pregnancies': {0: {'Glucose': {138: {'BloodPressure': {0: {'SkinThickness': {0: {'Insulin': {0: {'BMI': {36.3: {'Age': {25: 1}}}}}}}}}}}}}}, 1.101: {'Pregnancies': {2: {'Glucose': {128: {'BloodPressure': {64: {'SkinThickness': {42: {'Insulin': {0: {'BMI': {40.0: {'Age': {24: 0}}}}}}}}}}}}}}, 0.078: {'Pregnancies': {0: {'Glucose': {102: {'BloodPressure': {52: {'SkinThickness': {0: {'Insulin': {0: {'BMI': {25.1: {'Age': {21: 0}}}}}}}}}}}}}}, 0.24: {'Pregnancies': {2: {'Glucose': {146: {'BloodPressure': {0: {'SkinThickness': {0: {'Insulin': {0: {'BMI': {27.5: {'Age': {28: 1}}}}}}}}}}, 155: {'BloodPressure': {52: {'SkinThickness': {27: {'Insulin': {540: {'BMI': {38.7: {'Age': {25: 1}}}}}}}}}}}}}}, 1.136: {'Pregnancies': {10: {'Glucose': {101: {'BloodPressure': {86: {'SkinThickness': {37: {'Insulin': {0: {'BMI': {45.6: {'Age': {38: 1}}}}}}}}}}}}}}, 0.128: {'Pregnancies': {2: {'Glucose': {108: {'BloodPressure': {62: {'SkinThickness': {32: {'Insulin': {56: {'BMI': {25.2: {'Age': {21: 0}}}}}}}}}}}}, 7: {'Glucose': {142: {'BloodPressure': {90: {'SkinThickness': {24: {'Insulin': {480: {'BMI': {30.4: {'Age': {43: 1}}}}}}}}}}}}}}, 0.422: {'Pregnancies': {1: {'Glucose': {71: {'BloodPressure': {78: {'SkinThickness': {50: {'Insulin': {45: {'BMI': {33.2: {'Age': {21: 0}}}}}}}}}}, 88: {'BloodPressure': {62: {'SkinThickness': {24: {'Insulin': {44: {'BMI': {29.9: {'Age': {23: 0}}}}}}}}}}}}, 2: {'Glucose': {144: {'BloodPressure': {58: {'SkinThickness': {33: {'Insulin': {135: {'BMI': {31.6: {'Age': {25: 1}}}}}}}}}}}}}}, 0.251: {'Pregnancies': {13: {'Glucose': {106: {'BloodPressure': {70: {'SkinThickness': {0: {'Insulin': {0: {'BMI': {34.2: {'Age': {52: 0}}}}}}}}}}}}, 5: {'Glucose': {117: {'BloodPressure': {86: {'SkinThickness': {30: {'Insulin': {105: {'BMI': {39.1: {'Age': {42: 0}}}}}}}}}}}}}}, 0.677: {'Pregnancies': {2: {'Glucose': {100: {'BloodPressure': {70: {'SkinThickness': {52: {'Insulin': {57: {'BMI': {40.5: {'Age': {25: 0}}}}}}}}}}}}}}, 0.296: {'Pregnancies': {7: {'Glucose': {106: {'BloodPressure': {60: {'SkinThickness': {24: {'Insulin': {0: {'BMI': {26.5: {'Age': {29: 1}}}}}}}}}}}}}}, 0.454: {'Pregnancies': {0: {'Glucose': {104: {'BloodPressure': {64: {'SkinThickness': {23: {'Insulin': {116: {'BMI': {27.8: {'Age': {23: 0}}}}}}}}}}}}}}, 0.744: {'Pregnancies': {5: {'Glucose': {114: {'BloodPressure': {74: {'SkinThickness': {0: {'Insulin': {0: {'BMI': {24.9: {'Age': {57: 0}}}}}}}}}}}}}}, 0.881: {'Pregnancies': {2: {'Glucose': {108: {'BloodPressure': {62: {'SkinThickness': {10: {'Insulin': {278: {'BMI': {25.3: {'Age': {22: 0}}}}}}}}}}}}}}, 0.28: {'Pregnancies': {10: {'Glucose': {129: {'BloodPressure': {76: {'SkinThickness': {28: {'Insulin': {122: {'BMI': {35.9: {'Age': {39: 0}}}}}}}}}}}}, 9: {'Glucose': {72: {'BloodPressure': {78: {'SkinThickness': {25: {'Insulin': {0: {'BMI': {31.6: {'Age': {38: 0}}}}}}}}}}}}, 1: {'Glucose': {119: {'BloodPressure': {44: {'SkinThickness': {47: {'Insulin': {63: {'BMI': {35.5: {'Age': {25: 0}}}}}}}}}}}}}}, 0.259: {'Pregnancies': {2: {'Glucose': {108: {'BloodPressure': {80: {'SkinThickness': {0: {'Insulin': {0: {'BMI': {27.0: {'Age': {52: 1}}}}}}}}}}}}, 0: {'Glucose': {165: {'BloodPressure': {76: {'SkinThickness': {43: {'Insulin': {255: {'BMI': {47.9: {'Age': {26: 0}}}}}}}}}}, 119: {'BloodPressure': {66: {'SkinThickness': {27: {'Insulin': {0: {'BMI': {38.8: {'Age': {22: 0}}}}}}}}}}}}, 12: {'Glucose': {121: {'BloodPressure': {78: {'SkinThickness': {17: {'Insulin': {0: {'BMI': {26.5: {'Age': {62: 0}}}}}}}}}}}}, 8: {'Glucose': {120: {'BloodPressure': {86: {'SkinThickness': {0: {'Insulin': {0: {'BMI': {28.4: {'Age': {22: 1}}}}}}}}}}}}}}, 0.619: {'Pregnancies': {5: {'Glucose': {155: {'BloodPressure': {84: {'SkinThickness': {44: {'Insulin': {545: {'BMI': {38.7: {'Age': {34: 0}}}}}}}}}}}}}}, 0.808: {'Pregnancies': {1: {'Glucose': {119: {'BloodPressure': {86: {'SkinThickness': {39: {'Insulin': {220: {'BMI': {45.6: {'Age': {29: 1}}}}}}}}}}}}}}, 0.34: {'Pregnancies': {4: {'Glucose': {96: {'BloodPressure': {56: {'SkinThickness': {17: {'Insulin': {49: {'BMI': {20.8: {'Age': {26: 0}}}}}}}}}}}}, 5: {'Glucose': {166: {'BloodPressure': {76: {'SkinThickness': {0: {'Insulin': {0: {'BMI': {45.7: {'Age': {27: 1}}}}}}}}}}}}, 2: {'Glucose': {122: {'BloodPressure': {70: {'SkinThickness': {27: {'Insulin': {0: {'BMI': {36.8: {'Age': {27: 0}}}}}}}}}}}}}}, 0.434: {'Pregnancies': {0: {'Glucose': {78: {'BloodPressure': {88: {'SkinThickness': {29: {'Insulin': {40: {'BMI': {36.9: {'Age': {21: 0}}}}}}}}}}}}, 5: {'Glucose': {147: {'BloodPressure': {75: {'SkinThickness': {0: {'Insulin': {0: {'BMI': {29.9: {'Age': {28: 0}}}}}}}}}}}}}}, 0.757: {'Pregnancies': {0: {'Glucose': {107: {'BloodPressure': {62: {'SkinThickness': {30: {'Insulin': {74: {'BMI': {36.6: {'Age': {25: 1}}}}}}}}}}}}}}, 0.613: {'Pregnancies': {1: {'Glucose': {128: {'BloodPressure': {48: {'SkinThickness': {45: {'Insulin': {194: {'BMI': {40.5: {'Age': {24: 1}}}}}}}}}}}}}}, 0.692: {'Glucose': {151: {'Pregnancies': {6: {'BloodPressure': {62: {'SkinThickness': {31: {'Insulin': {120: {'BMI': {35.5: {'Age': {28: 0}}}}}}}}}}}}, 122: {'Pregnancies': {1: {'BloodPressure': {64: {'SkinThickness': {32: {'Insulin': {156: {'BMI': {35.1: {'Age': {30: 1}}}}}}}}}}}}, 130: {'Pregnancies': {1: {'BloodPressure': {60: {'SkinThickness': {23: {'Insulin': {170: {'BMI': {28.6: {'Age': {21: 0}}}}}}}}}}}}, 150: {'Pregnancies': {7: {'BloodPressure': {78: {'SkinThickness': {29: {'Insulin': {126: {'BMI': {35.2: {'Age': {54: 1}}}}}}}}}}}}}}, 0.52: {'Pregnancies': {0: {'Glucose': {126: {'BloodPressure': {84: {'SkinThickness': {29: {'Insulin': {215: {'BMI': {30.7: {'Age': {24: 0}}}}}}}}}}}}, 2: {'Glucose': {123: {'BloodPressure': {48: {'SkinThickness': {32: {'Insulin': {165: {'BMI': {42.1: {'Age': {26: 0}}}}}}}}}}}}}}, 0.412: {'Pregnancies': {14: {'Glucose': {100: {'BloodPressure': {78: {'SkinThickness': {25: {'Insulin': {184: {'BMI': {36.6: {'Age': {46: 1}}}}}}}}}}}}, 1: {'Glucose': {99: {'BloodPressure': {72: {'SkinThickness': {30: {'Insulin': {18: {'BMI': {38.6: {'Age': {21: 0}}}}}}}}}}}}}}, 0.84: {'Pregnancies': {8: {'Glucose': {112: {'BloodPressure': {72: {'SkinThickness': {0: {'Insulin': {0: {'BMI': {23.6: {'Age': {58: 0}}}}}}}}}}}}}}, 0.839: {'Pregnancies': {0: {'Glucose': {167: {'BloodPressure': {0: {'SkinThickness': {0: {'Insulin': {0: {'BMI': {32.3: {'Age': {30: 1}}}}}}}}}}}}, 6: {'Glucose': {154: {'BloodPressure': {74: {'SkinThickness': {32: {'Insulin': {193: {'BMI': {29.3: {'Age': {39: 0}}}}}}}}}}}}}}, 0.156: {'Pregnancies': {5: {'Glucose': {77: {'BloodPressure': {82: {'SkinThickness': {41: {'Insulin': {42: {'BMI': {35.8: {'Age': {35: 0}}}}}}}}}}}}}}, 0.215: {'Pregnancies': {2: {'Glucose': {120: {'BloodPressure': {76: {'SkinThickness': {37: {'Insulin': {105: {'BMI': {39.7: {'Age': {29: 0}}}}}}}}}}}}}}, 0.326: {'Pregnancies': {10: {'Glucose': {161: {'BloodPressure': {68: {'SkinThickness': {23: {'Insulin': {132: {'BMI': {25.5: {'Age': {47: 1}}}}}}}}}}}}, 2: {'Glucose': {175: {'BloodPressure': {88: {'SkinThickness': {0: {'Insulin': {0: {'BMI': {22.9: {'Age': {22: 0}}}}}}}}}}}}}}, 1.391: {'Pregnancies': {0: {'Glucose': {128: {'BloodPressure': {68: {'SkinThickness': {19: {'Insulin': {180: {'BMI': {30.5: {'Age': {25: 1}}}}}}}}}}}}}}, 0.875: {'Pregnancies': {2: {'Glucose': {124: {'BloodPressure': {68: {'SkinThickness': {28: {'Insulin': {205: {'BMI': {32.9: {'Age': {30: 1}}}}}}}}}}}}, 1: {'Glucose': {196: {'BloodPressure': {76: {'SkinThickness': {36: {'Insulin': {249: {'BMI': {36.5: {'Age': {29: 1}}}}}}}}}}}}}}, 0.313: {'Pregnancies': {6: {'Glucose': {80: {'BloodPressure': {66: {'SkinThickness': {30: {'Insulin': {0: {'BMI': {26.2: {'Age': {41: 0}}}}}}}}}}}}, 2: {'Glucose': {117: {'BloodPressure': {90: {'SkinThickness': {19: {'Insulin': {71: {'BMI': {25.2: {'Age': {21: 0}}}}}}}}}}}}}}, 0.433: {'Pregnancies': {2: {'Glucose': {155: {'BloodPressure': {74: {'SkinThickness': {17: {'Insulin': {96: {'BMI': {26.6: {'Age': {27: 1}}}}}}}}}}}}, 0: {'Glucose': {141: {'BloodPressure': {84: {'SkinThickness': {26: {'Insulin': {0: {'BMI': {32.4: {'Age': {22: 0}}}}}}}}}}}}}}, 0.626: {'Pregnancies': {3: {'Glucose': {113: {'BloodPressure': {50: {'SkinThickness': {10: {'Insulin': {85: {'BMI': {29.5: {'Age': {25: 0}}}}}}}}}}}}}}, 1.127: {'Pregnancies': {7: {'Glucose': {109: {'BloodPressure': {80: {'SkinThickness': {31: {'Insulin': {0: {'BMI': {35.9: {'Age': {43: 1}}}}}}}}}}}}}}, 0.315: {'Pregnancies': {2: {'Glucose': {112: {'BloodPressure': {68: {'SkinThickness': {22: {'Insulin': {94: {'BMI': {34.1: {'Age': {26: 0}}}}}}}}}}}}, 1: {'Glucose': {93: {'BloodPressure': {70: {'SkinThickness': {31: {'Insulin': {0: {'BMI': {30.4: {'Age': {23: 0}}}}}}}}}}}}}}, 0.345: {'Pregnancies': {3: {'Glucose': {182: {'BloodPressure': {74: {'SkinThickness': {0: {'Insulin': {0: {'BMI': {30.5: {'Age': {29: 1}}}}}}}}}}}}}}, 0.129: {'Pregnancies': {6: {'Glucose': {194: {'BloodPressure': {78: {'SkinThickness': {0: {'Insulin': {0: {'BMI': {23.5: {'Age': {59: 1}}}}}}}}}}}}, 8: {'Glucose': {143: {'BloodPressure': {66: {'SkinThickness': {0: {'Insulin': {0: {'BMI': {34.9: {'Age': {41: 1}}}}}}}}}}}}}}, 0.527: {'Pregnancies': {4: {'Glucose': {129: {'BloodPressure': {60: {'SkinThickness': {12: {'Insulin': {231: {'BMI': {27.5: {'Age': {31: 0}}}}}}}}}}}}, 1: {'Glucose': {80: {'BloodPressure': {74: {'SkinThickness': {11: {'Insulin': {60: {'BMI': {30.0: {'Age': {22: 0}}}}}}}}}}}}}}, 0.197: {'Pregnancies': {3: {'Glucose': {112: {'BloodPressure': {74: {'SkinThickness': {30: {'Insulin': {0: {'BMI': {31.6: {'Age': {25: 1}}}}}}}}}}}}, 0: {'Glucose': {123: {'BloodPressure': {88: {'SkinThickness': {37: {'Insulin': {0: {'BMI': {35.2: {'Age': {29: 0}}}}}}}}}}, 105: {'BloodPressure': {90: {'SkinThickness': {0: {'Insulin': {0: {'BMI': {29.6: {'Age': {46: 0}}}}}}}}}}}}, 1: {'Glucose': {106: {'BloodPressure': {76: {'SkinThickness': {0: {'Insulin': {0: {'BMI': {37.5: {'Age': {26: 0}}}}}}}}}}}}}}, 0.731: {'Pregnancies': {13: {'Glucose': {152: {'BloodPressure': {90: {'SkinThickness': {33: {'Insulin': {29: {'BMI': {26.8: {'Age': {43: 1}}}}}}}}}}}}}}, 0.148: {'Pregnancies': {2: {'Glucose': {112: {'BloodPressure': {75: {'SkinThickness': {32: {'Insulin': {0: {'BMI': {35.7: {'Age': {21: 0}}}}}}}}}}}}, 4: {'Glucose': {94: {'BloodPressure': {65: {'SkinThickness': {22: {'Insulin': {0: {'BMI': {24.7: {'Age': {21: 0}}}}}}}}}}}}, 9: {'Glucose': {164: {'BloodPressure': {78: {'SkinThickness': {0: {'Insulin': {0: {'BMI': {32.8: {'Age': {45: 1}}}}}}}}}}}}}}, 0.123: {'Pregnancies': {1: {'Glucose': {157: {'BloodPressure': {72: {'SkinThickness': {21: {'Insulin': {168: {'BMI': {25.6: {'Age': {24: 0}}}}}}}}}}}}}}, 0.127: {'Pregnancies': {2: {'Glucose': {102: {'BloodPressure': {86: {'SkinThickness': {36: {'Insulin': {120: {'BMI': {45.5: {'Age': {23: 1}}}}}}}}}}}}, 3: {'Glucose': {121: {'BloodPressure': {52: {'SkinThickness': {0: {'Insulin': {0: {'BMI': {36.0: {'Age': {25: 1}}}}}}}}}}}}}}, 0.122: {'Pregnancies': {6: {'Glucose': {105: {'BloodPressure': {70: {'SkinThickness': {32: {'Insulin': {68: {'BMI': {30.8: {'Age': {37: 0}}}}}}}}}}}}}}, 1.476: {'Pregnancies': {8: {'Glucose': {118: {'BloodPressure': {72: {'SkinThickness': {19: {'Insulin': {0: {'BMI': {23.1: {'Age': {46: 0}}}}}}}}}}}}}}, 0.166: {'Pregnancies': {2: {'Glucose': {87: {'BloodPressure': {58: {'SkinThickness': {16: {'Insulin': {52: {'BMI': {32.7: {'Age': {25: 0}}}}}}}}}}}}}}, 0.932: {'Pregnancies': {0: {'Glucose': {117: {'BloodPressure': {0: {'SkinThickness': {0: {'Insulin': {0: {'BMI': {33.8: {'Age': {44: 0}}}}}}}}}}}}}}, 0.343: {'Pregnancies': {5: {'Glucose': {115: {'BloodPressure': {76: {'SkinThickness': {0: {'Insulin': {0: {'BMI': {31.2: {'Age': {44: 1}}}}}}}}}}}}, 2: {'Glucose': {111: {'BloodPressure': {60: {'SkinThickness': {0: {'Insulin': {0: {'BMI': {26.2: {'Age': {23: 0}}}}}}}}}}}}}}, 0.893: {'Pregnancies': {9: {'Glucose': {152: {'BloodPressure': {78: {'SkinThickness': {34: {'Insulin': {171: {'BMI': {34.2: {'Age': {33: 1}}}}}}}}}}}}}}, 0.331: {'Pregnancies': {7: {'Glucose': {178: {'BloodPressure': {84: {'SkinThickness': {0: {'Insulin': {0: {'BMI': {39.9: {'Age': {41: 1}}}}}}}}}}}}}}, 0.472: {'Pregnancies': {1: {'Glucose': {130: {'BloodPressure': {70: {'SkinThickness': {13: {'Insulin': {105: {'BMI': {25.9: {'Age': {22: 0}}}}}}}}}}}}}}, 0.673: {'Pregnancies': {1: {'Glucose': {95: {'BloodPressure': {74: {'SkinThickness': {21: {'Insulin': {73: {'BMI': {25.9: {'Age': {36: 0}}}}}}}}}}}}}}, 0.389: {'Pregnancies': {1: {'Glucose': {0: {'BloodPressure': {68: {'SkinThickness': {35: {'Insulin': {0: {'BMI': {32.0: {'Age': {22: 0}}}}}}}}}}, 131: {'BloodPressure': {64: {'SkinThickness': {14: {'Insulin': {415: {'BMI': {23.7: {'Age': {21: 0}}}}}}}}}}}}, 3: {'Glucose': {82: {'BloodPressure': {70: {'SkinThickness': {0: {'Insulin': {0: {'BMI': {21.1: {'Age': {25: 0}}}}}}}}}}}}}}, 0.485: {'Pregnancies': {8: {'Glucose': {95: {'BloodPressure': {72: {'SkinThickness': {0: {'Insulin': {0: {'BMI': {36.8: {'Age': {57: 0}}}}}}}}}}}}}}, 0.349: {'Pregnancies': {8: {'Glucose': {126: {'BloodPressure': {88: {'SkinThickness': {36: {'Insulin': {108: {'BMI': {38.5: {'Age': {49: 0}}}}}}}}}}}}, 1: {'Glucose': {149: {'BloodPressure': {68: {'SkinThickness': {29: {'Insulin': {127: {'BMI': {29.3: {'Age': {42: 1}}}}}}}}}}, 126: {'BloodPressure': {60: {'SkinThickness': {0: {'Insulin': {0: {'BMI': {30.1: {'Age': {47: 1}}}}}}}}}}}}}}, 0.279: {'Pregnancies': {3: {'Glucose': {99: {'BloodPressure': {62: {'SkinThickness': {19: {'Insulin': {74: {'BMI': {21.8: {'Age': {26: 0}}}}}}}}}}}}}}, 0.346: {'Pregnancies': {5: {'Glucose': {0: {'BloodPressure': {80: {'SkinThickness': {32: {'Insulin': {0: {'BMI': {41.0: {'Age': {37: 1}}}}}}}}}}}}}}, 0.252: {'Pregnancies': {4: {'Glucose': {137: {'BloodPressure': {84: {'SkinThickness': {0: {'Insulin': {0: {'BMI': {31.2: {'Age': {30: 0}}}}}}}}}}}}, 0: {'Glucose': {101: {'BloodPressure': {64: {'SkinThickness': {17: {'Insulin': {0: {'BMI': {21.0: {'Age': {21: 0}}}}}}}}}}}}}}, 0.243: {'Pregnancies': {3: {'Glucose': {61: {'BloodPressure': {82: {'SkinThickness': {28: {'Insulin': {0: {'BMI': {34.4: {'Age': {46: 0}}}}}}}}}}}}}}, 0.58: {'Pregnancies': {1: {'Glucose': {90: {'BloodPressure': {62: {'SkinThickness': {12: {'Insulin': {43: {'BMI': {27.2: {'Age': {24: 0}}}}}}}}}}}}}}, 0.559: {'Pregnancies': {3: {'Glucose': {90: {'BloodPressure': {78: {'SkinThickness': {0: {'Insulin': {0: {'BMI': {42.7: {'Age': {21: 0}}}}}}}}}}}}, 1: {'Glucose': {89: {'BloodPressure': {24: {'SkinThickness': {19: {'Insulin': {25: {'BMI': {27.8: {'Age': {21: 0}}}}}}}}}}}}}}, 0.302: {'Pregnancies': {9: {'Glucose': {165: {'BloodPressure': {88: {'SkinThickness': {0: {'Insulin': {0: {'BMI': {30.4: {'Age': {49: 1}}}}}}}}}}}}, 4: {'Glucose': {132: {'BloodPressure': {0: {'SkinThickness': {0: {'Insulin': {0: {'BMI': {32.9: {'Age': {23: 1}}}}}}}}}}}}}}, 0.569: {'Pregnancies': {13: {'Glucose': {129: {'BloodPressure': {0: {'SkinThickness': {30: {'Insulin': {0: {'BMI': {39.9: {'Age': {44: 1}}}}}}}}}}}}}}, 0.378: {'Pregnancies': {12: {'Glucose': {88: {'BloodPressure': {74: {'SkinThickness': {40: {'Insulin': {54: {'BMI': {35.3: {'Age': {48: 0}}}}}}}}}}}}, 5: {'Glucose': {97: {'BloodPressure': {76: {'SkinThickness': {27: {'Insulin': {0: {'BMI': {35.6: {'Age': {52: 1}}}}}}}}}}}}}}, 0.385: {'Pregnancies': {4: {'Glucose': {147: {'BloodPressure': {74: {'SkinThickness': {25: {'Insulin': {293: {'BMI': {34.9: {'Age': {30: 0}}}}}}}}}}}}}}, 0.499: {'Pregnancies': {5: {'Glucose': {99: {'BloodPressure': {54: {'SkinThickness': {28: {'Insulin': {83: {'BMI': {34.0: {'Age': {30: 0}}}}}}}}}}}}}}, 0.306: {'Pregnancies': {3: {'Glucose': {81: {'BloodPressure': {86: {'SkinThickness': {16: {'Insulin': {66: {'BMI': {27.5: {'Age': {22: 0}}}}}}}}}}}}, 4: {'Glucose': {85: {'BloodPressure': {58: {'SkinThickness': {22: {'Insulin': {49: {'BMI': {27.8: {'Age': {28: 0}}}}}}}}}}}}}}, 0.234: {'Glucose': {133: {'Pregnancies': {1: {'BloodPressure': {102: {'SkinThickness': {28: {'Insulin': {140: {'BMI': {32.8: {'Age': {45: 1}}}}}}}}}}}}, 91: {'Pregnancies': {1: {'BloodPressure': {54: {'SkinThickness': {25: {'Insulin': {100: {'BMI': {25.2: {'Age': {23: 0}}}}}}}}}}}}}}, 2.137: {'Pregnancies': {3: {'Glucose': {173: {'BloodPressure': {82: {'SkinThickness': {48: {'Insulin': {465: {'BMI': {38.4: {'Age': {25: 1}}}}}}}}}}}}}}, 1.731: {'Pregnancies': {0: {'Glucose': {118: {'BloodPressure': {64: {'SkinThickness': {23: {'Insulin': {89: {'BMI': {0.0: {'Age': {21: 0}}}}}}}}}}}}}}, 0.545: {'Pregnancies': {0: {'Glucose': {84: {'BloodPressure': {64: {'SkinThickness': {22: {'Insulin': {66: {'BMI': {35.8: {'Age': {21: 0}}}}}}}}}}}}}}, 0.225: {'Pregnancies': {2: {'Glucose': {105: {'BloodPressure': {58: {'SkinThickness': {40: {'Insulin': {94: {'BMI': {34.9: {'Age': {25: 0}}}}}}}}}}}}}}, 0.816: {'Pregnancies': {2: {'Glucose': {122: {'BloodPressure': {52: {'SkinThickness': {43: {'Insulin': {158: {'BMI': {36.2: {'Age': {28: 0}}}}}}}}}}}}}}, 0.528: {'Pregnancies': {12: {'Glucose': {140: {'BloodPressure': {82: {'SkinThickness': {43: {'Insulin': {325: {'BMI': {39.2: {'Age': {58: 1}}}}}}}}}}}}, 1: {'Glucose': {112: {'BloodPressure': {72: {'SkinThickness': {30: {'Insulin': {176: {'BMI': {34.4: {'Age': {25: 0}}}}}}}}}}}}}}, 0.509: {'Pregnancies': {1: {'Glucose': {87: {'BloodPressure': {60: {'SkinThickness': {37: {'Insulin': {75: {'BMI': {37.2: {'Age': {22: 0}}}}}}}}}}}}}}, 1.021: {'Pregnancies': {0: {'Glucose': {93: {'BloodPressure': {100: {'SkinThickness': {39: {'Insulin': {72: {'BMI': {43.4: {'Age': {35: 0}}}}}}}}}}}}}}, 0.821: {'Pregnancies': {1: {'Glucose': {107: {'BloodPressure': {72: {'SkinThickness': {30: {'Insulin': {82: {'BMI': {30.8: {'Age': {24: 0}}}}}}}}}}}}}}, 0.947: {'Pregnancies': {1: {'Glucose': {109: {'BloodPressure': {60: {'SkinThickness': {8: {'Insulin': {182: {'BMI': {25.4: {'Age': {21: 0}}}}}}}}}}}}}}, 1.268: {'Pregnancies': {1: {'Glucose': {90: {'BloodPressure': {62: {'SkinThickness': {18: {'Insulin': {59: {'BMI': {25.1: {'Age': {25: 0}}}}}}}}}}}}}}, 0.221: {'Pregnancies': {1: {'Glucose': {125: {'BloodPressure': {70: {'SkinThickness': {24: {'Insulin': {110: {'BMI': {24.3: {'Age': {25: 0}}}}}}}}}}}}}}, 0.66: {'Pregnancies': {5: {'Glucose': {116: {'BloodPressure': {74: {'SkinThickness': {29: {'Insulin': {0: {'BMI': {32.3: {'Age': {35: 1}}}}}}}}}}}}, 0: {'Glucose': {111: {'BloodPressure': {65: {'SkinThickness': {0: {'Insulin': {0: {'BMI': {24.6: {'Age': {31: 0}}}}}}}}}}}}}}, 0.239: {'Pregnancies': {8: {'Glucose': {105: {'BloodPressure': {100: {'SkinThickness': {36: {'Insulin': {0: {'BMI': {43.3: {'Age': {45: 1}}}}}}}}}}}}}}, 0.949: {'Pregnancies': {3: {'Glucose': {100: {'BloodPressure': {68: {'SkinThickness': {23: {'Insulin': {81: {'BMI': {31.6: {'Age': {28: 0}}}}}}}}}}}}}}, 0.444: {'Pregnancies': {1: {'Glucose': {100: {'BloodPressure': {66: {'SkinThickness': {29: {'Insulin': {196: {'BMI': {32.0: {'Age': {42: 0}}}}}}}}}}}}, 3: {'Glucose': {87: {'BloodPressure': {60: {'SkinThickness': {18: {'Insulin': {0: {'BMI': {21.8: {'Age': {21: 0}}}}}}}}}}}}}}, 0.463: {'Pregnancies': {4: {'Glucose': {116: {'BloodPressure': {72: {'SkinThickness': {12: {'Insulin': {87: {'BMI': {22.1: {'Age': {37: 0}}}}}}}}}}}}}}, 0.803: {'Pregnancies': {4: {'Glucose': {158: {'BloodPressure': {78: {'SkinThickness': {0: {'Insulin': {0: {'BMI': {32.9: {'Age': {31: 1}}}}}}}}}}}}}}, 1.6: {'Pregnancies': {2: {'Glucose': {127: {'BloodPressure': {58: {'SkinThickness': {24: {'Insulin': {275: {'BMI': {27.7: {'Age': {25: 0}}}}}}}}}}}}}}, 0.944: {'Pregnancies': {3: {'Glucose': {96: {'BloodPressure': {56: {'SkinThickness': {34: {'Insulin': {115: {'BMI': {24.7: {'Age': {39: 0}}}}}}}}}}}}}}, 0.196: {'Pregnancies': {0: {'Glucose': {131: {'BloodPressure': {66: {'SkinThickness': {40: {'Insulin': {0: {'BMI': {34.3: {'Age': {22: 1}}}}}}}}}}}}}}, 0.241: {'Pregnancies': {3: {'Glucose': {193: {'BloodPressure': {70: {'SkinThickness': {31: {'Insulin': {0: {'BMI': {34.9: {'Age': {25: 1}}}}}}}}}}}}}}, 0.161: {'Pregnancies': {4: {'Glucose': {95: {'BloodPressure': {64: {'SkinThickness': {0: {'Insulin': {0: {'BMI': {32.0: {'Age': {31: 1}}}}}}}}}}}}, 7: {'Glucose': {124: {'BloodPressure': {70: {'SkinThickness': {33: {'Insulin': {215: {'BMI': {25.5: {'Age': {37: 0}}}}}}}}}}}}}}, 0.135: {'Pregnancies': {5: {'Glucose': {168: {'BloodPressure': {64: {'SkinThickness': {0: {'Insulin': {0: {'BMI': {32.9: {'Age': {41: 1}}}}}}}}}}}}}}, 0.376: {'Pregnancies': {4: {'Glucose': {115: {'BloodPressure': {72: {'SkinThickness': {0: {'Insulin': {0: {'BMI': {28.9: {'Age': {46: 1}}}}}}}}}}}}}}, 1.191: {'Pregnancies': {8: {'Glucose': {197: {'BloodPressure': {74: {'SkinThickness': {0: {'Insulin': {0: {'BMI': {25.9: {'Age': {39: 1}}}}}}}}}}}}}}, 0.702: {'Pregnancies': {1: {'Glucose': {172: {'BloodPressure': {68: {'SkinThickness': {49: {'Insulin': {579: {'BMI': {42.4: {'Age': {28: 1}}}}}}}}}}}}}}, 0.674: {'Pregnancies': {6: {'Glucose': {102: {'BloodPressure': {90: {'SkinThickness': {39: {'Insulin': {0: {'BMI': {35.7: {'Age': {28: 0}}}}}}}}}}}}, 2: {'Glucose': {93: {'BloodPressure': {64: {'SkinThickness': {32: {'Insulin': {160: {'BMI': {38.0: {'Age': {23: 1}}}}}}}}}}}}}}, 1.076: {'Pregnancies': {1: {'Glucose': {143: {'BloodPressure': {84: {'SkinThickness': {23: {'Insulin': {310: {'BMI': {42.4: {'Age': {22: 0}}}}}}}}}}}}}}, 0.534: {'Pregnancies': {0: {'Glucose': {138: {'BloodPressure': {60: {'SkinThickness': {35: {'Insulin': {167: {'BMI': {34.6: {'Age': {21: 1}}}}}}}}}}}}}}, 1.095: {'Pregnancies': {1: {'Glucose': {97: {'BloodPressure': {68: {'SkinThickness': {21: {'Insulin': {0: {'BMI': {27.2: {'Age': {22: 0}}}}}}}}}}}}}}, 0.554: {'Pregnancies': {4: {'Glucose': {144: {'BloodPressure': {82: {'SkinThickness': {32: {'Insulin': {0: {'BMI': {38.5: {'Age': {37: 1}}}}}}}}}}}}}}, 0.624: {'Pregnancies': {1: {'Glucose': {83: {'BloodPressure': {68: {'SkinThickness': {0: {'Insulin': {0: {'BMI': {18.2: {'Age': {27: 0}}}}}}}}}}}}}}, 0.219: {'Pregnancies': {3: {'Glucose': {129: {'BloodPressure': {64: {'SkinThickness': {29: {'Insulin': {115: {'BMI': {26.4: {'Age': {28: 1}}}}}}}}}}}}, 1: {'Glucose': {109: {'BloodPressure': {58: {'SkinThickness': {18: {'Insulin': {116: {'BMI': {28.5: {'Age': {22: 0}}}}}}}}}}}}}}, 0.507: {'Pregnancies': {1: {'Glucose': {119: {'BloodPressure': {88: {'SkinThickness': {41: {'Insulin': {170: {'BMI': {45.3: {'Age': {26: 0}}}}}}}}}}}}}}, 0.561: {'Pregnancies': {2: {'Glucose': {94: {'BloodPressure': {68: {'SkinThickness': {18: {'Insulin': {76: {'BMI': {26.0: {'Age': {21: 0}}}}}}}}}}}}}}, 0.421: {'Pregnancies': {2: {'Glucose': {115: {'BloodPressure': {64: {'SkinThickness': {22: {'Insulin': {0: {'BMI': {30.8: {'Age': {21: 0}}}}}}}}}}}}}}, 0.516: {'Pregnancies': {8: {'Glucose': {151: {'BloodPressure': {78: {'SkinThickness': {32: {'Insulin': {210: {'BMI': {42.9: {'Age': {36: 1}}}}}}}}}}}}}}, 0.264: {'Pregnancies': {4: {'Glucose': {184: {'BloodPressure': {78: {'SkinThickness': {39: {'Insulin': {277: {'BMI': {37.0: {'Age': {31: 1}}}}}}}}}}}}}}, 0.328: {'Pregnancies': {1: {'Glucose': {181: {'BloodPressure': {64: {'SkinThickness': {30: {'Insulin': {180: {'BMI': {34.1: {'Age': {38: 1}}}}}}}}}}}}, 6: {'Glucose': {195: {'BloodPressure': {70: {'SkinThickness': {0: {'Insulin': {0: {'BMI': {30.9: {'Age': {31: 1}}}}}}}}}}}}}}, 0.233: {'Pregnancies': {1: {'Glucose': {95: {'BloodPressure': {82: {'SkinThickness': {25: {'Insulin': {180: {'BMI': {35.0: {'Age': {43: 1}}}}}}}}}}}}, 0: {'Glucose': {84: {'BloodPressure': {82: {'SkinThickness': {31: {'Insulin': {125: {'BMI': {38.2: {'Age': {23: 0}}}}}}}}}}}}}}, 0.108: {'Pregnancies': {2: {'Glucose': {99: {'BloodPressure': {0: {'SkinThickness': {0: {'Insulin': {0: {'BMI': {22.2: {'Age': {23: 0}}}}}}}}}}}}}}, 1.138: {'Pregnancies': {1: {'Glucose': {90: {'BloodPressure': {68: {'SkinThickness': {8: {'Insulin': {0: {'BMI': {24.5: {'Age': {36: 0}}}}}}}}}}}}}}, 0.147: {'Pregnancies': {1: {'Glucose': {97: {'BloodPressure': {70: {'SkinThickness': {15: {'Insulin': {0: {'BMI': {18.2: {'Age': {21: 0}}}}}}}}}}}}}}, 0.727: {'Glucose': {107: {'Pregnancies': {6: {'BloodPressure': {88: {'SkinThickness': {0: {'Insulin': {0: {'BMI': {36.8: {'Age': {31: 0}}}}}}}}}}}}, 0: {'Pregnancies': {6: {'BloodPressure': {68: {'SkinThickness': {41: {'Insulin': {0: {'BMI': {39.0: {'Age': {41: 1}}}}}}}}}}}}}}, 0.435: {'Pregnancies': {0: {'Glucose': {189: {'BloodPressure': {104: {'SkinThickness': {25: {'Insulin': {0: {'BMI': {34.3: {'Age': {41: 1}}}}}}}}}}}}}}, 0.497: {'Pregnancies': {2: {'Glucose': {83: {'BloodPressure': {66: {'SkinThickness': {23: {'Insulin': {50: {'BMI': {32.2: {'Age': {22: 0}}}}}}}}}}}}, 6: {'Glucose': {99: {'BloodPressure': {60: {'SkinThickness': {19: {'Insulin': {54: {'BMI': {26.9: {'Age': {32: 0}}}}}}}}}}}}}}, 0.23: {'Pregnancies': {4: {'Glucose': {117: {'BloodPressure': {64: {'SkinThickness': {27: {'Insulin': {120: {'BMI': {33.2: {'Age': {24: 0}}}}}}}}}}}}, 9: {'Glucose': {156: {'BloodPressure': {86: {'SkinThickness': {0: {'Insulin': {0: {'BMI': {24.8: {'Age': {53: 1}}}}}}}}}}}}}}, 0.955: {'Pregnancies': {8: {'Glucose': {108: {'BloodPressure': {70: {'SkinThickness': {0: {'Insulin': {0: {'BMI': {30.5: {'Age': {33: 1}}}}}}}}}}}}}}, 2.42: {'Pregnancies': {0: {'Glucose': {180: {'BloodPressure': {78: {'SkinThickness': {63: {'Insulin': {14: {'BMI': {59.4: {'Age': {25: 1}}}}}}}}}}}}}}, 0.658: {'Pregnancies': {1: {'Glucose': {100: {'BloodPressure': {72: {'SkinThickness': {12: {'Insulin': {70: {'BMI': {25.3: {'Age': {28: 0}}}}}}}}}}}}}}, 0.33: {'Pregnancies': {0: {'Glucose': {95: {'BloodPressure': {80: {'SkinThickness': {45: {'Insulin': {92: {'BMI': {36.5: {'Age': {26: 0}}}}}}}}}}}}}}, 0.51: {'Pregnancies': {0: {'Glucose': {104: {'BloodPressure': {64: {'SkinThickness': {37: {'Insulin': {64: {'BMI': {33.6: {'Age': {22: 1}}}}}}}}}}}}}}, 0.285: {'Pregnancies': {0: {'Glucose': {120: {'BloodPressure': {74: {'SkinThickness': {18: {'Insulin': {63: {'BMI': {30.5: {'Age': {26: 0}}}}}}}}}}}}, 10: {'Glucose': {68: {'BloodPressure': {106: {'SkinThickness': {23: {'Insulin': {49: {'BMI': {35.5: {'Age': {47: 0}}}}}}}}}}}}}}, 0.415: {'Pregnancies': {1: {'Glucose': {82: {'BloodPressure': {64: {'SkinThickness': {13: {'Insulin': {95: {'BMI': {21.2: {'Age': {23: 0}}}}}}}}}}, 108: {'BloodPressure': {60: {'SkinThickness': {46: {'Insulin': {178: {'BMI': {35.5: {'Age': {24: 0}}}}}}}}}}}}}}, 0.381: {'Pregnancies': {0: {'Glucose': {91: {'BloodPressure': {68: {'SkinThickness': {32: {'Insulin': {210: {'BMI': {39.9: {'Age': {25: 0}}}}}}}}}}}}}}, 0.498: {'Pregnancies': {2: {'Glucose': {100: {'BloodPressure': {54: {'SkinThickness': {28: {'Insulin': {105: {'BMI': {37.8: {'Age': {24: 0}}}}}}}}}}}}}}, 0.212: {'Pregnancies': {14: {'Glucose': {175: {'BloodPressure': {62: {'SkinThickness': {30: {'Insulin': {0: {'BMI': {33.6: {'Age': {38: 1}}}}}}}}}}}}, 4: {'Glucose': {183: {'BloodPressure': {0: {'SkinThickness': {0: {'Insulin': {0: {'BMI': {28.4: {'Age': {36: 1}}}}}}}}}}}}}}, 0.364: {'Pregnancies': {5: {'Glucose': {86: {'BloodPressure': {68: {'SkinThickness': {28: {'Insulin': {71: {'BMI': {30.2: {'Age': {24: 0}}}}}}}}}}}}, 0: {'Glucose': {162: {'BloodPressure': {76: {'SkinThickness': {36: {'Insulin': {0: {'BMI': {49.6: {'Age': {26: 1}}}}}}}}}}}}}}, 1.001: {'Pregnancies': {10: {'Glucose': {148: {'BloodPressure': {84: {'SkinThickness': {48: {'Insulin': {237: {'BMI': {37.6: {'Age': {51: 1}}}}}}}}}}}}}}, 0.733: {'Pregnancies': {9: {'Glucose': {120: {'BloodPressure': {72: {'SkinThickness': {22: {'Insulin': {56: {'BMI': {20.8: {'Age': {48: 0}}}}}}}}}}}}, 6: {'Glucose': {123: {'BloodPressure': {72: {'SkinThickness': {45: {'Insulin': {230: {'BMI': {33.6: {'Age': {34: 0}}}}}}}}}}}}}}, 0.416: {'Pregnancies': {1: {'Glucose': {71: {'BloodPressure': {62: {'SkinThickness': {0: {'Insulin': {0: {'BMI': {21.8: {'Age': {26: 0}}}}}}}}}}}}}}, 0.705: {'Pregnancies': {8: {'Glucose': {74: {'BloodPressure': {70: {'SkinThickness': {40: {'Insulin': {49: {'BMI': {35.3: {'Age': {39: 0}}}}}}}}}}}}}}, 1.022: {'Pregnancies': {10: {'Glucose': {115: {'BloodPressure': {98: {'SkinThickness': {0: {'Insulin': {0: {'BMI': {24.0: {'Age': {34: 0}}}}}}}}}}}}}}, 0.269: {'Pregnancies': {0: {'Glucose': {74: {'BloodPressure': {52: {'SkinThickness': {10: {'Insulin': {36: {'BMI': {27.8: {'Age': {22: 0}}}}}}}}}}}}, 5: {'Glucose': {123: {'BloodPressure': {74: {'SkinThickness': {40: {'Insulin': {77: {'BMI': {34.1: {'Age': {28: 0}}}}}}}}}}}}}}, 0.6: {'Pregnancies': {0: {'Glucose': {97: {'BloodPressure': {64: {'SkinThickness': {36: {'Insulin': {100: {'BMI': {36.8: {'Age': {25: 0}}}}}}}}}}}}, 8: {'Glucose': {65: {'BloodPressure': {72: {'SkinThickness': {23: {'Insulin': {0: {'BMI': {32.0: {'Age': {42: 0}}}}}}}}}}}}}}, 0.571: {'Pregnancies': {6: {'Glucose': {154: {'BloodPressure': {78: {'SkinThickness': {41: {'Insulin': {140: {'BMI': {46.1: {'Age': {27: 0}}}}}}}}}}}}}}, 0.607: {'Pregnancies': {1: {'Glucose': {144: {'BloodPressure': {82: {'SkinThickness': {40: {'Insulin': {0: {'BMI': {41.3: {'Age': {28: 0}}}}}}}}}}}}}}, 0.17: {'Pregnancies': {0: {'Glucose': {137: {'BloodPressure': {70: {'SkinThickness': {38: {'Insulin': {0: {'BMI': {33.2: {'Age': {22: 0}}}}}}}}}}}}}}, 0.21: {'Pregnancies': {7: {'Glucose': {136: {'BloodPressure': {90: {'SkinThickness': {0: {'Insulin': {0: {'BMI': {29.9: {'Age': {50: 0}}}}}}}}}}}}}}, 0.126: {'Pregnancies': {4: {'Glucose': {114: {'BloodPressure': {64: {'SkinThickness': {0: {'Insulin': {0: {'BMI': {28.9: {'Age': {24: 0}}}}}}}}}}}}, 11: {'Glucose': {103: {'BloodPressure': {68: {'SkinThickness': {40: {'Insulin': {0: {'BMI': {46.2: {'Age': {42: 0}}}}}}}}}}}}}}, 0.711: {'Pregnancies': {2: {'Glucose': {105: {'BloodPressure': {80: {'SkinThickness': {45: {'Insulin': {191: {'BMI': {33.7: {'Age': {29: 1}}}}}}}}}}}}}}, 0.466: {'Pregnancies': {7: {'Glucose': {114: {'BloodPressure': {76: {'SkinThickness': {17: {'Insulin': {110: {'BMI': {23.8: {'Age': {31: 0}}}}}}}}}}}}, 1: {'Glucose': {117: {'BloodPressure': {60: {'SkinThickness': {23: {'Insulin': {106: {'BMI': {33.8: {'Age': {27: 0}}}}}}}}}}}}}}, 0.162: {'Pregnancies': {8: {'Glucose': {126: {'BloodPressure': {74: {'SkinThickness': {38: {'Insulin': {75: {'BMI': {25.9: {'Age': {39: 0}}}}}}}}}}}}}}, 0.419: {'Pregnancies': {4: {'Glucose': {132: {'BloodPressure': {86: {'SkinThickness': {31: {'Insulin': {0: {'BMI': {28.0: {'Age': {63: 0}}}}}}}}}}}}}}, 0.63: {'Pregnancies': {0: {'Glucose': {145: {'BloodPressure': {0: {'SkinThickness': {0: {'Insulin': {0: {'BMI': {44.2: {'Age': {31: 1}}}}}}}}}}}}}}, 0.365: {'Pregnancies': {0: {'Glucose': {135: {'BloodPressure': {68: {'SkinThickness': {42: {'Insulin': {250: {'BMI': {42.3: {'Age': {24: 1}}}}}}}}}}}}, 1: {'Glucose': {88: {'BloodPressure': {78: {'SkinThickness': {29: {'Insulin': {76: {'BMI': {32.0: {'Age': {29: 0}}}}}}}}}}}}}}, 0.536: {'Pregnancies': {1: {'Glucose': {139: {'BloodPressure': {62: {'SkinThickness': {41: {'Insulin': {480: {'BMI': {40.7: {'Age': {21: 0}}}}}}}}}}}}, 4: {'Glucose': {125: {'BloodPressure': {80: {'SkinThickness': {0: {'Insulin': {0: {'BMI': {32.3: {'Age': {27: 1}}}}}}}}}}}}}}, 1.159: {'Pregnancies': {0: {'Glucose': {173: {'BloodPressure': {78: {'SkinThickness': {32: {'Insulin': {265: {'BMI': {46.5: {'Age': {58: 0}}}}}}}}}}}}}}, 0.629: {'Pregnancies': {2: {'Glucose': {83: {'BloodPressure': {65: {'SkinThickness': {28: {'Insulin': {66: {'BMI': {36.8: {'Age': {24: 0}}}}}}}}}}}}}}, 0.292: {'Pregnancies': {2: {'Glucose': {89: {'BloodPressure': {90: {'SkinThickness': {30: {'Insulin': {0: {'BMI': {33.5: {'Age': {42: 0}}}}}}}}}}}}, 5: {'Glucose': {110: {'BloodPressure': {68: {'SkinThickness': {0: {'Insulin': {0: {'BMI': {26.0: {'Age': {30: 0}}}}}}}}}}}}, 3: {'Glucose': {106: {'BloodPressure': {54: {'SkinThickness': {21: {'Insulin': {158: {'BMI': {30.9: {'Age': {24: 0}}}}}}}}}}}}}}, 0.145: {'Pregnancies': {4: {'Glucose': {99: {'BloodPressure': {68: {'SkinThickness': {38: {'Insulin': {0: {'BMI': {32.8: {'Age': {33: 0}}}}}}}}}}}}}}, 1.144: {'Pregnancies': {4: {'Glucose': {125: {'BloodPressure': {70: {'SkinThickness': {18: {'Insulin': {122: {'BMI': {28.9: {'Age': {45: 1}}}}}}}}}}}}}}, 0.174: {'Pregnancies': {3: {'Glucose': {80: {'BloodPressure': {0: {'SkinThickness': {0: {'Insulin': {0: {'BMI': {0.0: {'Age': {22: 0}}}}}}}}}}}}}}, 0.547: {'Pregnancies': {2: {'Glucose': {81: {'BloodPressure': {72: {'SkinThickness': {15: {'Insulin': {76: {'BMI': {30.1: {'Age': {25: 0}}}}}}}}}}}}}}, 0.163: {'Pregnancies': {7: {'Glucose': {195: {'BloodPressure': {70: {'SkinThickness': {33: {'Insulin': {145: {'BMI': {25.1: {'Age': {55: 1}}}}}}}}}}}}}}, 0.738: {'Pregnancies': {7: {'Glucose': {94: {'BloodPressure': {64: {'SkinThickness': {25: {'Insulin': {79: {'BMI': {33.3: {'Age': {41: 0}}}}}}}}}}}}}}, 0.314: {'Pregnancies': {0: {'Glucose': {180: {'BloodPressure': {90: {'SkinThickness': {26: {'Insulin': {90: {'BMI': {36.5: {'Age': {35: 1}}}}}}}}}}}}, 3: {'Glucose': {130: {'BloodPressure': {64: {'SkinThickness': {0: {'Insulin': {0: {'BMI': {23.1: {'Age': {22: 0}}}}}}}}}}}}}}, 0.968: {'Pregnancies': {2: {'Glucose': {84: {'BloodPressure': {50: {'SkinThickness': {23: {'Insulin': {76: {'BMI': {30.4: {'Age': {21: 0}}}}}}}}}}}}, 3: {'Glucose': {129: {'BloodPressure': {92: {'SkinThickness': {49: {'Insulin': {155: {'BMI': {36.4: {'Age': {32: 1}}}}}}}}}}}}}}, 0.409: {'Pregnancies': {8: {'Glucose': {120: {'BloodPressure': {78: {'SkinThickness': {0: {'Insulin': {0: {'BMI': {25.0: {'Age': {64: 0}}}}}}}}}}}}}}, 0.297: {'Pregnancies': {12: {'Glucose': {84: {'BloodPressure': {72: {'SkinThickness': {31: {'Insulin': {0: {'BMI': {29.7: {'Age': {46: 1}}}}}}}}}}}}}}, 0.525: {'Pregnancies': {2: {'Glucose': {91: {'BloodPressure': {62: {'SkinThickness': {0: {'Insulin': {0: {'BMI': {27.3: {'Age': {22: 0}}}}}}}}}}}}}}, 0.154: {'Pregnancies': {3: {'Glucose': {99: {'BloodPressure': {54: {'SkinThickness': {19: {'Insulin': {86: {'BMI': {25.6: {'Age': {24: 0}}}}}}}}}}}}}}, 0.771: {'Pregnancies': {9: {'Glucose': {145: {'BloodPressure': {88: {'SkinThickness': {34: {'Insulin': {165: {'BMI': {30.3: {'Age': {53: 1}}}}}}}}}}}}}}, 0.107: {'Pregnancies': {3: {'Glucose': {116: {'BloodPressure': {74: {'SkinThickness': {15: {'Insulin': {105: {'BMI': {26.3: {'Age': {24: 0}}}}}}}}}}}}}}, 0.493: {'Pregnancies': {0: {'Glucose': {117: {'BloodPressure': {66: {'SkinThickness': {31: {'Insulin': {188: {'BMI': {30.8: {'Age': {22: 0}}}}}}}}}}}}}}, 0.717: {'Pregnancies': {2: {'Glucose': {122: {'BloodPressure': {60: {'SkinThickness': {18: {'Insulin': {106: {'BMI': {29.8: {'Age': {22: 0}}}}}}}}}}}}}}, 0.917: {'Pregnancies': {1: {'Glucose': {86: {'BloodPressure': {66: {'SkinThickness': {52: {'Insulin': {65: {'BMI': {41.3: {'Age': {29: 0}}}}}}}}}}}}}}, 0.501: {'Pregnancies': {6: {'Glucose': {91: {'BloodPressure': {0: {'SkinThickness': {0: {'Insulin': {0: {'BMI': {29.8: {'Age': {31: 0}}}}}}}}}}}}}}, 1.251: {'Pregnancies': {1: {'Glucose': {77: {'BloodPressure': {56: {'SkinThickness': {30: {'Insulin': {56: {'BMI': {33.3: {'Age': {24: 0}}}}}}}}}}}}}}, 0.804: {'Pregnancies': {0: {'Glucose': {127: {'BloodPressure': {80: {'SkinThickness': {37: {'Insulin': {210: {'BMI': {36.3: {'Age': {23: 0}}}}}}}}}}}}}}, 0.661: {'Pregnancies': {8: {'Glucose': {100: {'BloodPressure': {74: {'SkinThickness': {40: {'Insulin': {215: {'BMI': {39.4: {'Age': {43: 1}}}}}}}}}}}}}}, 0.549: {'Pregnancies': {3: {'Glucose': {128: {'BloodPressure': {72: {'SkinThickness': {25: {'Insulin': {190: {'BMI': {32.4: {'Age': {27: 1}}}}}}}}}}}}}}, 0.825: {'Pregnancies': {10: {'Glucose': {90: {'BloodPressure': {85: {'SkinThickness': {32: {'Insulin': {0: {'BMI': {34.9: {'Age': {56: 1}}}}}}}}}}}}}}, 0.423: {'Pregnancies': {8: {'Glucose': {186: {'BloodPressure': {90: {'SkinThickness': {35: {'Insulin': {225: {'BMI': {34.5: {'Age': {37: 1}}}}}}}}}}}}}}, 1.034: {'Pregnancies': {5: {'Glucose': {187: {'BloodPressure': {76: {'SkinThickness': {27: {'Insulin': {207: {'BMI': {43.6: {'Age': {53: 1}}}}}}}}}}}}}}, 0.16: {'Pregnancies': {4: {'Glucose': {131: {'BloodPressure': {68: {'SkinThickness': {21: {'Insulin': {166: {'BMI': {33.1: {'Age': {28: 0}}}}}}}}}}}}}}, 0.341: {'Pregnancies': {1: {'Glucose': {164: {'BloodPressure': {82: {'SkinThickness': {43: {'Insulin': {67: {'BMI': {32.8: {'Age': {50: 0}}}}}}}}}}}}}}, 0.68: {'Pregnancies': {4: {'Glucose': {189: {'BloodPressure': {110: {'SkinThickness': {31: {'Insulin': {0: {'BMI': {28.5: {'Age': {37: 0}}}}}}}}}}}}}}, 0.591: {'Pregnancies': {3: {'Glucose': {84: {'BloodPressure': {68: {'SkinThickness': {30: {'Insulin': {106: {'BMI': {31.9: {'Age': {25: 0}}}}}}}}}}}}, 2: {'Glucose': {129: {'BloodPressure': {74: {'SkinThickness': {26: {'Insulin': {205: {'BMI': {33.2: {'Age': {25: 0}}}}}}}}}}}}}}, 0.3: {'Pregnancies': {11: {'Glucose': {85: {'BloodPressure': {74: {'SkinThickness': {0: {'Insulin': {0: {'BMI': {30.1: {'Age': {35: 0}}}}}}}}}}}}}}, 0.121: {'Pregnancies': {6: {'Glucose': {125: {'BloodPressure': {76: {'SkinThickness': {0: {'Insulin': {0: {'BMI': {33.8: {'Age': {54: 1}}}}}}}}}}}}, 3: {'Glucose': {102: {'BloodPressure': {74: {'SkinThickness': {0: {'Insulin': {0: {'BMI': {29.5: {'Age': {32: 0}}}}}}}}}}}}}}, 0.502: {'Pregnancies': {0: {'Glucose': {198: {'BloodPressure': {66: {'SkinThickness': {32: {'Insulin': {274: {'BMI': {41.3: {'Age': {28: 1}}}}}}}}}}}}}}, 0.401: {'Pregnancies': {1: {'Glucose': {87: {'BloodPressure': {68: {'SkinThickness': {34: {'Insulin': {77: {'BMI': {37.6: {'Age': {24: 0}}}}}}}}}}}}}}, 0.601: {'Pregnancies': {0: {'Glucose': {91: {'BloodPressure': {80: {'SkinThickness': {0: {'Insulin': {0: {'BMI': {32.4: {'Age': {27: 0}}}}}}}}}}}}}}, 0.748: {'Pregnancies': {2: {'Glucose': {95: {'BloodPressure': {54: {'SkinThickness': {14: {'Insulin': {88: {'BMI': {26.1: {'Age': {22: 0}}}}}}}}}}}}}}, 0.338: {'Pregnancies': {4: {'Glucose': {154: {'BloodPressure': {72: {'SkinThickness': {29: {'Insulin': {126: {'BMI': {31.3: {'Age': {37: 0}}}}}}}}}}}}}}, 0.43: {'Pregnancies': {3: {'Glucose': {111: {'BloodPressure': {58: {'SkinThickness': {31: {'Insulin': {44: {'BMI': {29.5: {'Age': {22: 0}}}}}}}}}}}}, 6: {'Glucose': {98: {'BloodPressure': {58: {'SkinThickness': {33: {'Insulin': {190: {'BMI': {34.0: {'Age': {43: 0}}}}}}}}}}}}}}, 0.892: {'Pregnancies': {1: {'Glucose': {143: {'BloodPressure': {86: {'SkinThickness': {30: {'Insulin': {330: {'BMI': {30.1: {'Age': {23: 0}}}}}}}}}}}}}}, 0.813: {'Pregnancies': {6: {'Glucose': {108: {'BloodPressure': {44: {'SkinThickness': {20: {'Insulin': {130: {'BMI': {24.0: {'Age': {35: 0}}}}}}}}}}}}}}, 0.693: {'Pregnancies': {2: {'Glucose': {118: {'BloodPressure': {80: {'SkinThickness': {0: {'Insulin': {0: {'BMI': {42.9: {'Age': {21: 1}}}}}}}}}}}}}}, 0.575: {'Pregnancies': {2: {'Glucose': {197: {'BloodPressure': {70: {'SkinThickness': {99: {'Insulin': {0: {'BMI': {34.7: {'Age': {62: 1}}}}}}}}}}}}}}, 0.371: {'Pregnancies': {0: {'Glucose': {151: {'BloodPressure': {90: {'SkinThickness': {46: {'Insulin': {0: {'BMI': {42.1: {'Age': {21: 1}}}}}}}}}}}}}}, 0.206: {'Pregnancies': {6: {'Glucose': {109: {'BloodPressure': {60: {'SkinThickness': {27: {'Insulin': {0: {'BMI': {25.0: {'Age': {27: 0}}}}}}}}}}}}, 0: {'Glucose': {125: {'BloodPressure': {68: {'SkinThickness': {0: {'Insulin': {0: {'BMI': {24.7: {'Age': {21: 0}}}}}}}}}}}}}}, 0.417: {'Pregnancies': {1: {'Glucose': {93: {'BloodPressure': {56: {'SkinThickness': {11: {'Insulin': {0: {'BMI': {22.5: {'Age': {22: 0}}}}}}}}}}}}}}, 1.154: {'Pregnancies': {3: {'Glucose': {176: {'BloodPressure': {86: {'SkinThickness': {27: {'Insulin': {156: {'BMI': {33.3: {'Age': {52: 1}}}}}}}}}}}}}}, 0.925: {'Pregnancies': {11: {'Glucose': {111: {'BloodPressure': {84: {'SkinThickness': {40: {'Insulin': {0: {'BMI': {46.8: {'Age': {45: 1}}}}}}}}}}}}}}, 0.175: {'Pregnancies': {2: {'Glucose': {112: {'BloodPressure': {78: {'SkinThickness': {50: {'Insulin': {140: {'BMI': {39.4: {'Age': {24: 0}}}}}}}}}}}}}}, 1.699: {'Pregnancies': {2: {'Glucose': {82: {'BloodPressure': {52: {'SkinThickness': {22: {'Insulin': {115: {'BMI': {28.5: {'Age': {25: 0}}}}}}}}}}}}}}, 0.682: {'Pregnancies': {0: {'Glucose': {188: {'BloodPressure': {82: {'SkinThickness': {14: {'Insulin': {185: {'BMI': {32.0: {'Age': {22: 1}}}}}}}}}}}}}}, 0.194: {'Pregnancies': {0: {'Glucose': {67: {'BloodPressure': {76: {'SkinThickness': {0: {'Insulin': {0: {'BMI': {45.3: {'Age': {46: 0}}}}}}}}}}}}}}, 0.4: {'Pregnancies': {1: {'Glucose': {108: {'BloodPressure': {88: {'SkinThickness': {19: {'Insulin': {0: {'BMI': {27.1: {'Age': {24: 0}}}}}}}}}}}}, 3: {'Glucose': {102: {'BloodPressure': {44: {'SkinThickness': {20: {'Insulin': {94: {'BMI': {30.8: {'Age': {26: 0}}}}}}}}}}}}}}, 0.1: {'Pregnancies': {1: {'Glucose': {124: {'BloodPressure': {74: {'SkinThickness': {36: {'Insulin': {0: {'BMI': {27.8: {'Age': {30: 0}}}}}}}}}}}}}}, 1.258: {'Pregnancies': {1: {'Glucose': {181: {'BloodPressure': {78: {'SkinThickness': {42: {'Insulin': {293: {'BMI': {40.0: {'Age': {22: 1}}}}}}}}}}}}}}, 0.482: {'Pregnancies': {1: {'Glucose': {92: {'BloodPressure': {62: {'SkinThickness': {25: {'Insulin': {41: {'BMI': {19.5: {'Age': {25: 0}}}}}}}}}}}}}}, 0.138: {'Pregnancies': {1: {'Glucose': {111: {'BloodPressure': {62: {'SkinThickness': {13: {'Insulin': {182: {'BMI': {24.0: {'Age': {23: 0}}}}}}}}}}}}}}, 0.593: {'Pregnancies': {3: {'Glucose': {174: {'BloodPressure': {58: {'SkinThickness': {22: {'Insulin': {194: {'BMI': {32.9: {'Age': {36: 1}}}}}}}}}}}}}}, 0.878: {'Pregnancies': {6: {'Glucose': {105: {'BloodPressure': {80: {'SkinThickness': {28: {'Insulin': {0: {'BMI': {32.5: {'Age': {26: 0}}}}}}}}}}}}}}, 0.157: {'Pregnancies': {6: {'Glucose': {117: {'BloodPressure': {96: {'SkinThickness': {0: {'Insulin': {0: {'BMI': {28.7: {'Age': {30: 0}}}}}}}}}}}}}}, 1.282: {'Pregnancies': {9: {'Glucose': {112: {'BloodPressure': {82: {'SkinThickness': {24: {'Insulin': {0: {'BMI': {28.2: {'Age': {50: 1}}}}}}}}}}}}}}, 0.141: {'Pregnancies': {0: {'Glucose': {119: {'BloodPressure': {0: {'SkinThickness': {0: {'Insulin': {0: {'BMI': {32.4: {'Age': {24: 1}}}}}}}}}}}}, 10: {'Glucose': {111: {'BloodPressure': {70: {'SkinThickness': {27: {'Insulin': {0: {'BMI': {27.5: {'Age': {40: 1}}}}}}}}}}}}, 2: {'Glucose': {92: {'BloodPressure': {52: {'SkinThickness': {0: {'Insulin': {0: {'BMI': {30.1: {'Age': {22: 0}}}}}}}}}}}}}}, 0.246: {'Pregnancies': {2: {'Glucose': {112: {'BloodPressure': {86: {'SkinThickness': {42: {'Insulin': {160: {'BMI': {38.4: {'Age': {28: 0}}}}}}}}}}}}}}, 1.698: {'Pregnancies': {2: {'Glucose': {92: {'BloodPressure': {76: {'SkinThickness': {20: {'Insulin': {0: {'BMI': {24.2: {'Age': {28: 0}}}}}}}}}}}}}}, 1.461: {'Pregnancies': {6: {'Glucose': {183: {'BloodPressure': {94: {'SkinThickness': {0: {'Insulin': {0: {'BMI': {40.8: {'Age': {45: 0}}}}}}}}}}}}}}, 0.347: {'Pregnancies': {0: {'Glucose': {94: {'BloodPressure': {70: {'SkinThickness': {27: {'Insulin': {115: {'BMI': {43.5: {'Age': {21: 0}}}}}}}}}}}}}}, 0.362: {'Pregnancies': {4: {'Glucose': {90: {'BloodPressure': {88: {'SkinThickness': {47: {'Insulin': {54: {'BMI': {37.7: {'Age': {29: 0}}}}}}}}}}}}}}, 0.393: {'Pregnancies': {0: {'Glucose': {132: {'BloodPressure': {78: {'SkinThickness': {0: {'Insulin': {0: {'BMI': {32.4: {'Age': {21: 0}}}}}}}}}}}}}}, 0.144: {'Pregnancies': {5: {'Glucose': {128: {'BloodPressure': {80: {'SkinThickness': {0: {'Insulin': {0: {'BMI': {34.6: {'Age': {45: 0}}}}}}}}}}}}}}, 0.732: {'Pregnancies': {7: {'Glucose': {114: {'BloodPressure': {64: {'SkinThickness': {0: {'Insulin': {0: {'BMI': {27.4: {'Age': {34: 1}}}}}}}}}}}}}}, 0.115: {'Pregnancies': {1: {'Glucose': {128: {'BloodPressure': {82: {'SkinThickness': {17: {'Insulin': {183: {'BMI': {27.5: {'Age': {22: 0}}}}}}}}}}}}}}, 0.465: {'Pregnancies': {13: {'Glucose': {104: {'BloodPressure': {72: {'SkinThickness': {0: {'Insulin': {0: {'BMI': {31.2: {'Age': {38: 1}}}}}}}}}}}}}}, 0.649: {'Pregnancies': {2: {'Glucose': {94: {'BloodPressure': {76: {'SkinThickness': {18: {'Insulin': {66: {'BMI': {31.6: {'Age': {23: 0}}}}}}}}}}}}}}, 0.871: {'Pregnancies': {7: {'Glucose': {97: {'BloodPressure': {76: {'SkinThickness': {32: {'Insulin': {91: {'BMI': {40.9: {'Age': {32: 1}}}}}}}}}}}}}}, 0.149: {'Pregnancies': {1: {'Glucose': {100: {'BloodPressure': {74: {'SkinThickness': {12: {'Insulin': {46: {'BMI': {19.5: {'Age': {28: 0}}}}}}}}}}}}}}, 0.695: {'Pregnancies': {0: {'Glucose': {102: {'BloodPressure': {86: {'SkinThickness': {17: {'Insulin': {105: {'BMI': {29.3: {'Age': {27: 0}}}}}}}}}}}}}}, 0.303: {'Pregnancies': {4: {'Glucose': {128: {'BloodPressure': {70: {'SkinThickness': {0: {'Insulin': {0: {'BMI': {34.3: {'Age': {24: 0}}}}}}}}}}}}}}, 0.61: {'Pregnancies': {4: {'Glucose': {90: {'BloodPressure': {0: {'SkinThickness': {0: {'Insulin': {0: {'BMI': {28.0: {'Age': {31: 0}}}}}}}}}}}}}}, 0.73: {'Pregnancies': {3: {'Glucose': {103: {'BloodPressure': {72: {'SkinThickness': {30: {'Insulin': {152: {'BMI': {27.6: {'Age': {27: 0}}}}}}}}}}}}}}, 0.447: {'Pregnancies': {1: {'Glucose': {167: {'BloodPressure': {74: {'SkinThickness': {17: {'Insulin': {144: {'BMI': {23.4: {'Age': {33: 1}}}}}}}}}}}}}}, 0.455: {'Pregnancies': {0: {'Glucose': {179: {'BloodPressure': {50: {'SkinThickness': {36: {'Insulin': {159: {'BMI': {37.8: {'Age': {22: 1}}}}}}}}}}}}, 2: {'Glucose': {120: {'BloodPressure': {54: {'SkinThickness': {0: {'Insulin': {0: {'BMI': {26.8: {'Age': {27: 0}}}}}}}}}}}}}}, 0.133: {'Pregnancies': {0: {'Glucose': {107: {'BloodPressure': {60: {'SkinThickness': {25: {'Insulin': {0: {'BMI': {26.4: {'Age': {23: 0}}}}}}}}}}}}}}, 0.155: {'Pregnancies': {2: {'Glucose': {101: {'BloodPressure': {58: {'SkinThickness': {35: {'Insulin': {90: {'BMI': {21.8: {'Age': {22: 0}}}}}}}}}}}}}}, 1.162: {'Pregnancies': {1: {'Glucose': {120: {'BloodPressure': {80: {'SkinThickness': {48: {'Insulin': {200: {'BMI': {38.9: {'Age': {41: 0}}}}}}}}}}}}}}, 1.292: {'Pregnancies': {3: {'Glucose': {80: {'BloodPressure': {82: {'SkinThickness': {31: {'Insulin': {70: {'BMI': {34.2: {'Age': {27: 1}}}}}}}}}}}}}}, 0.182: {'Pregnancies': {10: {'Glucose': {162: {'BloodPressure': {84: {'SkinThickness': {0: {'Insulin': {0: {'BMI': {27.7: {'Age': {54: 0}}}}}}}}}}}}}}, 1.394: {'Pregnancies': {1: {'Glucose': {199: {'BloodPressure': {76: {'SkinThickness': {43: {'Insulin': {0: {'BMI': {42.9: {'Age': {22: 1}}}}}}}}}}}}}}, 0.217: {'Pregnancies': {1: {'Glucose': {112: {'BloodPressure': {80: {'SkinThickness': {45: {'Insulin': {132: {'BMI': {34.8: {'Age': {24: 0}}}}}}}}}}}}}}, 0.631: {'Pregnancies': {6: {'Glucose': {165: {'BloodPressure': {68: {'SkinThickness': {26: {'Insulin': {168: {'BMI': {33.6: {'Age': {49: 0}}}}}}}}}}}}}}, 0.88: {'Pregnancies': {3: {'Glucose': {123: {'BloodPressure': {100: {'SkinThickness': {35: {'Insulin': {240: {'BMI': {57.3: {'Age': {22: 0}}}}}}}}}}}}}}, 0.614: {'Pregnancies': {2: {'Glucose': {101: {'BloodPressure': {58: {'SkinThickness': {17: {'Insulin': {265: {'BMI': {24.2: {'Age': {23: 0}}}}}}}}}}}}}}, 0.332: {'Pregnancies': {2: {'Glucose': {56: {'BloodPressure': {56: {'SkinThickness': {28: {'Insulin': {45: {'BMI': {24.2: {'Age': {22: 0}}}}}}}}}}}}}}, 0.366: {'Pregnancies': {0: {'Glucose': {95: {'BloodPressure': {64: {'SkinThickness': {39: {'Insulin': {105: {'BMI': {44.6: {'Age': {22: 0}}}}}}}}}}}}}}, 0.181: {'Pregnancies': {1: {'Glucose': {107: {'BloodPressure': {50: {'SkinThickness': {19: {'Insulin': {0: {'BMI': {28.3: {'Age': {29: 0}}}}}}}}}}}}}}, 0.828: {'Pregnancies': {1: {'Glucose': {140: {'BloodPressure': {74: {'SkinThickness': {26: {'Insulin': {180: {'BMI': {24.1: {'Age': {23: 0}}}}}}}}}}}}}}, 0.335: {'Pregnancies': {1: {'Glucose': {144: {'BloodPressure': {82: {'SkinThickness': {46: {'Insulin': {180: {'BMI': {46.1: {'Age': {46: 1}}}}}}}}}}}}}}, 0.856: {'Pregnancies': {8: {'Glucose': {107: {'BloodPressure': {80: {'SkinThickness': {0: {'Insulin': {0: {'BMI': {24.6: {'Age': {34: 0}}}}}}}}}}}}}}, 0.886: {'Pregnancies': {2: {'Glucose': {121: {'BloodPressure': {70: {'SkinThickness': {32: {'Insulin': {95: {'BMI': {39.1: {'Age': {23: 0}}}}}}}}}}}}}}, 0.439: {'Pregnancies': {7: {'Glucose': {129: {'BloodPressure': {68: {'SkinThickness': {49: {'Insulin': {125: {'BMI': {38.5: {'Age': {43: 1}}}}}}}}}}}}, 5: {'Glucose': {126: {'BloodPressure': {78: {'SkinThickness': {27: {'Insulin': {22: {'BMI': {29.6: {'Age': {40: 0}}}}}}}}}}}}}}, 0.253: {'Pregnancies': {0: {'Glucose': {99: {'BloodPressure': {0: {'SkinThickness': {0: {'Insulin': {0: {'BMI': {25.0: {'Age': {22: 0}}}}}}}}}}}}}}, 0.598: {'Pregnancies': {4: {'Glucose': {127: {'BloodPressure': {88: {'SkinThickness': {11: {'Insulin': {155: {'BMI': {34.5: {'Age': {28: 0}}}}}}}}}}}}}}, 0.904: {'Pregnancies': {4: {'Glucose': {118: {'BloodPressure': {70: {'SkinThickness': {0: {'Insulin': {0: {'BMI': {44.5: {'Age': {26: 0}}}}}}}}}}}}}}, 0.483: {'Pregnancies': {2: {'Glucose': {122: {'BloodPressure': {76: {'SkinThickness': {27: {'Insulin': {200: {'BMI': {35.9: {'Age': {26: 0}}}}}}}}}}}}}}, 0.565: {'Pregnancies': {6: {'Glucose': {125: {'BloodPressure': {78: {'SkinThickness': {31: {'Insulin': {0: {'BMI': {27.6: {'Age': {49: 1}}}}}}}}}}}}}}, 0.118: {'Pregnancies': {4: {'Glucose': {110: {'BloodPressure': {76: {'SkinThickness': {20: {'Insulin': {100: {'BMI': {28.4: {'Age': {27: 0}}}}}}}}}}}}}}, 0.177: {'Pregnancies': {6: {'Glucose': {80: {'BloodPressure': {80: {'SkinThickness': {36: {'Insulin': {0: {'BMI': {39.8: {'Age': {28: 0}}}}}}}}}}}}}}, 0.176: {'Pregnancies': {2: {'Glucose': {127: {'BloodPressure': {46: {'SkinThickness': {21: {'Insulin': {335: {'BMI': {34.4: {'Age': {22: 0}}}}}}}}}}}}}}, 0.295: {'Pregnancies': {3: {'Glucose': {158: {'BloodPressure': {64: {'SkinThickness': {13: {'Insulin': {387: {'BMI': {31.2: {'Age': {24: 0}}}}}}}}}}}}}}, 0.441: {'Pregnancies': {10: {'Glucose': {129: {'BloodPressure': {62: {'SkinThickness': {36: {'Insulin': {0: {'BMI': {41.2: {'Age': {38: 1}}}}}}}}}}}}}}, 0.352: {'Pregnancies': {0: {'Glucose': {134: {'BloodPressure': {58: {'SkinThickness': {20: {'Insulin': {291: {'BMI': {26.4: {'Age': {21: 0}}}}}}}}}}}}}}, 0.826: {'Pregnancies': {7: {'Glucose': {187: {'BloodPressure': {50: {'SkinThickness': {33: {'Insulin': {392: {'BMI': {33.9: {'Age': {34: 1}}}}}}}}}}}}}}, 0.97: {'Pregnancies': {3: {'Glucose': {173: {'BloodPressure': {78: {'SkinThickness': {39: {'Insulin': {185: {'BMI': {33.8: {'Age': {31: 1}}}}}}}}}}}}}}, 0.595: {'Pregnancies': {10: {'Glucose': {94: {'BloodPressure': {72: {'SkinThickness': {18: {'Insulin': {0: {'BMI': {23.1: {'Age': {56: 0}}}}}}}}}}}}}}, 0.317: {'Pregnancies': {4: {'Glucose': {83: {'BloodPressure': {86: {'SkinThickness': {19: {'Insulin': {0: {'BMI': {29.3: {'Age': {34: 0}}}}}}}}}}}}}}, 0.265: {'Pregnancies': {1: {'Glucose': {111: {'BloodPressure': {94: {'SkinThickness': {0: {'Insulin': {0: {'BMI': {32.8: {'Age': {45: 0}}}}}}}}}}}}}}, 0.646: {'Pregnancies': {2: {'Glucose': {174: {'BloodPressure': {88: {'SkinThickness': {37: {'Insulin': {120: {'BMI': {44.5: {'Age': {24: 1}}}}}}}}}}}}}}, 0.426: {'Pregnancies': {2: {'Glucose': {106: {'BloodPressure': {56: {'SkinThickness': {27: {'Insulin': {165: {'BMI': {29.0: {'Age': {22: 0}}}}}}}}}}}}}}, 0.56: {'Pregnancies': {2: {'Glucose': {105: {'BloodPressure': {75: {'SkinThickness': {0: {'Insulin': {0: {'BMI': {23.3: {'Age': {53: 0}}}}}}}}}}}}}}, 0.515: {'Pregnancies': {0: {'Glucose': {126: {'BloodPressure': {86: {'SkinThickness': {27: {'Insulin': {120: {'BMI': {27.4: {'Age': {21: 0}}}}}}}}}}}}}}, 0.453: {'Pregnancies': {2: {'Glucose': {99: {'BloodPressure': {60: {'SkinThickness': {17: {'Insulin': {160: {'BMI': {36.6: {'Age': {21: 0}}}}}}}}}}}}}}, 0.785: {'Pregnancies': {11: {'Glucose': {120: {'BloodPressure': {80: {'SkinThickness': {37: {'Insulin': {150: {'BMI': {42.3: {'Age': {48: 1}}}}}}}}}}}}}}, 0.734: {'Pregnancies': {9: {'Glucose': {140: {'BloodPressure': {94: {'SkinThickness': {0: {'Insulin': {0: {'BMI': {32.7: {'Age': {45: 1}}}}}}}}}}}}}}, 1.174: {'Pregnancies': {13: {'Glucose': {153: {'BloodPressure': {88: {'SkinThickness': {37: {'Insulin': {140: {'BMI': {40.6: {'Age': {39: 0}}}}}}}}}}}}}}, 0.488: {'Pregnancies': {12: {'Glucose': {100: {'BloodPressure': {84: {'SkinThickness': {33: {'Insulin': {105: {'BMI': {30.0: {'Age': {46: 0}}}}}}}}}}}}}}, 0.358: {'Pregnancies': {1: {'Glucose': {147: {'BloodPressure': {94: {'SkinThickness': {41: {'Insulin': {0: {'BMI': {49.3: {'Age': {27: 1}}}}}}}}}}}}}}, 1.096: {'Pregnancies': {1: {'Glucose': {81: {'BloodPressure': {74: {'SkinThickness': {41: {'Insulin': {57: {'BMI': {46.3: {'Age': {32: 0}}}}}}}}}}}}}}, 0.408: {'Pregnancies': {3: {'Glucose': {187: {'BloodPressure': {70: {'SkinThickness': {22: {'Insulin': {200: {'BMI': {36.4: {'Age': {36: 1}}}}}}}}}}}}}}, 1.182: {'Pregnancies': {4: {'Glucose': {136: {'BloodPressure': {70: {'SkinThickness': {0: {'Insulin': {0: {'BMI': {31.2: {'Age': {22: 1}}}}}}}}}}}}}}, 0.222: {'Pregnancies': {0: {'Glucose': {181: {'BloodPressure': {88: {'SkinThickness': {44: {'Insulin': {510: {'BMI': {43.3: {'Age': {26: 1}}}}}}}}}}}}}}, 1.057: {'Pregnancies': {1: {'Glucose': {128: {'BloodPressure': {88: {'SkinThickness': {39: {'Insulin': {110: {'BMI': {36.5: {'Age': {37: 1}}}}}}}}}}}}}}, 0.766: {'Pregnancies': {2: {'Glucose': {88: {'BloodPressure': {58: {'SkinThickness': {26: {'Insulin': {16: {'BMI': {28.4: {'Age': {22: 0}}}}}}}}}}}}}}, 0.171: {'Pregnancies': {10: {'Glucose': {101: {'BloodPressure': {76: {'SkinThickness': {48: {'Insulin': {180: {'BMI': {32.9: {'Age': {63: 0}}}}}}}}}}}}}}}}\n"
          ]
        }
      ]
    },
    {
      "cell_type": "code",
      "source": [
        "#Membuat fungsi untuk memprediksi hasil dari dataset menggunakan pohon keputusan yang telah dibangun. \n",
        "#Berikut adalah implementasi fungsi predict:\n",
        "def predict(tree, df3):\n",
        "    if type(tree) != dict:\n",
        "        return tree\n",
        "    attribute = list(tree.keys())[0]\n",
        "    value = df3[attribute]\n",
        "    if value not in tree[attribute]:\n",
        "        return 0\n",
        "    subtree = tree[attribute][value]\n",
        "    return predict(subtree, df3)"
      ],
      "metadata": {
        "id": "6Ah_8d28b4jH"
      },
      "execution_count": 41,
      "outputs": []
    },
    {
      "cell_type": "code",
      "source": [
        "#Membuat fungsi untuk menghitung matriks evaluasi menggunakan library scikit-learn. Berikut adalah implementasi fungsi evaluate:\n",
        "from sklearn.metrics import accuracy_score, precision_score, recall_score, f1_score, roc_auc_score\n",
        "def evaluate(tree, df3):\n",
        "    predicted = []\n",
        "    actual = []\n",
        "    for i in range(len(df3)):\n",
        "        predicted.append(predict(tree, df3.iloc[i]))\n",
        "        actual.append(df3.iloc[i][-1])\n",
        "    accuracy = accuracy_score(actual, predicted)\n",
        "    precision = precision_score(actual, predicted)\n",
        "    recall = recall_score(actual, predicted)\n",
        "    f1 = f1_score(actual, predicted)\n",
        "    auc = roc_auc_score(actual, predicted)\n",
        "    return [accuracy, precision, recall, f1, auc]"
      ],
      "metadata": {
        "id": "2RnlXGCIb_yH"
      },
      "execution_count": 42,
      "outputs": []
    },
    {
      "cell_type": "code",
      "source": [
        "#Memanggil fungsi evaluate dengan menggunakan dataset yang sama dengan dataset yang digunakan untuk membangun pohon keputusan. \n",
        "#Berikut adalah implementasi kode:\n",
        "result = evaluate(decision_tree, df3)\n",
        "print(\"Accuracy:\", result[0])\n",
        "print(\"Precision:\", result[1])\n",
        "print(\"Recall:\", result[2])\n",
        "print(\"F1 Score:\", result[3])\n",
        "print(\"AUC:\", result[4])"
      ],
      "metadata": {
        "colab": {
          "base_uri": "https://localhost:8080/"
        },
        "id": "qHFDUtupcDSB",
        "outputId": "1386876a-925b-4d13-afe0-92a4f01839ec"
      },
      "execution_count": 43,
      "outputs": [
        {
          "output_type": "stream",
          "name": "stdout",
          "text": [
            "Accuracy: 1.0\n",
            "Precision: 1.0\n",
            "Recall: 1.0\n",
            "F1 Score: 1.0\n",
            "AUC: 1.0\n"
          ]
        }
      ]
    },
    {
      "cell_type": "code",
      "source": [
        "#Terakhir, kita dapat memvisualisasikan matriks evaluasi menggunakan matplotlib.\n",
        "#Berikut adalah implementasi kode untuk memvisualisasikan matriks evaluasi:\n",
        "labels = ['Accuracy', 'Precision', 'Recall', 'F1 Score', 'AUC']\n",
        "values = result\n",
        "plt.bar(labels, values)\n",
        "plt.ylim(0, 1)\n",
        "plt.title('Evaluation Metrics')\n",
        "plt.show()\n",
        "#hasilnya menunjukkan nilai 1.0 semua\n",
        "#ini menandakan matriks evaluasi menunjukkan bahwa model pohon keputusan memiliki performa yang sangat baik pada dataset yang digunakan"
      ],
      "metadata": {
        "colab": {
          "base_uri": "https://localhost:8080/",
          "height": 452
        },
        "id": "k9OoZaAecIa6",
        "outputId": "42f48710-5f5a-4935-f59d-14b98a0116a9"
      },
      "execution_count": 44,
      "outputs": [
        {
          "output_type": "display_data",
          "data": {
            "text/plain": [
              "<Figure size 640x480 with 1 Axes>"
            ],
            "image/png": "[encoded data removed]"
          },
          "metadata": {}
        }
      ]
    },
    {
      "cell_type": "markdown",
      "source": [
        "# **KNN**"
      ],
      "metadata": {
        "id": "66GMTeNilr9f"
      }
    },
    {
      "cell_type": "code",
      "source": [
        "#mengimport library\n",
        "from sklearn.preprocessing import StandardScaler\n",
        "from sklearn.neighbors import KNeighborsClassifier\n",
        "from sklearn.metrics import accuracy_score, precision_score, recall_score, f1_score, roc_auc_score"
      ],
      "metadata": {
        "id": "gPYchCw3mOtO"
      },
      "execution_count": 45,
      "outputs": []
    },
    {
      "cell_type": "code",
      "source": [
        "#melihat 5 data teratas\n",
        "df3.head()"
      ],
      "metadata": {
        "id": "JU6k70tZm4ZA",
        "colab": {
          "base_uri": "https://localhost:8080/",
          "height": 206
        },
        "outputId": "f5b2bee8-89f2-4711-b2ae-030fcca5a28e"
      },
      "execution_count": 46,
      "outputs": [
        {
          "output_type": "execute_result",
          "data": {
            "text/plain": [
              "   Pregnancies  Glucose  BloodPressure  SkinThickness  Insulin   BMI  \\\n",
              "0            6      148             72             35        0  33.6   \n",
              "1            1       85             66             29        0  26.6   \n",
              "2            8      183             64              0        0  23.3   \n",
              "3            1       89             66             23       94  28.1   \n",
              "4            0      137             40             35      168  43.1   \n",
              "\n",
              "   DiabetesPedigreeFunction  Age  Outcome  \n",
              "0                     0.627   50        1  \n",
              "1                     0.351   31        0  \n",
              "2                     0.672   32        1  \n",
              "3                     0.167   21        0  \n",
              "4                     2.288   33        1  "
            ],
            "text/html": [
              "\n",
              "  <div id=\"df-1e41a553-df37-42cd-ade6-60726fc74084\">\n",
              "    <div class=\"colab-df-container\">\n",
              "      <div>\n",
              "<style scoped>\n",
              "    .dataframe tbody tr th:only-of-type {\n",
              "        vertical-align: middle;\n",
              "    }\n",
              "\n",
              "    .dataframe tbody tr th {\n",
              "        vertical-align: top;\n",
              "    }\n",
              "\n",
              "    .dataframe thead th {\n",
              "        text-align: right;\n",
              "    }\n",
              "</style>\n",
              "<table border=\"1\" class=\"dataframe\">\n",
              "  <thead>\n",
              "    <tr style=\"text-align: right;\">\n",
              "      <th></th>\n",
              "      <th>Pregnancies</th>\n",
              "      <th>Glucose</th>\n",
              "      <th>BloodPressure</th>\n",
              "      <th>SkinThickness</th>\n",
              "      <th>Insulin</th>\n",
              "      <th>BMI</th>\n",
              "      <th>DiabetesPedigreeFunction</th>\n",
              "      <th>Age</th>\n",
              "      <th>Outcome</th>\n",
              "    </tr>\n",
              "  </thead>\n",
              "  <tbody>\n",
              "    <tr>\n",
              "      <th>0</th>\n",
              "      <td>6</td>\n",
              "      <td>148</td>\n",
              "      <td>72</td>\n",
              "      <td>35</td>\n",
              "      <td>0</td>\n",
              "      <td>33.6</td>\n",
              "      <td>0.627</td>\n",
              "      <td>50</td>\n",
              "      <td>1</td>\n",
              "    </tr>\n",
              "    <tr>\n",
              "      <th>1</th>\n",
              "      <td>1</td>\n",
              "      <td>85</td>\n",
              "      <td>66</td>\n",
              "      <td>29</td>\n",
              "      <td>0</td>\n",
              "      <td>26.6</td>\n",
              "      <td>0.351</td>\n",
              "      <td>31</td>\n",
              "      <td>0</td>\n",
              "    </tr>\n",
              "    <tr>\n",
              "      <th>2</th>\n",
              "      <td>8</td>\n",
              "      <td>183</td>\n",
              "      <td>64</td>\n",
              "      <td>0</td>\n",
              "      <td>0</td>\n",
              "      <td>23.3</td>\n",
              "      <td>0.672</td>\n",
              "      <td>32</td>\n",
              "      <td>1</td>\n",
              "    </tr>\n",
              "    <tr>\n",
              "      <th>3</th>\n",
              "      <td>1</td>\n",
              "      <td>89</td>\n",
              "      <td>66</td>\n",
              "      <td>23</td>\n",
              "      <td>94</td>\n",
              "      <td>28.1</td>\n",
              "      <td>0.167</td>\n",
              "      <td>21</td>\n",
              "      <td>0</td>\n",
              "    </tr>\n",
              "    <tr>\n",
              "      <th>4</th>\n",
              "      <td>0</td>\n",
              "      <td>137</td>\n",
              "      <td>40</td>\n",
              "      <td>35</td>\n",
              "      <td>168</td>\n",
              "      <td>43.1</td>\n",
              "      <td>2.288</td>\n",
              "      <td>33</td>\n",
              "      <td>1</td>\n",
              "    </tr>\n",
              "  </tbody>\n",
              "</table>\n",
              "</div>\n",
              "      <button class=\"colab-df-convert\" onclick=\"convertToInteractive('df-1e41a553-df37-42cd-ade6-60726fc74084')\"\n",
              "              title=\"Convert this dataframe to an interactive table.\"\n",
              "              style=\"display:none;\">\n",
              "        \n",
              "  <svg xmlns=\"http://www.w3.org/2000/svg\" height=\"24px\"viewBox=\"0 0 24 24\"\n",
              "       width=\"24px\">\n",
              "    <path d=\"M0 0h24v24H0V0z\" fill=\"none\"/>\n",
              "    <path d=\"M18.56 5.44l.94 2.06.94-2.06 2.06-.94-2.06-.94-.94-2.06-.94 2.06-2.06.94zm-11 1L8.5 8.5l.94-2.06 2.06-.94-2.06-.94L8.5 2.5l-.94 2.06-2.06.94zm10 10l.94 2.06.94-2.06 2.06-.94-2.06-.94-.94-2.06-.94 2.06-2.06.94z\"/><path d=\"M17.41 7.96l-1.37-1.37c-.4-.4-.92-.59-1.43-.59-.52 0-1.04.2-1.43.59L10.3 9.45l-7.72 7.72c-.78.78-.78 2.05 0 2.83L4 21.41c.39.39.9.59 1.41.59.51 0 1.02-.2 1.41-.59l7.78-7.78 2.81-2.81c.8-.78.8-2.07 0-2.86zM5.41 20L4 18.59l7.72-7.72 1.47 1.35L5.41 20z\"/>\n",
              "  </svg>\n",
              "      </button>\n",
              "      \n",
              "  <style>\n",
              "    .colab-df-container {\n",
              "      display:flex;\n",
              "      flex-wrap:wrap;\n",
              "      gap: 12px;\n",
              "    }\n",
              "\n",
              "    .colab-df-convert {\n",
              "      background-color: #E8F0FE;\n",
              "      border: none;\n",
              "      border-radius: 50%;\n",
              "      cursor: pointer;\n",
              "      display: none;\n",
              "      fill: #1967D2;\n",
              "      height: 32px;\n",
              "      padding: 0 0 0 0;\n",
              "      width: 32px;\n",
              "    }\n",
              "\n",
              "    .colab-df-convert:hover {\n",
              "      background-color: #E2EBFA;\n",
              "      box-shadow: 0px 1px 2px rgba(60, 64, 67, 0.3), 0px 1px 3px 1px rgba(60, 64, 67, 0.15);\n",
              "      fill: #174EA6;\n",
              "    }\n",
              "\n",
              "    [theme=dark] .colab-df-convert {\n",
              "      background-color: #3B4455;\n",
              "      fill: #D2E3FC;\n",
              "    }\n",
              "\n",
              "    [theme=dark] .colab-df-convert:hover {\n",
              "      background-color: #434B5C;\n",
              "      box-shadow: 0px 1px 3px 1px rgba(0, 0, 0, 0.15);\n",
              "      filter: drop-shadow(0px 1px 2px rgba(0, 0, 0, 0.3));\n",
              "      fill: #FFFFFF;\n",
              "    }\n",
              "  </style>\n",
              "\n",
              "      <script>\n",
              "        const buttonEl =\n",
              "          document.querySelector('#df-1e41a553-df37-42cd-ade6-60726fc74084 button.colab-df-convert');\n",
              "        buttonEl.style.display =\n",
              "          google.colab.kernel.accessAllowed ? 'block' : 'none';\n",
              "\n",
              "        async function convertToInteractive(key) {\n",
              "          const element = document.querySelector('#df-1e41a553-df37-42cd-ade6-60726fc74084');\n",
              "          const dataTable =\n",
              "            await google.colab.kernel.invokeFunction('convertToInteractive',\n",
              "                                                     [key], {});\n",
              "          if (!dataTable) return;\n",
              "\n",
              "          const docLinkHtml = 'Like what you see? Visit the ' +\n",
              "            '<a target=\"_blank\" href=https://colab.research.google.com/notebooks/data_table.ipynb>data table notebook</a>'\n",
              "            + ' to learn more about interactive tables.';\n",
              "          element.innerHTML = '';\n",
              "          dataTable['output_type'] = 'display_data';\n",
              "          await google.colab.output.renderOutput(dataTable, element);\n",
              "          const docLink = document.createElement('div');\n",
              "          docLink.innerHTML = docLinkHtml;\n",
              "          element.appendChild(docLink);\n",
              "        }\n",
              "      </script>\n",
              "    </div>\n",
              "  </div>\n",
              "  "
            ]
          },
          "metadata": {},
          "execution_count": 46
        }
      ]
    },
    {
      "cell_type": "code",
      "source": [
        "#melakukan normalisasi agar data dapat dibandingkan lebih mudah\n",
        "scaler = StandardScaler()\n",
        "X_train = scaler.fit_transform(X_train)\n",
        "X_test = scaler.transform(X_test)"
      ],
      "metadata": {
        "id": "cGXq-NHOngYw"
      },
      "execution_count": 47,
      "outputs": []
    },
    {
      "cell_type": "code",
      "source": [
        "#model knn pada data training\n",
        "k = 5\n",
        "knn = KNeighborsClassifier(n_neighbors=k)\n",
        "knn.fit(X_train, y_train)"
      ],
      "metadata": {
        "id": "1H3TpySUnjft",
        "colab": {
          "base_uri": "https://localhost:8080/",
          "height": 75
        },
        "outputId": "334cf895-1e89-436b-d723-b4fce22a2eee"
      },
      "execution_count": 48,
      "outputs": [
        {
          "output_type": "execute_result",
          "data": {
            "text/plain": [
              "KNeighborsClassifier()"
            ],
            "text/html": [
              "<style>#sk-container-id-1 {color: black;background-color: white;}#sk-container-id-1 pre{padding: 0;}#sk-container-id-1 div.sk-toggleable {background-color: white;}#sk-container-id-1 label.sk-toggleable__label {cursor: pointer;display: block;width: 100%;margin-bottom: 0;padding: 0.3em;box-sizing: border-box;text-align: center;}#sk-container-id-1 label.sk-toggleable__label-arrow:before {content: \"▸\";float: left;margin-right: 0.25em;color: #696969;}#sk-container-id-1 label.sk-toggleable__label-arrow:hover:before {color: black;}#sk-container-id-1 div.sk-estimator:hover label.sk-toggleable__label-arrow:before {color: black;}#sk-container-id-1 div.sk-toggleable__content {max-height: 0;max-width: 0;overflow: hidden;text-align: left;background-color: #f0f8ff;}#sk-container-id-1 div.sk-toggleable__content pre {margin: 0.2em;color: black;border-radius: 0.25em;background-color: #f0f8ff;}#sk-container-id-1 input.sk-toggleable__control:checked~div.sk-toggleable__content {max-height: 200px;max-width: 100%;overflow: auto;}#sk-container-id-1 input.sk-toggleable__control:checked~label.sk-toggleable__label-arrow:before {content: \"▾\";}#sk-container-id-1 div.sk-estimator input.sk-toggleable__control:checked~label.sk-toggleable__label {background-color: #d4ebff;}#sk-container-id-1 div.sk-label input.sk-toggleable__control:checked~label.sk-toggleable__label {background-color: #d4ebff;}#sk-container-id-1 input.sk-hidden--visually {border: 0;clip: rect(1px 1px 1px 1px);clip: rect(1px, 1px, 1px, 1px);height: 1px;margin: -1px;overflow: hidden;padding: 0;position: absolute;width: 1px;}#sk-container-id-1 div.sk-estimator {font-family: monospace;background-color: #f0f8ff;border: 1px dotted black;border-radius: 0.25em;box-sizing: border-box;margin-bottom: 0.5em;}#sk-container-id-1 div.sk-estimator:hover {background-color: #d4ebff;}#sk-container-id-1 div.sk-parallel-item::after {content: \"\";width: 100%;border-bottom: 1px solid gray;flex-grow: 1;}#sk-container-id-1 div.sk-label:hover label.sk-toggleable__label {background-color: #d4ebff;}#sk-container-id-1 div.sk-serial::before {content: \"\";position: absolute;border-left: 1px solid gray;box-sizing: border-box;top: 0;bottom: 0;left: 50%;z-index: 0;}#sk-container-id-1 div.sk-serial {display: flex;flex-direction: column;align-items: center;background-color: white;padding-right: 0.2em;padding-left: 0.2em;position: relative;}#sk-container-id-1 div.sk-item {position: relative;z-index: 1;}#sk-container-id-1 div.sk-parallel {display: flex;align-items: stretch;justify-content: center;background-color: white;position: relative;}#sk-container-id-1 div.sk-item::before, #sk-container-id-1 div.sk-parallel-item::before {content: \"\";position: absolute;border-left: 1px solid gray;box-sizing: border-box;top: 0;bottom: 0;left: 50%;z-index: -1;}#sk-container-id-1 div.sk-parallel-item {display: flex;flex-direction: column;z-index: 1;position: relative;background-color: white;}#sk-container-id-1 div.sk-parallel-item:first-child::after {align-self: flex-end;width: 50%;}#sk-container-id-1 div.sk-parallel-item:last-child::after {align-self: flex-start;width: 50%;}#sk-container-id-1 div.sk-parallel-item:only-child::after {width: 0;}#sk-container-id-1 div.sk-dashed-wrapped {border: 1px dashed gray;margin: 0 0.4em 0.5em 0.4em;box-sizing: border-box;padding-bottom: 0.4em;background-color: white;}#sk-container-id-1 div.sk-label label {font-family: monospace;font-weight: bold;display: inline-block;line-height: 1.2em;}#sk-container-id-1 div.sk-label-container {text-align: center;}#sk-container-id-1 div.sk-container {/* jupyter's `normalize.less` sets `[hidden] { display: none; }` but bootstrap.min.css set `[hidden] { display: none !important; }` so we also need the `!important` here to be able to override the default hidden behavior on the sphinx rendered scikit-learn.org. See: https://github.com/scikit-learn/scikit-learn/issues/21755 */display: inline-block !important;position: relative;}#sk-container-id-1 div.sk-text-repr-fallback {display: none;}</style><div id=\"sk-container-id-1\" class=\"sk-top-container\"><div class=\"sk-text-repr-fallback\"><pre>KNeighborsClassifier()</pre><b>In a Jupyter environment, please rerun this cell to show the HTML representation or trust the notebook. <br />On GitHub, the HTML representation is unable to render, please try loading this page with nbviewer.org.</b></div><div class=\"sk-container\" hidden><div class=\"sk-item\"><div class=\"sk-estimator sk-toggleable\"><input class=\"sk-toggleable__control sk-hidden--visually\" id=\"sk-estimator-id-1\" type=\"checkbox\" checked><label for=\"sk-estimator-id-1\" class=\"sk-toggleable__label sk-toggleable__label-arrow\">KNeighborsClassifier</label><div class=\"sk-toggleable__content\"><pre>KNeighborsClassifier()</pre></div></div></div></div></div>"
            ]
          },
          "metadata": {},
          "execution_count": 48
        }
      ]
    },
    {
      "cell_type": "code",
      "source": [
        "#membuat variable baru berupa y_pred yang isinya berupa prediksi yang diambil dari x_test\n",
        "y_pred = knn.predict(X_test)"
      ],
      "metadata": {
        "id": "W51pfiZ9nob5"
      },
      "execution_count": 49,
      "outputs": []
    },
    {
      "cell_type": "code",
      "source": [
        "#menghitung matriks evaluasi menggunakan accuracy, precision, dll  \n",
        "accuracy = accuracy_score(y_test, y_pred)\n",
        "precision = precision_score(y_test, y_pred)\n",
        "recall = recall_score(y_test, y_pred)\n",
        "f1 = f1_score(y_test, y_pred)\n",
        "auc = roc_auc_score(y_test, y_pred)\n",
        "\n",
        "#mengeluarkan hasilnya\n",
        "print(\"Accuracy:\", accuracy)\n",
        "print(\"Precision:\", precision)\n",
        "print(\"Recall:\", recall)\n",
        "print(\"F1-score:\", f1)\n",
        "print(\"AUC:\", auc)"
      ],
      "metadata": {
        "colab": {
          "base_uri": "https://localhost:8080/"
        },
        "id": "EU6QKXbAnqft",
        "outputId": "4cb27f31-8aff-409d-882e-c37d47097794"
      },
      "execution_count": 50,
      "outputs": [
        {
          "output_type": "stream",
          "name": "stdout",
          "text": [
            "Accuracy: 0.7368421052631579\n",
            "Precision: 0.6666666666666666\n",
            "Recall: 0.5185185185185185\n",
            "F1-score: 0.5833333333333334\n",
            "AUC: 0.6878306878306879\n"
          ]
        }
      ]
    },
    {
      "cell_type": "code",
      "source": [
        "#menyimpan daftar metrik evaluasi yang akan digunakan untuk mengevaluasi kinerja model.\n",
        "metrics = ['Accuracy', 'Precision', 'Recall', 'F1-score', 'AUC']\n",
        "values = [accuracy, precision, recall, f1, auc]"
      ],
      "metadata": {
        "id": "b5b99ZlMnsCO"
      },
      "execution_count": 51,
      "outputs": []
    },
    {
      "cell_type": "code",
      "source": [
        "#Melihat hasil visualisasinya\n",
        "sns.set_style(\"darkgrid\")\n",
        "plt.figure(figsize=(8, 4))\n",
        "sns.barplot(x=metrics, y=values)\n",
        "plt.title(\"k-NN Performance Metrics\")\n",
        "plt.show()\n",
        "\n",
        "#hasilnya\n",
        "#Accuracy: 0.7171052631578947\n",
        "#Precision: 0.6170212765957447\n",
        "#Recall: 0.5370370370370371\n",
        "#F1-score: 0.5742574257425743\n",
        "#AUC: 0.6766817838246411"
      ],
      "metadata": {
        "id": "IANiwAopnvFL",
        "colab": {
          "base_uri": "https://localhost:8080/",
          "height": 391
        },
        "outputId": "84f03002-7419-4685-ada8-162e2143d2e9"
      },
      "execution_count": 52,
      "outputs": [
        {
          "output_type": "display_data",
          "data": {
            "text/plain": [
              "<Figure size 800x400 with 1 Axes>"
            ],
            "image/png": "[encoded data removed]"
          },
          "metadata": {}
        }
      ]
    },
    {
      "cell_type": "markdown",
      "source": [
        "# **Naive Bayes**"
      ],
      "metadata": {
        "id": "p6auUZVh2hjE"
      }
    },
    {
      "cell_type": "code",
      "source": [
        "#mengimport library\n",
        "from sklearn.naive_bayes import GaussianNB\n",
        "from sklearn.metrics import accuracy_score, precision_score, recall_score, f1_score, roc_auc_score"
      ],
      "metadata": {
        "id": "h3TZuG2QoRc7"
      },
      "execution_count": 53,
      "outputs": []
    },
    {
      "cell_type": "code",
      "source": [
        "#melihat 5 data teratas\n",
        "df3.head()"
      ],
      "metadata": {
        "id": "qcPdKFD_pCit",
        "colab": {
          "base_uri": "https://localhost:8080/",
          "height": 206
        },
        "outputId": "86d2a14e-cd32-409b-9404-38a6c05f2e2e"
      },
      "execution_count": 54,
      "outputs": [
        {
          "output_type": "execute_result",
          "data": {
            "text/plain": [
              "   Pregnancies  Glucose  BloodPressure  SkinThickness  Insulin   BMI  \\\n",
              "0            6      148             72             35        0  33.6   \n",
              "1            1       85             66             29        0  26.6   \n",
              "2            8      183             64              0        0  23.3   \n",
              "3            1       89             66             23       94  28.1   \n",
              "4            0      137             40             35      168  43.1   \n",
              "\n",
              "   DiabetesPedigreeFunction  Age  Outcome  \n",
              "0                     0.627   50        1  \n",
              "1                     0.351   31        0  \n",
              "2                     0.672   32        1  \n",
              "3                     0.167   21        0  \n",
              "4                     2.288   33        1  "
            ],
            "text/html": [
              "\n",
              "  <div id=\"df-a5695532-9815-4134-9392-8073adaf60ef\">\n",
              "    <div class=\"colab-df-container\">\n",
              "      <div>\n",
              "<style scoped>\n",
              "    .dataframe tbody tr th:only-of-type {\n",
              "        vertical-align: middle;\n",
              "    }\n",
              "\n",
              "    .dataframe tbody tr th {\n",
              "        vertical-align: top;\n",
              "    }\n",
              "\n",
              "    .dataframe thead th {\n",
              "        text-align: right;\n",
              "    }\n",
              "</style>\n",
              "<table border=\"1\" class=\"dataframe\">\n",
              "  <thead>\n",
              "    <tr style=\"text-align: right;\">\n",
              "      <th></th>\n",
              "      <th>Pregnancies</th>\n",
              "      <th>Glucose</th>\n",
              "      <th>BloodPressure</th>\n",
              "      <th>SkinThickness</th>\n",
              "      <th>Insulin</th>\n",
              "      <th>BMI</th>\n",
              "      <th>DiabetesPedigreeFunction</th>\n",
              "      <th>Age</th>\n",
              "      <th>Outcome</th>\n",
              "    </tr>\n",
              "  </thead>\n",
              "  <tbody>\n",
              "    <tr>\n",
              "      <th>0</th>\n",
              "      <td>6</td>\n",
              "      <td>148</td>\n",
              "      <td>72</td>\n",
              "      <td>35</td>\n",
              "      <td>0</td>\n",
              "      <td>33.6</td>\n",
              "      <td>0.627</td>\n",
              "      <td>50</td>\n",
              "      <td>1</td>\n",
              "    </tr>\n",
              "    <tr>\n",
              "      <th>1</th>\n",
              "      <td>1</td>\n",
              "      <td>85</td>\n",
              "      <td>66</td>\n",
              "      <td>29</td>\n",
              "      <td>0</td>\n",
              "      <td>26.6</td>\n",
              "      <td>0.351</td>\n",
              "      <td>31</td>\n",
              "      <td>0</td>\n",
              "    </tr>\n",
              "    <tr>\n",
              "      <th>2</th>\n",
              "      <td>8</td>\n",
              "      <td>183</td>\n",
              "      <td>64</td>\n",
              "      <td>0</td>\n",
              "      <td>0</td>\n",
              "      <td>23.3</td>\n",
              "      <td>0.672</td>\n",
              "      <td>32</td>\n",
              "      <td>1</td>\n",
              "    </tr>\n",
              "    <tr>\n",
              "      <th>3</th>\n",
              "      <td>1</td>\n",
              "      <td>89</td>\n",
              "      <td>66</td>\n",
              "      <td>23</td>\n",
              "      <td>94</td>\n",
              "      <td>28.1</td>\n",
              "      <td>0.167</td>\n",
              "      <td>21</td>\n",
              "      <td>0</td>\n",
              "    </tr>\n",
              "    <tr>\n",
              "      <th>4</th>\n",
              "      <td>0</td>\n",
              "      <td>137</td>\n",
              "      <td>40</td>\n",
              "      <td>35</td>\n",
              "      <td>168</td>\n",
              "      <td>43.1</td>\n",
              "      <td>2.288</td>\n",
              "      <td>33</td>\n",
              "      <td>1</td>\n",
              "    </tr>\n",
              "  </tbody>\n",
              "</table>\n",
              "</div>\n",
              "      <button class=\"colab-df-convert\" onclick=\"convertToInteractive('df-a5695532-9815-4134-9392-8073adaf60ef')\"\n",
              "              title=\"Convert this dataframe to an interactive table.\"\n",
              "              style=\"display:none;\">\n",
              "        \n",
              "  <svg xmlns=\"http://www.w3.org/2000/svg\" height=\"24px\"viewBox=\"0 0 24 24\"\n",
              "       width=\"24px\">\n",
              "    <path d=\"M0 0h24v24H0V0z\" fill=\"none\"/>\n",
              "    <path d=\"M18.56 5.44l.94 2.06.94-2.06 2.06-.94-2.06-.94-.94-2.06-.94 2.06-2.06.94zm-11 1L8.5 8.5l.94-2.06 2.06-.94-2.06-.94L8.5 2.5l-.94 2.06-2.06.94zm10 10l.94 2.06.94-2.06 2.06-.94-2.06-.94-.94-2.06-.94 2.06-2.06.94z\"/><path d=\"M17.41 7.96l-1.37-1.37c-.4-.4-.92-.59-1.43-.59-.52 0-1.04.2-1.43.59L10.3 9.45l-7.72 7.72c-.78.78-.78 2.05 0 2.83L4 21.41c.39.39.9.59 1.41.59.51 0 1.02-.2 1.41-.59l7.78-7.78 2.81-2.81c.8-.78.8-2.07 0-2.86zM5.41 20L4 18.59l7.72-7.72 1.47 1.35L5.41 20z\"/>\n",
              "  </svg>\n",
              "      </button>\n",
              "      \n",
              "  <style>\n",
              "    .colab-df-container {\n",
              "      display:flex;\n",
              "      flex-wrap:wrap;\n",
              "      gap: 12px;\n",
              "    }\n",
              "\n",
              "    .colab-df-convert {\n",
              "      background-color: #E8F0FE;\n",
              "      border: none;\n",
              "      border-radius: 50%;\n",
              "      cursor: pointer;\n",
              "      display: none;\n",
              "      fill: #1967D2;\n",
              "      height: 32px;\n",
              "      padding: 0 0 0 0;\n",
              "      width: 32px;\n",
              "    }\n",
              "\n",
              "    .colab-df-convert:hover {\n",
              "      background-color: #E2EBFA;\n",
              "      box-shadow: 0px 1px 2px rgba(60, 64, 67, 0.3), 0px 1px 3px 1px rgba(60, 64, 67, 0.15);\n",
              "      fill: #174EA6;\n",
              "    }\n",
              "\n",
              "    [theme=dark] .colab-df-convert {\n",
              "      background-color: #3B4455;\n",
              "      fill: #D2E3FC;\n",
              "    }\n",
              "\n",
              "    [theme=dark] .colab-df-convert:hover {\n",
              "      background-color: #434B5C;\n",
              "      box-shadow: 0px 1px 3px 1px rgba(0, 0, 0, 0.15);\n",
              "      filter: drop-shadow(0px 1px 2px rgba(0, 0, 0, 0.3));\n",
              "      fill: #FFFFFF;\n",
              "    }\n",
              "  </style>\n",
              "\n",
              "      <script>\n",
              "        const buttonEl =\n",
              "          document.querySelector('#df-a5695532-9815-4134-9392-8073adaf60ef button.colab-df-convert');\n",
              "        buttonEl.style.display =\n",
              "          google.colab.kernel.accessAllowed ? 'block' : 'none';\n",
              "\n",
              "        async function convertToInteractive(key) {\n",
              "          const element = document.querySelector('#df-a5695532-9815-4134-9392-8073adaf60ef');\n",
              "          const dataTable =\n",
              "            await google.colab.kernel.invokeFunction('convertToInteractive',\n",
              "                                                     [key], {});\n",
              "          if (!dataTable) return;\n",
              "\n",
              "          const docLinkHtml = 'Like what you see? Visit the ' +\n",
              "            '<a target=\"_blank\" href=https://colab.research.google.com/notebooks/data_table.ipynb>data table notebook</a>'\n",
              "            + ' to learn more about interactive tables.';\n",
              "          element.innerHTML = '';\n",
              "          dataTable['output_type'] = 'display_data';\n",
              "          await google.colab.output.renderOutput(dataTable, element);\n",
              "          const docLink = document.createElement('div');\n",
              "          docLink.innerHTML = docLinkHtml;\n",
              "          element.appendChild(docLink);\n",
              "        }\n",
              "      </script>\n",
              "    </div>\n",
              "  </div>\n",
              "  "
            ]
          },
          "metadata": {},
          "execution_count": 54
        }
      ]
    },
    {
      "cell_type": "code",
      "source": [
        "#membuat klasifikasi naive bayes menggunakan gaussiannb\n",
        "nb = GaussianNB()"
      ],
      "metadata": {
        "id": "T5Z8FvVSw_Vk"
      },
      "execution_count": 55,
      "outputs": []
    },
    {
      "cell_type": "code",
      "source": [
        "#melatih model Naive Bayes dengan menggunakan data training \n",
        "nb.fit(X_train, y_train)"
      ],
      "metadata": {
        "id": "6nXtdbsmxDFJ",
        "colab": {
          "base_uri": "https://localhost:8080/",
          "height": 75
        },
        "outputId": "857ab0a9-8303-4fe3-eb58-1a2d7c137c5e"
      },
      "execution_count": 56,
      "outputs": [
        {
          "output_type": "execute_result",
          "data": {
            "text/plain": [
              "GaussianNB()"
            ],
            "text/html": [
              "<style>#sk-container-id-2 {color: black;background-color: white;}#sk-container-id-2 pre{padding: 0;}#sk-container-id-2 div.sk-toggleable {background-color: white;}#sk-container-id-2 label.sk-toggleable__label {cursor: pointer;display: block;width: 100%;margin-bottom: 0;padding: 0.3em;box-sizing: border-box;text-align: center;}#sk-container-id-2 label.sk-toggleable__label-arrow:before {content: \"▸\";float: left;margin-right: 0.25em;color: #696969;}#sk-container-id-2 label.sk-toggleable__label-arrow:hover:before {color: black;}#sk-container-id-2 div.sk-estimator:hover label.sk-toggleable__label-arrow:before {color: black;}#sk-container-id-2 div.sk-toggleable__content {max-height: 0;max-width: 0;overflow: hidden;text-align: left;background-color: #f0f8ff;}#sk-container-id-2 div.sk-toggleable__content pre {margin: 0.2em;color: black;border-radius: 0.25em;background-color: #f0f8ff;}#sk-container-id-2 input.sk-toggleable__control:checked~div.sk-toggleable__content {max-height: 200px;max-width: 100%;overflow: auto;}#sk-container-id-2 input.sk-toggleable__control:checked~label.sk-toggleable__label-arrow:before {content: \"▾\";}#sk-container-id-2 div.sk-estimator input.sk-toggleable__control:checked~label.sk-toggleable__label {background-color: #d4ebff;}#sk-container-id-2 div.sk-label input.sk-toggleable__control:checked~label.sk-toggleable__label {background-color: #d4ebff;}#sk-container-id-2 input.sk-hidden--visually {border: 0;clip: rect(1px 1px 1px 1px);clip: rect(1px, 1px, 1px, 1px);height: 1px;margin: -1px;overflow: hidden;padding: 0;position: absolute;width: 1px;}#sk-container-id-2 div.sk-estimator {font-family: monospace;background-color: #f0f8ff;border: 1px dotted black;border-radius: 0.25em;box-sizing: border-box;margin-bottom: 0.5em;}#sk-container-id-2 div.sk-estimator:hover {background-color: #d4ebff;}#sk-container-id-2 div.sk-parallel-item::after {content: \"\";width: 100%;border-bottom: 1px solid gray;flex-grow: 1;}#sk-container-id-2 div.sk-label:hover label.sk-toggleable__label {background-color: #d4ebff;}#sk-container-id-2 div.sk-serial::before {content: \"\";position: absolute;border-left: 1px solid gray;box-sizing: border-box;top: 0;bottom: 0;left: 50%;z-index: 0;}#sk-container-id-2 div.sk-serial {display: flex;flex-direction: column;align-items: center;background-color: white;padding-right: 0.2em;padding-left: 0.2em;position: relative;}#sk-container-id-2 div.sk-item {position: relative;z-index: 1;}#sk-container-id-2 div.sk-parallel {display: flex;align-items: stretch;justify-content: center;background-color: white;position: relative;}#sk-container-id-2 div.sk-item::before, #sk-container-id-2 div.sk-parallel-item::before {content: \"\";position: absolute;border-left: 1px solid gray;box-sizing: border-box;top: 0;bottom: 0;left: 50%;z-index: -1;}#sk-container-id-2 div.sk-parallel-item {display: flex;flex-direction: column;z-index: 1;position: relative;background-color: white;}#sk-container-id-2 div.sk-parallel-item:first-child::after {align-self: flex-end;width: 50%;}#sk-container-id-2 div.sk-parallel-item:last-child::after {align-self: flex-start;width: 50%;}#sk-container-id-2 div.sk-parallel-item:only-child::after {width: 0;}#sk-container-id-2 div.sk-dashed-wrapped {border: 1px dashed gray;margin: 0 0.4em 0.5em 0.4em;box-sizing: border-box;padding-bottom: 0.4em;background-color: white;}#sk-container-id-2 div.sk-label label {font-family: monospace;font-weight: bold;display: inline-block;line-height: 1.2em;}#sk-container-id-2 div.sk-label-container {text-align: center;}#sk-container-id-2 div.sk-container {/* jupyter's `normalize.less` sets `[hidden] { display: none; }` but bootstrap.min.css set `[hidden] { display: none !important; }` so we also need the `!important` here to be able to override the default hidden behavior on the sphinx rendered scikit-learn.org. See: https://github.com/scikit-learn/scikit-learn/issues/21755 */display: inline-block !important;position: relative;}#sk-container-id-2 div.sk-text-repr-fallback {display: none;}</style><div id=\"sk-container-id-2\" class=\"sk-top-container\"><div class=\"sk-text-repr-fallback\"><pre>GaussianNB()</pre><b>In a Jupyter environment, please rerun this cell to show the HTML representation or trust the notebook. <br />On GitHub, the HTML representation is unable to render, please try loading this page with nbviewer.org.</b></div><div class=\"sk-container\" hidden><div class=\"sk-item\"><div class=\"sk-estimator sk-toggleable\"><input class=\"sk-toggleable__control sk-hidden--visually\" id=\"sk-estimator-id-2\" type=\"checkbox\" checked><label for=\"sk-estimator-id-2\" class=\"sk-toggleable__label sk-toggleable__label-arrow\">GaussianNB</label><div class=\"sk-toggleable__content\"><pre>GaussianNB()</pre></div></div></div></div></div>"
            ]
          },
          "metadata": {},
          "execution_count": 56
        }
      ]
    },
    {
      "cell_type": "code",
      "source": [
        "#membuat variable baru berupa y_pred yang isinya berupa prediksi yang diambil dari x_test\n",
        "y_pred = nb.predict(X_test)"
      ],
      "metadata": {
        "id": "4gPgxfyVxE51"
      },
      "execution_count": 57,
      "outputs": []
    },
    {
      "cell_type": "code",
      "source": [
        "#menghitung matriks evaluasi\n",
        "accuracy = accuracy_score(y_test, y_pred)\n",
        "precision = precision_score(y_test, y_pred)\n",
        "recall = recall_score(y_test, y_pred)\n",
        "f1 = f1_score(y_test, y_pred)\n",
        "auc = roc_auc_score(y_test, y_pred)\n",
        "\n",
        "#mengeluarkan outputnya\n",
        "print(\"Accuracy:\", accuracy)\n",
        "print(\"Precision:\", precision)\n",
        "print(\"Recall:\", recall)\n",
        "print(\"F1-score:\", f1)\n",
        "print(\"AUC:\", auc)"
      ],
      "metadata": {
        "id": "1TUuaxTyxIDc",
        "colab": {
          "base_uri": "https://localhost:8080/"
        },
        "outputId": "98bd5eaf-ff63-4c1a-9cd9-33b9033c3722"
      },
      "execution_count": 58,
      "outputs": [
        {
          "output_type": "stream",
          "name": "stdout",
          "text": [
            "Accuracy: 0.7171052631578947\n",
            "Precision: 0.6170212765957447\n",
            "Recall: 0.5370370370370371\n",
            "F1-score: 0.5742574257425743\n",
            "AUC: 0.6766817838246411\n"
          ]
        }
      ]
    },
    {
      "cell_type": "code",
      "source": [
        "#membuat diagram batang\n",
        "metrics = [\"Accuracy\", \"Precision\", \"Recall\", \"F1-score\", \"AUC\"]\n",
        "values = [accuracy, precision, recall, f1, auc]\n",
        "\n",
        "fig, ax = plt.subplots()\n",
        "ax.bar(metrics, values)\n",
        "ax.set_ylim(0, 1)\n",
        "ax.set_title(\"Evaluation Metrics for Naive Bayes on Pima Indians Diabetes Dataset\")\n",
        "ax.set_xlabel(\"Metrics\")\n",
        "ax.set_ylabel(\"Value\")\n",
        "\n",
        "#menampilkan hasil diagram\n",
        "plt.show()\n",
        "\n",
        "#hasilnya :\n",
        "#Accuracy: 0.7171052631578947\n",
        "#Precision: 0.6170212765957447\n",
        "#Recall: 0.5370370370370371\n",
        "#F1-score: 0.5742574257425743\n",
        "#AUC: 0.6766817838246411"
      ],
      "metadata": {
        "colab": {
          "base_uri": "https://localhost:8080/",
          "height": 472
        },
        "id": "UN3apyygxLEU",
        "outputId": "26d3f104-a586-49e1-d5f5-916a555cd01b"
      },
      "execution_count": 59,
      "outputs": [
        {
          "output_type": "display_data",
          "data": {
            "text/plain": [
              "<Figure size 640x480 with 1 Axes>"
            ],
            "image/png": "[encoded data removed]"
          },
          "metadata": {}
        }
      ]
    },
    {
      "cell_type": "markdown",
      "source": [
        "# **Deployment**"
      ],
      "metadata": {
        "id": "cnLrk-QSH8uM"
      }
    },
    {
      "cell_type": "code",
      "source": [
        "df3.to_csv(\"output.csv\")"
      ],
      "metadata": {
        "id": "tzVsLaHLIAdJ"
      },
      "execution_count": 60,
      "outputs": []
    }
  ]
}